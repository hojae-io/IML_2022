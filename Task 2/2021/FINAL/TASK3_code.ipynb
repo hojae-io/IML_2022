{
 "cells": [
  {
   "cell_type": "code",
   "execution_count": 1,
   "metadata": {
    "collapsed": false
   },
   "outputs": [
   ],
   "source": [
    "# import packages\n",
    "import pandas as pd\n",
    "import numpy as np\n",
    "from tqdm import tqdm\n",
    "import pickle\n",
    "\n",
    "# import Sklearn packages\n",
    "from sklearn.datasets import load_linnerud\n",
    "\n",
    "from sklearn.multioutput import MultiOutputRegressor\n",
    "from sklearn.linear_model import Ridge\n",
    "from sklearn.metrics import r2_score\n",
    "from sklearn.model_selection import train_test_split"
   ]
  },
  {
   "cell_type": "code",
   "execution_count": 2,
   "metadata": {
    "collapsed": false
   },
   "outputs": [
   ],
   "source": [
    "all_features = ['pid','Time','Age','EtCO2', 'PTT', 'BUN', 'Lactate', 'Temp', 'Hgb', 'HCO3', 'BaseExcess', 'RRate', 'Fibrinogen', 'Phosphate', 'WBC', 'Creatinine', 'PaCO2', 'AST', 'FiO2', 'Platelets', 'SaO2', 'Glucose', 'ABPm', 'Magnesium', 'Potassium', 'ABPd', 'Calcium', 'Alkalinephos', 'SpO2', 'Bilirubin_direct', 'Chloride', 'Hct', 'Heartrate', 'Bilirubin_total', 'TroponinI', 'ABPs', 'pH']\n",
    "\n",
    "features = ['EtCO2', 'PTT', 'BUN', 'Lactate', 'Temp', 'Hgb', 'HCO3', 'BaseExcess', 'RRate', 'Fibrinogen', 'Phosphate', 'WBC', 'Creatinine', 'PaCO2', 'AST', 'FiO2', 'Platelets', 'SaO2', 'Glucose', 'ABPm', 'Magnesium', 'Potassium', 'ABPd', 'Calcium', 'Alkalinephos', 'SpO2', 'Bilirubin_direct', 'Chloride', 'Hct', 'Heartrate', 'Bilirubin_total', 'TroponinI', 'ABPs', 'pH']\n",
    "\n",
    "labels_test = ['LABEL_BaseExcess', 'LABEL_Fibrinogen', 'LABEL_AST', 'LABEL_Alkalinephos', 'LABEL_Bilirubin_total', 'LABEL_Lactate', 'LABEL_TroponinI', 'LABEL_SaO2', 'LABEL_Bilirubin_direct', 'LABEL_EtCO2']\n",
    "label_measure = ['LABEL_RRate', 'LABEL_ABPm', 'LABEL_SpO2','LABEL_Heartrate']"
   ]
  },
  {
   "cell_type": "code",
   "execution_count": 3,
   "metadata": {
    "collapsed": false
   },
   "outputs": [
   ],
   "source": [
    "## import data\n",
    "df_features = pd.read_csv(\"train_features.csv\")\n",
    "df_features = df_features.sort_values(by=['pid'])\n",
    "df_labels = pd.read_csv(\"train_labels.csv\")\n",
    "df_labels = df_labels.sort_values(by=['pid'])\n",
    "#print(df_labels) # ATTENTION: TIME IS NOT SORTED ANYMORE\n",
    "#df_features.count()"
   ]
  },
  {
   "cell_type": "code",
   "execution_count": 4,
   "metadata": {
    "collapsed": false,
    "scrolled": true
   },
   "outputs": [
   ],
   "source": [
    "with open('X_eng.pkl', 'rb') as f:\n",
    "\n",
    "    X = pickle.load(f)\n",
    "\n",
    "X = X.dropna()"
   ]
  },
  {
   "cell_type": "code",
   "execution_count": 5,
   "metadata": {
    "collapsed": false
   },
   "outputs": [
   ],
   "source": [
    "Y = df_labels[df_labels['pid'].isin(X['pid'])]\n",
    "Y = Y[label_measure]"
   ]
  },
  {
   "cell_type": "code",
   "execution_count": 6,
   "metadata": {
    "collapsed": false
   },
   "outputs": [
   ],
   "source": [
    "# Train/test split\n",
    "X = X.iloc[:,1:]\n",
    "X_train, X_test, y_train, y_test = train_test_split(X, Y, test_size=0.1)"
   ]
  },
  {
   "cell_type": "code",
   "execution_count": 7,
   "metadata": {
    "collapsed": false
   },
   "outputs": [
   ],
   "source": [
    "clf = MultiOutputRegressor(Ridge(random_state=123)).fit(X_train, y_train)"
   ]
  },
  {
   "cell_type": "code",
   "execution_count": 8,
   "metadata": {
    "collapsed": false
   },
   "outputs": [
   ],
   "source": [
    "y_pred = clf.predict(X_test)"
   ]
  },
  {
   "cell_type": "code",
   "execution_count": 9,
   "metadata": {
    "collapsed": false
   },
   "outputs": [
   ],
   "source": [
    "y_pred = pd.DataFrame(data=y_pred, index=None, columns=label_measure)"
   ]
  },
  {
   "cell_type": "code",
   "execution_count": 10,
   "metadata": {
    "collapsed": false
   },
   "outputs": [
    {
     "data": {
      "text/plain": [
       "0.7531804621227678"
      ]
     },
     "execution_count": 10,
     "metadata": {
     },
     "output_type": "execute_result"
    }
   ],
   "source": [
    "task3 = np.mean([0.5 + 0.5 * np.maximum(0, r2_score(y_test[entry], y_pred[entry])) for entry in label_measure])\n",
    "task3"
   ]
  },
  {
   "cell_type": "code",
   "execution_count": 11,
   "metadata": {
    "collapsed": false
   },
   "outputs": [
   ],
   "source": [
    "with open('X_handin_eng_nopid.pkl', 'rb') as f:\n",
    "    X_handin = pickle.load(f)\n",
    "X_handin = X_handin.dropna()"
   ]
  },
  {
   "cell_type": "code",
   "execution_count": 12,
   "metadata": {
    "collapsed": false
   },
   "outputs": [
    {
     "data": {
      "text/html": [
       "<div>\n",
       "<style scoped>\n",
       "    .dataframe tbody tr th:only-of-type {\n",
       "        vertical-align: middle;\n",
       "    }\n",
       "\n",
       "    .dataframe tbody tr th {\n",
       "        vertical-align: top;\n",
       "    }\n",
       "\n",
       "    .dataframe thead th {\n",
       "        text-align: right;\n",
       "    }\n",
       "</style>\n",
       "<table border=\"1\" class=\"dataframe\">\n",
       "  <thead>\n",
       "    <tr style=\"text-align: right;\">\n",
       "      <th></th>\n",
       "      <th>Age</th>\n",
       "      <th>EtCO2_min</th>\n",
       "      <th>EtCO2_max</th>\n",
       "      <th>EtCO2_med</th>\n",
       "      <th>EtCO2_std</th>\n",
       "      <th>EtCO2_a</th>\n",
       "      <th>EtCO2_b</th>\n",
       "      <th>PTT_min</th>\n",
       "      <th>PTT_max</th>\n",
       "      <th>PTT_med</th>\n",
       "      <th>...</th>\n",
       "      <th>ABPs_med</th>\n",
       "      <th>ABPs_std</th>\n",
       "      <th>ABPs_a</th>\n",
       "      <th>ABPs_b</th>\n",
       "      <th>pH_min</th>\n",
       "      <th>pH_max</th>\n",
       "      <th>pH_med</th>\n",
       "      <th>pH_std</th>\n",
       "      <th>pH_a</th>\n",
       "      <th>pH_b</th>\n",
       "    </tr>\n",
       "  </thead>\n",
       "  <tbody>\n",
       "    <tr>\n",
       "      <th>0</th>\n",
       "      <td>39</td>\n",
       "      <td>34.0</td>\n",
       "      <td>34.0</td>\n",
       "      <td>34.0</td>\n",
       "      <td>0.0</td>\n",
       "      <td>-1.234403e-15</td>\n",
       "      <td>34.0</td>\n",
       "      <td>30.60</td>\n",
       "      <td>44.20</td>\n",
       "      <td>30.60</td>\n",
       "      <td>...</td>\n",
       "      <td>120.5</td>\n",
       "      <td>8.357087</td>\n",
       "      <td>-0.500000</td>\n",
       "      <td>129.000000</td>\n",
       "      <td>7.34</td>\n",
       "      <td>7.40</td>\n",
       "      <td>7.38</td>\n",
       "      <td>1.337116e-02</td>\n",
       "      <td>1.188811e-03</td>\n",
       "      <td>7.370606</td>\n",
       "    </tr>\n",
       "    <tr>\n",
       "      <th>1</th>\n",
       "      <td>84</td>\n",
       "      <td>30.0</td>\n",
       "      <td>30.0</td>\n",
       "      <td>30.0</td>\n",
       "      <td>0.0</td>\n",
       "      <td>-2.254118e-15</td>\n",
       "      <td>30.0</td>\n",
       "      <td>32.90</td>\n",
       "      <td>32.90</td>\n",
       "      <td>32.90</td>\n",
       "      <td>...</td>\n",
       "      <td>121.0</td>\n",
       "      <td>24.196168</td>\n",
       "      <td>1.804196</td>\n",
       "      <td>105.272727</td>\n",
       "      <td>7.38</td>\n",
       "      <td>7.38</td>\n",
       "      <td>7.38</td>\n",
       "      <td>9.276721e-16</td>\n",
       "      <td>-2.732902e-16</td>\n",
       "      <td>7.380000</td>\n",
       "    </tr>\n",
       "    <tr>\n",
       "      <th>2</th>\n",
       "      <td>62</td>\n",
       "      <td>33.0</td>\n",
       "      <td>33.0</td>\n",
       "      <td>33.0</td>\n",
       "      <td>0.0</td>\n",
       "      <td>-7.468214e-16</td>\n",
       "      <td>33.0</td>\n",
       "      <td>31.50</td>\n",
       "      <td>31.50</td>\n",
       "      <td>31.50</td>\n",
       "      <td>...</td>\n",
       "      <td>106.5</td>\n",
       "      <td>10.823655</td>\n",
       "      <td>-1.923077</td>\n",
       "      <td>121.166667</td>\n",
       "      <td>7.37</td>\n",
       "      <td>7.37</td>\n",
       "      <td>7.37</td>\n",
       "      <td>9.276721e-16</td>\n",
       "      <td>-4.989413e-16</td>\n",
       "      <td>7.370000</td>\n",
       "    </tr>\n",
       "    <tr>\n",
       "      <th>3</th>\n",
       "      <td>71</td>\n",
       "      <td>33.0</td>\n",
       "      <td>33.0</td>\n",
       "      <td>33.0</td>\n",
       "      <td>0.0</td>\n",
       "      <td>-7.468214e-16</td>\n",
       "      <td>33.0</td>\n",
       "      <td>32.60</td>\n",
       "      <td>150.00</td>\n",
       "      <td>32.60</td>\n",
       "      <td>...</td>\n",
       "      <td>129.5</td>\n",
       "      <td>15.863767</td>\n",
       "      <td>1.451049</td>\n",
       "      <td>118.818182</td>\n",
       "      <td>7.36</td>\n",
       "      <td>7.40</td>\n",
       "      <td>7.37</td>\n",
       "      <td>9.374369e-03</td>\n",
       "      <td>-3.496503e-04</td>\n",
       "      <td>7.373939</td>\n",
       "    </tr>\n",
       "    <tr>\n",
       "      <th>4</th>\n",
       "      <td>51</td>\n",
       "      <td>33.0</td>\n",
       "      <td>33.0</td>\n",
       "      <td>33.0</td>\n",
       "      <td>0.0</td>\n",
       "      <td>-7.468214e-16</td>\n",
       "      <td>33.0</td>\n",
       "      <td>32.50</td>\n",
       "      <td>35.40</td>\n",
       "      <td>32.50</td>\n",
       "      <td>...</td>\n",
       "      <td>126.0</td>\n",
       "      <td>8.404094</td>\n",
       "      <td>1.947552</td>\n",
       "      <td>113.424242</td>\n",
       "      <td>7.37</td>\n",
       "      <td>7.37</td>\n",
       "      <td>7.37</td>\n",
       "      <td>9.276721e-16</td>\n",
       "      <td>-4.989413e-16</td>\n",
       "      <td>7.370000</td>\n",
       "    </tr>\n",
       "    <tr>\n",
       "      <th>...</th>\n",
       "      <td>...</td>\n",
       "      <td>...</td>\n",
       "      <td>...</td>\n",
       "      <td>...</td>\n",
       "      <td>...</td>\n",
       "      <td>...</td>\n",
       "      <td>...</td>\n",
       "      <td>...</td>\n",
       "      <td>...</td>\n",
       "      <td>...</td>\n",
       "      <td>...</td>\n",
       "      <td>...</td>\n",
       "      <td>...</td>\n",
       "      <td>...</td>\n",
       "      <td>...</td>\n",
       "      <td>...</td>\n",
       "      <td>...</td>\n",
       "      <td>...</td>\n",
       "      <td>...</td>\n",
       "      <td>...</td>\n",
       "      <td>...</td>\n",
       "    </tr>\n",
       "    <tr>\n",
       "      <th>12659</th>\n",
       "      <td>29</td>\n",
       "      <td>34.0</td>\n",
       "      <td>34.0</td>\n",
       "      <td>34.0</td>\n",
       "      <td>0.0</td>\n",
       "      <td>-1.234403e-15</td>\n",
       "      <td>34.0</td>\n",
       "      <td>31.75</td>\n",
       "      <td>31.75</td>\n",
       "      <td>31.75</td>\n",
       "      <td>...</td>\n",
       "      <td>108.5</td>\n",
       "      <td>5.166911</td>\n",
       "      <td>-0.181818</td>\n",
       "      <td>109.015152</td>\n",
       "      <td>7.37</td>\n",
       "      <td>7.37</td>\n",
       "      <td>7.37</td>\n",
       "      <td>9.276721e-16</td>\n",
       "      <td>-4.989413e-16</td>\n",
       "      <td>7.370000</td>\n",
       "    </tr>\n",
       "    <tr>\n",
       "      <th>12660</th>\n",
       "      <td>83</td>\n",
       "      <td>30.0</td>\n",
       "      <td>30.0</td>\n",
       "      <td>30.0</td>\n",
       "      <td>0.0</td>\n",
       "      <td>-2.254118e-15</td>\n",
       "      <td>30.0</td>\n",
       "      <td>28.80</td>\n",
       "      <td>33.00</td>\n",
       "      <td>33.00</td>\n",
       "      <td>...</td>\n",
       "      <td>119.0</td>\n",
       "      <td>12.099023</td>\n",
       "      <td>-0.989510</td>\n",
       "      <td>125.181818</td>\n",
       "      <td>7.26</td>\n",
       "      <td>7.38</td>\n",
       "      <td>7.38</td>\n",
       "      <td>4.923660e-02</td>\n",
       "      <td>3.636364e-03</td>\n",
       "      <td>7.329697</td>\n",
       "    </tr>\n",
       "    <tr>\n",
       "      <th>12661</th>\n",
       "      <td>74</td>\n",
       "      <td>31.5</td>\n",
       "      <td>31.5</td>\n",
       "      <td>31.5</td>\n",
       "      <td>0.0</td>\n",
       "      <td>-1.615910e-15</td>\n",
       "      <td>31.5</td>\n",
       "      <td>32.40</td>\n",
       "      <td>32.80</td>\n",
       "      <td>32.80</td>\n",
       "      <td>...</td>\n",
       "      <td>119.0</td>\n",
       "      <td>3.270622</td>\n",
       "      <td>0.153846</td>\n",
       "      <td>117.166667</td>\n",
       "      <td>7.33</td>\n",
       "      <td>7.41</td>\n",
       "      <td>7.37</td>\n",
       "      <td>1.729862e-02</td>\n",
       "      <td>-1.643357e-03</td>\n",
       "      <td>7.381515</td>\n",
       "    </tr>\n",
       "    <tr>\n",
       "      <th>12662</th>\n",
       "      <td>40</td>\n",
       "      <td>35.0</td>\n",
       "      <td>35.0</td>\n",
       "      <td>35.0</td>\n",
       "      <td>0.0</td>\n",
       "      <td>-1.654362e-15</td>\n",
       "      <td>35.0</td>\n",
       "      <td>30.70</td>\n",
       "      <td>30.70</td>\n",
       "      <td>30.70</td>\n",
       "      <td>...</td>\n",
       "      <td>125.0</td>\n",
       "      <td>17.385774</td>\n",
       "      <td>-2.646853</td>\n",
       "      <td>145.787879</td>\n",
       "      <td>7.38</td>\n",
       "      <td>7.38</td>\n",
       "      <td>7.38</td>\n",
       "      <td>9.276721e-16</td>\n",
       "      <td>-2.732902e-16</td>\n",
       "      <td>7.380000</td>\n",
       "    </tr>\n",
       "    <tr>\n",
       "      <th>12663</th>\n",
       "      <td>23</td>\n",
       "      <td>34.0</td>\n",
       "      <td>34.0</td>\n",
       "      <td>34.0</td>\n",
       "      <td>0.0</td>\n",
       "      <td>-1.234403e-15</td>\n",
       "      <td>34.0</td>\n",
       "      <td>29.55</td>\n",
       "      <td>56.80</td>\n",
       "      <td>29.55</td>\n",
       "      <td>...</td>\n",
       "      <td>119.0</td>\n",
       "      <td>3.498918</td>\n",
       "      <td>-0.524476</td>\n",
       "      <td>122.075758</td>\n",
       "      <td>7.37</td>\n",
       "      <td>7.37</td>\n",
       "      <td>7.37</td>\n",
       "      <td>9.276721e-16</td>\n",
       "      <td>-4.989413e-16</td>\n",
       "      <td>7.370000</td>\n",
       "    </tr>\n",
       "  </tbody>\n",
       "</table>\n",
       "<p>12664 rows × 205 columns</p>\n",
       "</div>"
      ],
      "text/plain": [
       "       Age  EtCO2_min  EtCO2_max  EtCO2_med  EtCO2_std       EtCO2_a  EtCO2_b  \\\n",
       "0       39       34.0       34.0       34.0        0.0 -1.234403e-15     34.0   \n",
       "1       84       30.0       30.0       30.0        0.0 -2.254118e-15     30.0   \n",
       "2       62       33.0       33.0       33.0        0.0 -7.468214e-16     33.0   \n",
       "3       71       33.0       33.0       33.0        0.0 -7.468214e-16     33.0   \n",
       "4       51       33.0       33.0       33.0        0.0 -7.468214e-16     33.0   \n",
       "...    ...        ...        ...        ...        ...           ...      ...   \n",
       "12659   29       34.0       34.0       34.0        0.0 -1.234403e-15     34.0   \n",
       "12660   83       30.0       30.0       30.0        0.0 -2.254118e-15     30.0   \n",
       "12661   74       31.5       31.5       31.5        0.0 -1.615910e-15     31.5   \n",
       "12662   40       35.0       35.0       35.0        0.0 -1.654362e-15     35.0   \n",
       "12663   23       34.0       34.0       34.0        0.0 -1.234403e-15     34.0   \n",
       "\n",
       "       PTT_min  PTT_max  PTT_med  ...  ABPs_med   ABPs_std    ABPs_a  \\\n",
       "0        30.60    44.20    30.60  ...     120.5   8.357087 -0.500000   \n",
       "1        32.90    32.90    32.90  ...     121.0  24.196168  1.804196   \n",
       "2        31.50    31.50    31.50  ...     106.5  10.823655 -1.923077   \n",
       "3        32.60   150.00    32.60  ...     129.5  15.863767  1.451049   \n",
       "4        32.50    35.40    32.50  ...     126.0   8.404094  1.947552   \n",
       "...        ...      ...      ...  ...       ...        ...       ...   \n",
       "12659    31.75    31.75    31.75  ...     108.5   5.166911 -0.181818   \n",
       "12660    28.80    33.00    33.00  ...     119.0  12.099023 -0.989510   \n",
       "12661    32.40    32.80    32.80  ...     119.0   3.270622  0.153846   \n",
       "12662    30.70    30.70    30.70  ...     125.0  17.385774 -2.646853   \n",
       "12663    29.55    56.80    29.55  ...     119.0   3.498918 -0.524476   \n",
       "\n",
       "           ABPs_b  pH_min  pH_max  pH_med        pH_std          pH_a  \\\n",
       "0      129.000000    7.34    7.40    7.38  1.337116e-02  1.188811e-03   \n",
       "1      105.272727    7.38    7.38    7.38  9.276721e-16 -2.732902e-16   \n",
       "2      121.166667    7.37    7.37    7.37  9.276721e-16 -4.989413e-16   \n",
       "3      118.818182    7.36    7.40    7.37  9.374369e-03 -3.496503e-04   \n",
       "4      113.424242    7.37    7.37    7.37  9.276721e-16 -4.989413e-16   \n",
       "...           ...     ...     ...     ...           ...           ...   \n",
       "12659  109.015152    7.37    7.37    7.37  9.276721e-16 -4.989413e-16   \n",
       "12660  125.181818    7.26    7.38    7.38  4.923660e-02  3.636364e-03   \n",
       "12661  117.166667    7.33    7.41    7.37  1.729862e-02 -1.643357e-03   \n",
       "12662  145.787879    7.38    7.38    7.38  9.276721e-16 -2.732902e-16   \n",
       "12663  122.075758    7.37    7.37    7.37  9.276721e-16 -4.989413e-16   \n",
       "\n",
       "           pH_b  \n",
       "0      7.370606  \n",
       "1      7.380000  \n",
       "2      7.370000  \n",
       "3      7.373939  \n",
       "4      7.370000  \n",
       "...         ...  \n",
       "12659  7.370000  \n",
       "12660  7.329697  \n",
       "12661  7.381515  \n",
       "12662  7.380000  \n",
       "12663  7.370000  \n",
       "\n",
       "[12664 rows x 205 columns]"
      ]
     },
     "execution_count": 12,
     "metadata": {
     },
     "output_type": "execute_result"
    }
   ],
   "source": [
    "X_handin"
   ]
  },
  {
   "cell_type": "code",
   "execution_count": 13,
   "metadata": {
    "collapsed": false
   },
   "outputs": [
   ],
   "source": [
    "y_handin = pd.DataFrame(data=clf.predict(X_handin), index=None, columns=label_measure)"
   ]
  },
  {
   "cell_type": "code",
   "execution_count": 14,
   "metadata": {
    "collapsed": false
   },
   "outputs": [
    {
     "data": {
      "text/html": [
       "<div>\n",
       "<style scoped>\n",
       "    .dataframe tbody tr th:only-of-type {\n",
       "        vertical-align: middle;\n",
       "    }\n",
       "\n",
       "    .dataframe tbody tr th {\n",
       "        vertical-align: top;\n",
       "    }\n",
       "\n",
       "    .dataframe thead th {\n",
       "        text-align: right;\n",
       "    }\n",
       "</style>\n",
       "<table border=\"1\" class=\"dataframe\">\n",
       "  <thead>\n",
       "    <tr style=\"text-align: right;\">\n",
       "      <th></th>\n",
       "      <th>LABEL_RRate</th>\n",
       "      <th>LABEL_ABPm</th>\n",
       "      <th>LABEL_SpO2</th>\n",
       "      <th>LABEL_Heartrate</th>\n",
       "    </tr>\n",
       "  </thead>\n",
       "  <tbody>\n",
       "    <tr>\n",
       "      <th>0</th>\n",
       "      <td>16.587936</td>\n",
       "      <td>84.061050</td>\n",
       "      <td>98.831290</td>\n",
       "      <td>86.616088</td>\n",
       "    </tr>\n",
       "    <tr>\n",
       "      <th>1</th>\n",
       "      <td>17.852835</td>\n",
       "      <td>86.517402</td>\n",
       "      <td>97.432785</td>\n",
       "      <td>90.200357</td>\n",
       "    </tr>\n",
       "    <tr>\n",
       "      <th>2</th>\n",
       "      <td>18.953483</td>\n",
       "      <td>73.590349</td>\n",
       "      <td>95.557363</td>\n",
       "      <td>69.400579</td>\n",
       "    </tr>\n",
       "    <tr>\n",
       "      <th>3</th>\n",
       "      <td>16.522814</td>\n",
       "      <td>89.934676</td>\n",
       "      <td>98.113115</td>\n",
       "      <td>91.377605</td>\n",
       "    </tr>\n",
       "    <tr>\n",
       "      <th>4</th>\n",
       "      <td>18.643589</td>\n",
       "      <td>90.765926</td>\n",
       "      <td>96.649855</td>\n",
       "      <td>89.913472</td>\n",
       "    </tr>\n",
       "    <tr>\n",
       "      <th>...</th>\n",
       "      <td>...</td>\n",
       "      <td>...</td>\n",
       "      <td>...</td>\n",
       "      <td>...</td>\n",
       "    </tr>\n",
       "    <tr>\n",
       "      <th>12659</th>\n",
       "      <td>17.312794</td>\n",
       "      <td>73.648424</td>\n",
       "      <td>96.983956</td>\n",
       "      <td>70.015875</td>\n",
       "    </tr>\n",
       "    <tr>\n",
       "      <th>12660</th>\n",
       "      <td>16.381503</td>\n",
       "      <td>82.533943</td>\n",
       "      <td>96.761890</td>\n",
       "      <td>91.403075</td>\n",
       "    </tr>\n",
       "    <tr>\n",
       "      <th>12661</th>\n",
       "      <td>18.379722</td>\n",
       "      <td>72.551383</td>\n",
       "      <td>97.942238</td>\n",
       "      <td>92.024140</td>\n",
       "    </tr>\n",
       "    <tr>\n",
       "      <th>12662</th>\n",
       "      <td>18.291592</td>\n",
       "      <td>90.234583</td>\n",
       "      <td>97.312935</td>\n",
       "      <td>109.956853</td>\n",
       "    </tr>\n",
       "    <tr>\n",
       "      <th>12663</th>\n",
       "      <td>16.716696</td>\n",
       "      <td>83.066163</td>\n",
       "      <td>98.661628</td>\n",
       "      <td>102.962495</td>\n",
       "    </tr>\n",
       "  </tbody>\n",
       "</table>\n",
       "<p>12664 rows × 4 columns</p>\n",
       "</div>"
      ],
      "text/plain": [
       "       LABEL_RRate  LABEL_ABPm  LABEL_SpO2  LABEL_Heartrate\n",
       "0        16.587936   84.061050   98.831290        86.616088\n",
       "1        17.852835   86.517402   97.432785        90.200357\n",
       "2        18.953483   73.590349   95.557363        69.400579\n",
       "3        16.522814   89.934676   98.113115        91.377605\n",
       "4        18.643589   90.765926   96.649855        89.913472\n",
       "...            ...         ...         ...              ...\n",
       "12659    17.312794   73.648424   96.983956        70.015875\n",
       "12660    16.381503   82.533943   96.761890        91.403075\n",
       "12661    18.379722   72.551383   97.942238        92.024140\n",
       "12662    18.291592   90.234583   97.312935       109.956853\n",
       "12663    16.716696   83.066163   98.661628       102.962495\n",
       "\n",
       "[12664 rows x 4 columns]"
      ]
     },
     "execution_count": 14,
     "metadata": {
     },
     "output_type": "execute_result"
    }
   ],
   "source": [
    "y_handin"
   ]
  },
  {
   "cell_type": "code",
   "execution_count": 15,
   "metadata": {
    "collapsed": false
   },
   "outputs": [
   ],
   "source": [
    "pd.DataFrame(y_handin).to_csv(\"y_handin_task3.csv\", index=False) "
   ]
  },
  {
   "cell_type": "code",
   "execution_count": 0,
   "metadata": {
    "collapsed": false
   },
   "outputs": [
   ],
   "source": [
   ]
  }
 ],
 "metadata": {
  "kernelspec": {
   "display_name": "Python 3 (system-wide)",
   "language": "python",
   "metadata": {
    "cocalc": {
     "description": "Python 3 programming language",
     "priority": 100,
     "url": "https://www.python.org/"
    }
   },
   "name": "python3",
   "resource_dir": "/ext/jupyter/kernels/python3"
  },
  "language_info": {
   "codemirror_mode": {
    "name": "ipython",
    "version": 3
   },
   "file_extension": ".py",
   "mimetype": "text/x-python",
   "name": "python",
   "nbconvert_exporter": "python",
   "pygments_lexer": "ipython3",
   "version": "3.8.5"
  }
 },
 "nbformat": 4,
 "nbformat_minor": 4
}