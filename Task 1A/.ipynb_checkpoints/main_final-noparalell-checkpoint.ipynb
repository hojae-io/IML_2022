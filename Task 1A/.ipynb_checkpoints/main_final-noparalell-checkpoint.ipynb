{
 "cells": [
  {
   "cell_type": "code",
   "execution_count": 3,
   "id": "russian-jefferson",
   "metadata": {},
   "outputs": [
    {
     "data": {
      "image/png": "[encoded data removed]",
      "text/plain": [
       "<Figure size 432x288 with 1 Axes>"
      ]
     },
     "metadata": {
      "needs_background": "light"
     },
     "output_type": "display_data"
    }
   ],
   "source": [
    "# import Sklearn packages\n",
    "from sklearn.linear_model import Ridge\n",
    "from sklearn.metrics import mean_squared_error\n",
    "from sklearn.model_selection import KFold \n",
    "\n",
    "# import helper packages\n",
    "from statistics import mean\n",
    "import pandas as pd\n",
    "import matplotlib.pyplot as plt\n",
    "from numpy import sqrt\n",
    "\n",
    "# Our constants\n",
    "lambdas = [0.1,1,10,100,200]\n",
    "folds = 10\n",
    "M = 10**7\n",
    "\n",
    "# Read and split data\n",
    "df = pd.read_csv(\"train.csv\")\n",
    "\n",
    "# Initialize root mean squared list (over lambdas)\n",
    "final_rmses = []\n",
    "# Iterate over lambdas\n",
    "for lam in lambdas:\n",
    "    # Initialize root mean squared list (over times)\n",
    "    main_rmses = []\n",
    "\n",
    "    # Iterate over M times\n",
    "    for _ in range(M):\n",
    "        kf = KFold(n_splits=folds, shuffle=True)\n",
    "        # Initialize root mean squared list (over folds)\n",
    "        sub_rmses = []\n",
    "        # Iterate over folds\n",
    "        for train_index, test_index in kf.split(df):\n",
    "            X_train, X_test = df.iloc[train_index,1:], df.iloc[test_index,1:]\n",
    "            y_train, y_test = df.iloc[train_index,0], df.iloc[test_index,0]\n",
    "\n",
    "            # Fit and predict Ridge regression\n",
    "            clf = Ridge(alpha=lam, fit_intercept=False).fit(X_train, y_train)\n",
    "            y_pred = clf.predict(X_test)\n",
    "            sub_rmses.append(sqrt(mean_squared_error(y_test, y_pred)))\n",
    "        main_rmses.append(mean(sub_rmses))\n",
    "    final_rmses.append(mean(main_rmses))\n",
    "\n",
    "# Plot mean root meaned errors over lambda\n",
    "plt.plot(lambdas,final_rmses)\n",
    "plt.show()\n",
    "\n",
    "# Export results to output.csv\n",
    "df_export = pd.DataFrame(final_rmses)\n",
    "df_export.to_csv('output_intercept1_e3.csv', index=False, header=False)  \n"
   ]
  },
  {
   "cell_type": "code",
   "execution_count": null,
   "id": "bronze-miniature",
   "metadata": {},
   "outputs": [],
   "source": []
  }
 ],
 "metadata": {
  "kernelspec": {
   "display_name": "Python 3",
   "language": "python",
   "name": "python3"
  },
  "language_info": {
   "codemirror_mode": {
    "name": "ipython",
    "version": 3
   },
   "file_extension": ".py",
   "mimetype": "text/x-python",
   "name": "python",
   "nbconvert_exporter": "python",
   "pygments_lexer": "ipython3",
   "version": "3.8.5"
  }
 },
 "nbformat": 4,
 "nbformat_minor": 5
}
