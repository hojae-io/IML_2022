{
 "cells": [
  {
   "cell_type": "code",
   "execution_count": 1,
   "metadata": {},
   "outputs": [],
   "source": [
    "# import helper packages\n",
    "import pandas as pd\n",
    "import numpy as np\n",
    "from math import *\n",
    "\n",
    "# measuring time\n",
    "import time\n",
    "start_time = time.time()\n",
    "\n",
    "# Read and split data\n",
    "df = pd.read_csv(\"1B/train.csv\")\n",
    "X_train, y = df.iloc[:,2:], df.iloc[:,1]"
   ]
  },
  {
   "cell_type": "code",
   "execution_count": 2,
   "metadata": {},
   "outputs": [],
   "source": [
    "#function implementng the feature vector\n",
    "def phi(x):\n",
    "    phi = []\n",
    "    #linear features:\n",
    "    phi = phi + x\n",
    "    #quadratic features:\n",
    "    phi = phi + [a*a for a in x]\n",
    "    #exponential features:\n",
    "    phi = phi + [exp(a) for a in x]\n",
    "    #cosine features:\n",
    "    phi = phi + [cos(a) for a in x]\n",
    "    #constant feature:\n",
    "    phi = phi + [1]\n",
    "    return phi"
   ]
  },
  {
   "cell_type": "code",
   "execution_count": 3,
   "metadata": {
    "scrolled": true
   },
   "outputs": [],
   "source": [
    "phis = []\n",
    "# iterating over rows and cols to apply the phi function\n",
    "for index, row in X_train.iterrows():\n",
    "    phi_row = []\n",
    "    for x in row:\n",
    "        phi_row.append(x)\n",
    "    phi_row = phi(phi_row)\n",
    "    phis.append(phi_row)\n",
    "X = np.array(phis)\n",
    "\n",
    "# applying the closed form solution for the linear regression\n",
    "Xt = X.T\n",
    "ws = np.linalg.pinv(Xt.dot(X)).dot(Xt).dot(y)\n",
    "\n",
    "# outputting the weights into a csv\n",
    "df_export = pd.DataFrame(ws)\n",
    "df_export.to_csv(f'output_final.csv', index=False, header=False)"
   ]
  },
  {
   "cell_type": "code",
   "execution_count": 0,
   "metadata": {},
   "outputs": [],
   "source": []
  }
 ],
 "metadata": {
  "kernelspec": {
   "display_name": "Python 3 (ipykernel)",
   "language": "python",
   "name": "python3"
  },
  "language_info": {
   "codemirror_mode": {
    "name": "ipython",
    "version": 3
   },
   "file_extension": ".py",
   "mimetype": "text/x-python",
   "name": "python",
   "nbconvert_exporter": "python",
   "pygments_lexer": "ipython3",
   "version": "3.8.10"
  }
 },
 "nbformat": 4,
 "nbformat_minor": 4
}
