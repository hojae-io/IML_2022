{
 "cells": [
  {
   "cell_type": "markdown",
   "metadata": {},
   "source": [
    "# HW03: Supervised Machine Learning, Regression and XGBoost"
   ]
  },
  {
   "cell_type": "markdown",
   "metadata": {},
   "source": [
    "Remember that these homework work as a completion grade. **You can skip one section without losing credit.**"
   ]
  },
  {
   "cell_type": "markdown",
   "metadata": {},
   "source": [
    "## Load and Pre-process Text\n",
    "We do sentiment analysis on the [Movie Review Data](https://www.cs.cornell.edu/people/pabo/movie-review-data/). If you would like to know more about the data, have a look at [the paper](https://www.cs.cornell.edu/home/llee/papers/pang-lee-stars.pdf) (but no need to do so)."
   ]
  },
  {
   "cell_type": "code",
   "execution_count": 1,
   "metadata": {},
   "outputs": [
    {
     "name": "stdout",
     "output_type": "stream",
     "text": [
      "--2021-03-26 10:12:01--  https://www.cs.cornell.edu/people/pabo/movie-review-data/scale_data.tar.gz\n",
      "Resolving www.cs.cornell.edu (www.cs.cornell.edu)... 132.236.207.36\n",
      "Connecting to www.cs.cornell.edu (www.cs.cornell.edu)|132.236.207.36|:443... connected.\n",
      "HTTP request sent, awaiting response... 200 OK\n",
      "Length: 4029756 (3.8M) [application/x-gzip]\n",
      "Saving to: ‘scale_data.tar.gz.4’\n",
      "\n",
      "scale_data.tar.gz.4 100%[===================>]   3.84M  4.81MB/s    in 0.8s    \n",
      "\n",
      "2021-03-26 10:12:02 (4.81 MB/s) - ‘scale_data.tar.gz.4’ saved [4029756/4029756]\n",
      "\n",
      "--2021-03-26 10:12:02--  https://www.cs.cornell.edu/people/pabo/movie-review-data/scale_whole_review.tar.gz\n",
      "Resolving www.cs.cornell.edu (www.cs.cornell.edu)... 132.236.207.36\n",
      "Connecting to www.cs.cornell.edu (www.cs.cornell.edu)|132.236.207.36|:443... connected.\n",
      "HTTP request sent, awaiting response... 200 OK\n",
      "Length: 8853204 (8.4M) [application/x-gzip]\n",
      "Saving to: ‘scale_whole_review.tar.gz.4’\n",
      "\n",
      "scale_whole_review. 100%[===================>]   8.44M  7.69MB/s    in 1.1s    \n",
      "\n",
      "2021-03-26 10:12:04 (7.69 MB/s) - ‘scale_whole_review.tar.gz.4’ saved [8853204/8853204]\n",
      "\n"
     ]
    }
   ],
   "source": [
    "# In this tutorial, we do sentiment analysis\n",
    "# download the data\n",
    "#!wget https://ai.stanford.edu/~amaas/data/sentiment/aclImdb_v1.tar.gz\n",
    "#!tar xf aclImdb_v1.tar.gz\n",
    "\n",
    "!wget https://www.cs.cornell.edu/people/pabo/movie-review-data/scale_data.tar.gz\n",
    "!wget https://www.cs.cornell.edu/people/pabo/movie-review-data/scale_whole_review.tar.gz\n",
    " \n",
    "!tar xf scale_data.tar.gz \n",
    "!tar xf scale_whole_review.tar.gz"
   ]
  },
  {
   "cell_type": "markdown",
   "metadata": {},
   "source": [
    "First, we have to load the data for which we provide the function below. Note how we also preprocess the text using gensim's simple_preprocess() function and how we already split the data into a train and test split."
   ]
  },
  {
   "cell_type": "code",
   "execution_count": 2,
   "metadata": {},
   "outputs": [
    {
     "name": "stdout",
     "output_type": "stream",
     "text": [
      "text: for what it worth correctly guessed the identity of the killer in scream well sort of suppose should feel satisfied at my own cleverness since dimension and the makers of scream have put so much effort into keeping that piece of information secret even more so than in the original scream writer kevin williamson goes to ridiculous extremes to keep the audience guessing whodunnit so ridiculous that the film becomes too focused on the one thing which should have been least important as horror film it solid piece of work as satire it frequently hilarious as mystery it tries way way too hard scream takes place two years after the events of the original just in time for hollywood to cash in on the woodsboro high murders the non fiction book by reporter gale weathers courteney cox has become popular horror film called stab which in turn appears to have generated copycat killer when two college students turn up dead at the film premiere sidney prescott neve campbell once again begins to fear for her life other woodsboro survivors like dewey riley david arquette and video store clerk turned film student randy meeks jamie kennedy offer support but bodies continue to turn up at an alarming rate who could the killer be sidney boyfriend derek jerry connell cotton weary liev schreiber the man sidney once wrongly accused of murder gale cameraman joel duane martin film student mickey timothy olyphant reporter debbie salt laurie metcalf gale dewey randy jermaine marlon tito if you can keep the suspects straight without press kit more power to you williamson often seems so concerned with turning every live body in sight into potential suspect that he lets that question overwhelm everything else when the characters aren busy trying to survive the night they re either sitting around trying to figure out who the killer is or around trying to figure out who the killer is it all builds to revelatory climax drawn out so long past the point of diminishing returns loaded with confessions motives and false finishes that you can even see the point of diminishing returns from there being bit harder on scream than it might deserve because that one big problem may be the only real problem williamson satirical darts are expertly targeted not just at horror film cliches or the inevitable inferiority of sequels but at the original film itself the film within film stab provides few wonderful moments as do the audience reactions to some of the more improbable situations hang up the phone and star his the dialogue is sharp smart and not at all afraid of naming names cox friends co stars david schwimmer and jennifer aniston are among those skewered perfect counter point to wes craven crafty suspense scenes if you re not ready to crawl out of your skin when campbell crawls across the unconscious form of her tormentor it time for pulse check scream is so entertaining both as chiller and as chuckler that the lack of attention to those elements is frustration kevin williamson is carving out new genre for himself which certainly seems to be finding an audience both screams and know what you did last summer take off with the radical notion that umasking the monster is good idea there just something deflating about tense comic horror film that turns into scooby doo episode williamson has too much talent as writer of comedy to keep getting side tracked by conventions even if they re conventions he helping to re create scare us or make us laugh we know you can do both just keep the mystery machine parked at the curb on the renshaw scale of visit scott renshaw moviepage http www inconnect com renshaw subscribe to receive new reviews directly by email see the moviepage for details or reply to this message with subject line subscribe \n",
      "label: 0.7\n"
     ]
    }
   ],
   "source": [
    "import os\n",
    "from gensim.utils import simple_preprocess\n",
    "def load_data():\n",
    "    examples, labels = [], []\n",
    "    authors = os.listdir(\"scale_whole_review\")\n",
    "    for author in authors:\n",
    "        path = os.listdir(os.path.join(\"scale_whole_review\", author, \"txt.parag\"))\n",
    "        fn_ids = os.path.join(\"scaledata\", author, \"id.\" + author)\n",
    "        fn_ratings = os.path.join(\"scaledata\", author, \"rating.\" + author)\n",
    "        with open(fn_ids) as ids, open(fn_ratings) as ratings:\n",
    "            for idx, rating in zip(ids, ratings):\n",
    "                labels.append(float(rating.strip()))\n",
    "                filename_text = os.path.join(\"scale_whole_review\", author, \"txt.parag\", idx.strip() + \".txt\")\n",
    "                with open(filename_text, encoding='latin-1') as f:\n",
    "                    examples.append(\" \".join(simple_preprocess(f.read())))\n",
    "    return examples, labels\n",
    "                  \n",
    "X,y  = load_data()\n",
    "from sklearn.model_selection import train_test_split\n",
    "X_train, X_test, y_train, y_test = train_test_split(X, y, test_size=0.33, random_state=42)\n",
    "print (\"text:\", X_train[0], \"\\nlabel:\", y_train[0])"
   ]
  },
  {
   "cell_type": "markdown",
   "metadata": {},
   "source": [
    "## Vectorize the data"
   ]
  },
  {
   "cell_type": "code",
   "execution_count": 3,
   "metadata": {},
   "outputs": [
    {
     "name": "stdout",
     "output_type": "stream",
     "text": [
      "(3354, 5624)\n"
     ]
    }
   ],
   "source": [
    "# train a TF_IDF Vectorizer on X_train and vectorize X_train and X_test\n",
    "from sklearn.feature_extraction.text import TfidfVectorizer\n",
    "\n",
    "vec = TfidfVectorizer(min_df=0.01, # at min 1% of docs\n",
    "                        max_df=.5,  \n",
    "                        stop_words='english',\n",
    "                        ngram_range=(1,2))\n",
    "\n",
    "##TODO train vectorizer\n",
    "vec.fit(X_train)\n",
    "##TODO transform X_train to TF-IDF values\n",
    "X_train_tfidf = vec.transform(X_train)\n",
    "##TODO transform X_test to TF-IDF values\n",
    "X_test_tfidf = vec.transform(X_test)\n",
    "print (X_train_tfidf.shape)"
   ]
  },
  {
   "cell_type": "code",
   "execution_count": 4,
   "metadata": {},
   "outputs": [],
   "source": [
    "##TODO scale the data with the standard scaler\n",
    "from sklearn.preprocessing import StandardScaler\n",
    "scaler = StandardScaler(with_mean=False)\n",
    "X_train_scaled = scaler.fit_transform(X_train_tfidf)\n",
    "X_test_scaled = scaler.transform(X_test_tfidf)"
   ]
  },
  {
   "cell_type": "markdown",
   "metadata": {},
   "source": [
    "## ElasticNet"
   ]
  },
  {
   "cell_type": "code",
   "execution_count": 5,
   "metadata": {},
   "outputs": [
    {
     "name": "stdout",
     "output_type": "stream",
     "text": [
      "mse 0.015871120061244585\n",
      "r2 0.5037917808908446\n"
     ]
    }
   ],
   "source": [
    "##TODO train an elastic net on the transformed output of the scaler\n",
    "from sklearn.linear_model import ElasticNet\n",
    "\n",
    "en = ElasticNet(alpha=0.01)\n",
    "\n",
    "##TODO train\n",
    "en.fit(X_train_scaled, y_train)\n",
    "##TODO predict the testset\n",
    "predicted = en.predict(X_test_scaled)\n",
    "\n",
    "from sklearn.metrics import r2_score, accuracy_score, mean_squared_error, balanced_accuracy_score\n",
    "##TODO print mean squared error and r2 score on the test set\n",
    "print (\"mse\", mean_squared_error(y_test, predicted))\n",
    "print (\"r2\", r2_score(y_test, predicted))"
   ]
  },
  {
   "cell_type": "markdown",
   "metadata": {},
   "source": [
    "## Logistic Regression"
   ]
  },
  {
   "cell_type": "markdown",
   "metadata": {},
   "source": [
    "Next, we train an OLS model doing binary prediction on these movie reviews. Two get two bins, we transform the continuous ratings into two classes, where one class contains all the negative ratings (value < 0.5), the other class all the positive ratings (value > 0.5)"
   ]
  },
  {
   "cell_type": "code",
   "execution_count": 6,
   "metadata": {},
   "outputs": [],
   "source": [
    "y_train = [1 if i >= 0.5 else 0 for i in y_train]\n",
    "y_test = [1 if i >= 0.5 else 0 for i in y_test]\n"
   ]
  },
  {
   "cell_type": "code",
   "execution_count": 14,
   "metadata": {},
   "outputs": [
    {
     "name": "stdout",
     "output_type": "stream",
     "text": [
      "0.8184019370460048\n",
      "(1, 5624)\n",
      "0.16272136822550148 saves\n",
      "0.16445601435035043 focus\n",
      "0.16869513291903118 equal\n",
      "0.16890444374119462 bit\n",
      "0.1702246287134625 surprisingly\n",
      "0.17141737344344304 grabs\n",
      "0.18172123469104762 area\n",
      "0.18417674474610274 exciting\n",
      "0.20035051528196415 fine\n",
      "0.23154446158133757 fascinating\n"
     ]
    },
    {
     "name": "stderr",
     "output_type": "stream",
     "text": [
      "/home/dominsta/anaconda3/envs/legal_dna/lib/python3.6/site-packages/sklearn/linear_model/_logistic.py:765: ConvergenceWarning: lbfgs failed to converge (status=1):\n",
      "STOP: TOTAL NO. of ITERATIONS REACHED LIMIT.\n",
      "\n",
      "Increase the number of iterations (max_iter) or scale the data as shown in:\n",
      "    https://scikit-learn.org/stable/modules/preprocessing.html\n",
      "Please also refer to the documentation for alternative solver options:\n",
      "    https://scikit-learn.org/stable/modules/linear_model.html#logistic-regression\n",
      "  extra_warning_msg=_LOGISTIC_SOLVER_CONVERGENCE_MSG)\n"
     ]
    }
   ],
   "source": [
    "##TODO train logistic regression on X_train\n",
    "from sklearn.linear_model import LogisticRegression\n",
    "logistic_regression = LogisticRegression()\n",
    "\n",
    "##TODO train a logistic regression\n",
    "logistic_regression.fit(X_train_scaled, y_train)\n",
    "##TODO predict the testset \n",
    "predicted = en.predict(X_test_scaled)\n",
    "\n",
    "##since we have continuous output, we need to post-process our labels similarly \n",
    "def map_predictions(predicted):\n",
    "    predicted = [1 if i > 0.5 else 0 for i in predicted]\n",
    "    return predicted\n",
    "\n",
    "binary_predictions = map_predictions(predicted)\n",
    "print (accuracy_score(y_test, binary_predictions))\n",
    "\n",
    "## TODO print the 10 most informative words of the regression (the 10 words having the highest coefficients)\n",
    "\n",
    "\n",
    "import numpy as np\n",
    "id2word = vec.get_feature_names()\n",
    "coefs = logistic_regression.coef_.squeeze()\n",
    "indices = np.argsort(coefs)\n",
    "print (logistic_regression.coef_.shape)\n",
    "for i in indices[-10:]:\n",
    "    print (coefs[i], id2word[i])"
   ]
  },
  {
   "cell_type": "markdown",
   "metadata": {},
   "source": [
    "## XGBoost"
   ]
  },
  {
   "cell_type": "markdown",
   "metadata": {},
   "source": [
    "Lastly, we train an XGBoost classifier to do topic prediction on the AG news dataset, which is a multi-class prediction problem (4 classes). We again have to vectorize the data, train the classifier, predict the testset and output an evaluation metric (we go for accuracy)."
   ]
  },
  {
   "cell_type": "code",
   "execution_count": 8,
   "metadata": {},
   "outputs": [
    {
     "name": "stdout",
     "output_type": "stream",
     "text": [
      "Requirement already satisfied: xgboost in /home/dominsta/anaconda3/envs/legal_dna/lib/python3.6/site-packages (1.3.3)\n",
      "Requirement already satisfied: numpy in /home/dominsta/anaconda3/envs/legal_dna/lib/python3.6/site-packages (from xgboost) (1.19.5)\n",
      "Requirement already satisfied: scipy in /home/dominsta/anaconda3/envs/legal_dna/lib/python3.6/site-packages (from xgboost) (1.5.4)\n"
     ]
    }
   ],
   "source": [
    "!pip install xgboost"
   ]
  },
  {
   "cell_type": "code",
   "execution_count": 9,
   "metadata": {},
   "outputs": [
    {
     "data": {
      "text/html": [
       "<div>\n",
       "<style scoped>\n",
       "    .dataframe tbody tr th:only-of-type {\n",
       "        vertical-align: middle;\n",
       "    }\n",
       "\n",
       "    .dataframe tbody tr th {\n",
       "        vertical-align: top;\n",
       "    }\n",
       "\n",
       "    .dataframe thead th {\n",
       "        text-align: right;\n",
       "    }\n",
       "</style>\n",
       "<table border=\"1\" class=\"dataframe\">\n",
       "  <thead>\n",
       "    <tr style=\"text-align: right;\">\n",
       "      <th></th>\n",
       "      <th>label</th>\n",
       "      <th>title</th>\n",
       "      <th>lead</th>\n",
       "      <th>text</th>\n",
       "    </tr>\n",
       "  </thead>\n",
       "  <tbody>\n",
       "    <tr>\n",
       "      <th>0</th>\n",
       "      <td>3</td>\n",
       "      <td>Carlyle Looks Toward Commercial Aerospace (Reu...</td>\n",
       "      <td>Reuters - Private investment firm Carlyle Grou...</td>\n",
       "      <td>Carlyle Looks Toward Commercial Aerospace (Reu...</td>\n",
       "    </tr>\n",
       "    <tr>\n",
       "      <th>1</th>\n",
       "      <td>3</td>\n",
       "      <td>Oil and Economy Cloud Stocks' Outlook (Reuters)</td>\n",
       "      <td>Reuters - Soaring crude prices plus worries\\ab...</td>\n",
       "      <td>Oil and Economy Cloud Stocks' Outlook (Reuters...</td>\n",
       "    </tr>\n",
       "    <tr>\n",
       "      <th>2</th>\n",
       "      <td>3</td>\n",
       "      <td>Iraq Halts Oil Exports from Main Southern Pipe...</td>\n",
       "      <td>Reuters - Authorities have halted oil export\\f...</td>\n",
       "      <td>Iraq Halts Oil Exports from Main Southern Pipe...</td>\n",
       "    </tr>\n",
       "    <tr>\n",
       "      <th>3</th>\n",
       "      <td>3</td>\n",
       "      <td>Oil prices soar to all-time record, posing new...</td>\n",
       "      <td>AFP - Tearaway world oil prices, toppling reco...</td>\n",
       "      <td>Oil prices soar to all-time record, posing new...</td>\n",
       "    </tr>\n",
       "    <tr>\n",
       "      <th>4</th>\n",
       "      <td>3</td>\n",
       "      <td>Stocks End Up, But Near Year Lows (Reuters)</td>\n",
       "      <td>Reuters - Stocks ended slightly higher on Frid...</td>\n",
       "      <td>Stocks End Up, But Near Year Lows (Reuters) Re...</td>\n",
       "    </tr>\n",
       "  </tbody>\n",
       "</table>\n",
       "</div>"
      ],
      "text/plain": [
       "   label                                              title  \\\n",
       "0      3  Carlyle Looks Toward Commercial Aerospace (Reu...   \n",
       "1      3    Oil and Economy Cloud Stocks' Outlook (Reuters)   \n",
       "2      3  Iraq Halts Oil Exports from Main Southern Pipe...   \n",
       "3      3  Oil prices soar to all-time record, posing new...   \n",
       "4      3        Stocks End Up, But Near Year Lows (Reuters)   \n",
       "\n",
       "                                                lead  \\\n",
       "0  Reuters - Private investment firm Carlyle Grou...   \n",
       "1  Reuters - Soaring crude prices plus worries\\ab...   \n",
       "2  Reuters - Authorities have halted oil export\\f...   \n",
       "3  AFP - Tearaway world oil prices, toppling reco...   \n",
       "4  Reuters - Stocks ended slightly higher on Frid...   \n",
       "\n",
       "                                                text  \n",
       "0  Carlyle Looks Toward Commercial Aerospace (Reu...  \n",
       "1  Oil and Economy Cloud Stocks' Outlook (Reuters...  \n",
       "2  Iraq Halts Oil Exports from Main Southern Pipe...  \n",
       "3  Oil prices soar to all-time record, posing new...  \n",
       "4  Stocks End Up, But Near Year Lows (Reuters) Re...  "
      ]
     },
     "execution_count": 9,
     "metadata": {},
     "output_type": "execute_result"
    }
   ],
   "source": [
    "#Import the AG news dataset (same as hw01)\n",
    "#Download them from here \n",
    "#!wget https://raw.githubusercontent.com/mhjabreel/CharCnn_Keras/master/data/ag_news_csv/train.csv\n",
    "\n",
    "import pandas as pd\n",
    "import nltk\n",
    "df = pd.read_csv('train.csv')\n",
    "\n",
    "df.columns = [\"label\", \"title\", \"lead\"]\n",
    "df[\"text\"] = df[\"title\"] + \" \" + df[\"lead\"]\n",
    "df.head()"
   ]
  },
  {
   "cell_type": "code",
   "execution_count": 10,
   "metadata": {},
   "outputs": [],
   "source": [
    "# vectorize the data\n",
    "from sklearn.feature_extraction.text import TfidfVectorizer\n",
    "\n",
    "# only consider 10% of the data\n",
    "dfs = df.sample(frac=0.1)\n",
    "\n",
    "# split into train and test\n",
    "X_train, X_test, y_train, y_test = train_test_split(dfs[\"text\"], dfs[\"label\"], test_size=0.33, random_state=42)\n",
    "\n",
    "vec = TfidfVectorizer(min_df=5, # at min 1% of docs\n",
    "                        max_df=.5,  \n",
    "                        stop_words='english',\n",
    "                        max_features=2000,\n",
    "                        ngram_range=(1,2))\n",
    "\n",
    "# transform into TF-IDF values\n",
    "X_train_tfidf = vec.fit_transform(X_train).todense()\n",
    "X_test_tfidf = vec.transform(X_test).todense()\n"
   ]
  },
  {
   "cell_type": "markdown",
   "metadata": {},
   "source": [
    "XGBoost provides an interface to SKLearn classifiers, e.g. they implement the same train and predict methods as an SKLearn classifier would. If you are interested in a more detailed overview, have a look at the [official documentation](https://xgboost.readthedocs.io/en/latest/python/index.html)."
   ]
  },
  {
   "cell_type": "code",
   "execution_count": 12,
   "metadata": {},
   "outputs": [
    {
     "name": "stdout",
     "output_type": "stream",
     "text": [
      "[0]\tvalidation_0-merror:0.43470\tvalidation_1-merror:0.44192\n",
      "[1]\tvalidation_0-merror:0.36580\tvalidation_1-merror:0.37702\n",
      "[2]\tvalidation_0-merror:0.33756\tvalidation_1-merror:0.34848\n",
      "[3]\tvalidation_0-merror:0.30012\tvalidation_1-merror:0.31591\n",
      "[4]\tvalidation_0-merror:0.27512\tvalidation_1-merror:0.29697\n",
      "[5]\tvalidation_0-merror:0.26244\tvalidation_1-merror:0.28510\n",
      "[6]\tvalidation_0-merror:0.24055\tvalidation_1-merror:0.26263\n",
      "[7]\tvalidation_0-merror:0.23259\tvalidation_1-merror:0.25884\n",
      "[8]\tvalidation_0-merror:0.22488\tvalidation_1-merror:0.24773\n",
      "[9]\tvalidation_0-merror:0.21405\tvalidation_1-merror:0.23586\n",
      "[10]\tvalidation_0-merror:0.20386\tvalidation_1-merror:0.22803\n",
      "[11]\tvalidation_0-merror:0.19055\tvalidation_1-merror:0.22046\n",
      "[12]\tvalidation_0-merror:0.18644\tvalidation_1-merror:0.22020\n",
      "[13]\tvalidation_0-merror:0.17848\tvalidation_1-merror:0.21465\n",
      "[14]\tvalidation_0-merror:0.16878\tvalidation_1-merror:0.21010\n",
      "[15]\tvalidation_0-merror:0.16244\tvalidation_1-merror:0.20707\n",
      "[16]\tvalidation_0-merror:0.15871\tvalidation_1-merror:0.20606\n",
      "[17]\tvalidation_0-merror:0.15510\tvalidation_1-merror:0.20253\n",
      "[18]\tvalidation_0-merror:0.15261\tvalidation_1-merror:0.19848\n",
      "[19]\tvalidation_0-merror:0.14689\tvalidation_1-merror:0.19848\n",
      "[20]\tvalidation_0-merror:0.14192\tvalidation_1-merror:0.19571\n",
      "[21]\tvalidation_0-merror:0.14030\tvalidation_1-merror:0.19571\n",
      "[22]\tvalidation_0-merror:0.13321\tvalidation_1-merror:0.19091\n",
      "[23]\tvalidation_0-merror:0.13035\tvalidation_1-merror:0.18813\n",
      "[24]\tvalidation_0-merror:0.12823\tvalidation_1-merror:0.18586\n",
      "[1. 1. 2. 1. 2.] 36852     1\n",
      "106470    1\n",
      "86393     2\n",
      "23390     1\n",
      "27770     2\n",
      "Name: label, dtype: int64\n",
      "0.8141414141414142\n"
     ]
    }
   ],
   "source": [
    "param_dist = {'objective':'multi:softmax', 'num_class': 5, 'n_estimators':25}\n",
    "import xgboost as xgb\n",
    "\n",
    "clf = xgb.XGBModel(**param_dist)\n",
    "\n",
    "##TODO train the XGBModel \n",
    "clf.fit(X_train_tfidf, y_train,\n",
    "        eval_set=[(X_train_tfidf, y_train), (X_test_tfidf, y_test)],\n",
    "        eval_metric='merror',\n",
    "        verbose=True)\n",
    "\n",
    "evals_result = clf.evals_result()\n",
    "\n",
    "predictions = clf.predict(X_test_tfidf)\n",
    "print (predictions[:5], y_test[:5])\n",
    "print (accuracy_score(y_test, predictions))"
   ]
  },
  {
   "cell_type": "code",
   "execution_count": null,
   "metadata": {},
   "outputs": [],
   "source": []
  }
 ],
 "metadata": {
  "kernelspec": {
   "display_name": "Python 3",
   "language": "python",
   "name": "python3"
  },
  "language_info": {
   "codemirror_mode": {
    "name": "ipython",
    "version": 3
   },
   "file_extension": ".py",
   "mimetype": "text/x-python",
   "name": "python",
   "nbconvert_exporter": "python",
   "pygments_lexer": "ipython3",
   "version": "3.8.3"
  }
 },
 "nbformat": 4,
 "nbformat_minor": 5
}
