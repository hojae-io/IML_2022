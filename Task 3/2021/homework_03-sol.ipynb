{
 "cells": [
  {
   "cell_type": "markdown",
   "metadata": {
    "collapsed": false
   },
   "source": [
    "# HW03: Distance and Topic Model"
   ]
  },
  {
   "cell_type": "markdown",
   "metadata": {
    "collapsed": false
   },
   "source": [
    "Remember that these homework work as a completion grade. **You can skip one section without losing credit.**"
   ]
  },
  {
   "cell_type": "markdown",
   "metadata": {
    "collapsed": false
   },
   "source": [
    "## Load and Pre-process Text"
   ]
  },
  {
   "cell_type": "code",
   "execution_count": 1,
   "metadata": {
    "collapsed": false
   },
   "outputs": [
    {
     "data": {
      "text/html": [
       "<div>\n",
       "<style scoped>\n",
       "    .dataframe tbody tr th:only-of-type {\n",
       "        vertical-align: middle;\n",
       "    }\n",
       "\n",
       "    .dataframe tbody tr th {\n",
       "        vertical-align: top;\n",
       "    }\n",
       "\n",
       "    .dataframe thead th {\n",
       "        text-align: right;\n",
       "    }\n",
       "</style>\n",
       "<table border=\"1\" class=\"dataframe\">\n",
       "  <thead>\n",
       "    <tr style=\"text-align: right;\">\n",
       "      <th></th>\n",
       "      <th>label</th>\n",
       "      <th>title</th>\n",
       "      <th>lead</th>\n",
       "      <th>text</th>\n",
       "    </tr>\n",
       "  </thead>\n",
       "  <tbody>\n",
       "    <tr>\n",
       "      <th>0</th>\n",
       "      <td>business</td>\n",
       "      <td>Carlyle Looks Toward Commercial Aerospace (Reu...</td>\n",
       "      <td>Reuters - Private investment firm Carlyle Grou...</td>\n",
       "      <td>Carlyle Looks Toward Commercial Aerospace (Reu...</td>\n",
       "    </tr>\n",
       "    <tr>\n",
       "      <th>1</th>\n",
       "      <td>business</td>\n",
       "      <td>Oil and Economy Cloud Stocks' Outlook (Reuters)</td>\n",
       "      <td>Reuters - Soaring crude prices plus worries\\ab...</td>\n",
       "      <td>Oil and Economy Cloud Stocks' Outlook (Reuters...</td>\n",
       "    </tr>\n",
       "    <tr>\n",
       "      <th>2</th>\n",
       "      <td>business</td>\n",
       "      <td>Iraq Halts Oil Exports from Main Southern Pipe...</td>\n",
       "      <td>Reuters - Authorities have halted oil export\\f...</td>\n",
       "      <td>Iraq Halts Oil Exports from Main Southern Pipe...</td>\n",
       "    </tr>\n",
       "    <tr>\n",
       "      <th>3</th>\n",
       "      <td>business</td>\n",
       "      <td>Oil prices soar to all-time record, posing new...</td>\n",
       "      <td>AFP - Tearaway world oil prices, toppling reco...</td>\n",
       "      <td>Oil prices soar to all-time record, posing new...</td>\n",
       "    </tr>\n",
       "    <tr>\n",
       "      <th>4</th>\n",
       "      <td>business</td>\n",
       "      <td>Stocks End Up, But Near Year Lows (Reuters)</td>\n",
       "      <td>Reuters - Stocks ended slightly higher on Frid...</td>\n",
       "      <td>Stocks End Up, But Near Year Lows (Reuters) Re...</td>\n",
       "    </tr>\n",
       "  </tbody>\n",
       "</table>\n",
       "</div>"
      ],
      "text/plain": [
       "      label                                              title  \\\n",
       "0  business  Carlyle Looks Toward Commercial Aerospace (Reu...   \n",
       "1  business    Oil and Economy Cloud Stocks' Outlook (Reuters)   \n",
       "2  business  Iraq Halts Oil Exports from Main Southern Pipe...   \n",
       "3  business  Oil prices soar to all-time record, posing new...   \n",
       "4  business        Stocks End Up, But Near Year Lows (Reuters)   \n",
       "\n",
       "                                                lead  \\\n",
       "0  Reuters - Private investment firm Carlyle Grou...   \n",
       "1  Reuters - Soaring crude prices plus worries\\ab...   \n",
       "2  Reuters - Authorities have halted oil export\\f...   \n",
       "3  AFP - Tearaway world oil prices, toppling reco...   \n",
       "4  Reuters - Stocks ended slightly higher on Frid...   \n",
       "\n",
       "                                                text  \n",
       "0  Carlyle Looks Toward Commercial Aerospace (Reu...  \n",
       "1  Oil and Economy Cloud Stocks' Outlook (Reuters...  \n",
       "2  Iraq Halts Oil Exports from Main Southern Pipe...  \n",
       "3  Oil prices soar to all-time record, posing new...  \n",
       "4  Stocks End Up, But Near Year Lows (Reuters) Re...  "
      ]
     },
     "execution_count": 1,
     "metadata": {
     },
     "output_type": "execute_result"
    }
   ],
   "source": [
    "#Import the AG news dataset (same as hw01)\n",
    "#Download them from here \n",
    "#!wget https://raw.githubusercontent.com/mhjabreel/CharCnn_Keras/master/data/ag_news_csv/train.csv\n",
    "import warnings\n",
    "warnings.filterwarnings('ignore')\n",
    "\n",
    "\n",
    "import pandas as pd\n",
    "import nltk\n",
    "df = pd.read_csv('train.csv')\n",
    "\n",
    "df.columns = [\"label\", \"title\", \"lead\"]\n",
    "label_map = {1:\"world\", 2:\"sport\", 3:\"business\", 4:\"sci/tech\"}\n",
    "def replace_label(x):\n",
    "\treturn label_map[x]\n",
    "df[\"label\"] = df[\"label\"].apply(replace_label) \n",
    "df[\"text\"] = df[\"title\"] + \" \" + df[\"lead\"]\n",
    "df.head()"
   ]
  },
  {
   "cell_type": "code",
   "execution_count": 2,
   "metadata": {
    "collapsed": false
   },
   "outputs": [
   ],
   "source": [
    "import spacy\n",
    "dfs = df.sample(200)\n",
    "nlp = spacy.load('en_core_web_sm')\n",
    "from sklearn.feature_extraction.text import CountVectorizer\n",
    "\n",
    "##TODO pre-process text as you did in HW02\n",
    "import spacy\n",
    "nlp = spacy.load('en_core_web_sm')\n",
    "def tokenize(x):\n",
    "    return [w.lemma_.lower() for w in nlp(x) if not w.is_stop and not w.is_punct and not w.is_digit]\n",
    "dfs[\"tokens\"] = dfs[\"text\"].apply(lambda x: tokenize(x))\n",
    "dfs[\"preprocessed\"] = dfs['tokens'].apply(lambda x: ' '.join(x))\n",
    "##TODO vectorize the pre-processed text using CountVectorizer\n",
    "from sklearn.feature_extraction.text import CountVectorizer\n",
    "vec = CountVectorizer(min_df=0.01, # at min 1% of docs\n",
    "                        max_df=.9,  \n",
    "                        max_features=1000,\n",
    "                        stop_words='english',\n",
    "                        ngram_range=(1,3))\n",
    "X = vec.fit_transform(dfs['preprocessed']).toarray()"
   ]
  },
  {
   "cell_type": "markdown",
   "metadata": {
    "collapsed": false
   },
   "source": [
    "## Cosine Similarity and PCA"
   ]
  },
  {
   "cell_type": "code",
   "execution_count": 3,
   "metadata": {
    "collapsed": false
   },
   "outputs": [
    {
     "name": "stdout",
     "output_type": "stream",
     "text": [
      "U.S. Official: No Prospect of Bargain on Iran Nukes (Reuters) Reuters - The United States sees no reason to\\offer Iran incentives to ensure its nuclear program remains\\peaceful, a U.S. government official said on Tuesday.\n",
      " \n",
      "Saddam Told Interrogators of Iran Fixation WASHINGTON - Saddam Hussein was obsessed with his status in the Arab world, dreaming of weapons of mass destruction to pump up his prestige. And even as the United States fixated on him, he was fixated on his neighboring enemy, Iran...\n"
     ]
    }
   ],
   "source": [
    "from sklearn.metrics.pairwise import cosine_similarity\n",
    "import numpy as np\n",
    "\n",
    "##TODO compute the cosine similarity for the first 200 snippets and show the similatrity scores for the first document\n",
    "sim = cosine_similarity(X)\n",
    "\n",
    "text1 = sim[0]\n",
    "text1 = sorted(text1, reverse=True)\n",
    "doc_num = int(np.where(sim[0]==text1[1])[0])\n",
    "print(dfs.iloc[0]['text'])\n",
    "print(' ')\n",
    "print(dfs.iloc[doc_num]['text'])"
   ]
  },
  {
   "cell_type": "code",
   "execution_count": 4,
   "metadata": {
    "collapsed": false
   },
   "outputs": [
    {
     "data": {
      "text/plain": [
       "(array([1.        , 0.05897678, 0.04364358, 0.        , 0.        ,\n",
       "        0.        , 0.17457431, 0.        , 0.        , 0.11094004]),\n",
       " array([ 1.        , -0.6535737 ,  0.57312749, -0.55511102,  0.34821877,\n",
       "         0.39366938,  0.6147464 ,  0.34145716, -0.91711227,  0.63979268]))"
      ]
     },
     "execution_count": 4,
     "metadata": {
     },
     "output_type": "execute_result"
    }
   ],
   "source": [
    "from sklearn.decomposition import PCA\n",
    "pca = PCA(n_components=3,svd_solver='randomized')\n",
    "\n",
    "##TODO reduce the data using PCA\n",
    "Xpca = pca.fit_transform(X)\n",
    "\n",
    "##TODO compute the cosine similarity with the reduced data\n",
    "sim_pca = cosine_similarity(Xpca)\n",
    "\n",
    "sim[0][:10], sim_pca[0][:10]"
   ]
  },
  {
   "cell_type": "code",
   "execution_count": 5,
   "metadata": {
    "collapsed": false
   },
   "outputs": [
    {
     "name": "stdout",
     "output_type": "stream",
     "text": [
      "U.S. Official: No Prospect of Bargain on Iran Nukes (Reuters) Reuters - The United States sees no reason to\\offer Iran incentives to ensure its nuclear program remains\\peaceful, a U.S. government official said on Tuesday.\n",
      " \n",
      "Disaster Toll Tripled in 2003 Amid Quakes, Heatwave (Reuters) Reuters - Natural disasters killed 76,806 people\\in 2003, three times the number of victims in 2002, a rise due\\in part to extremes in the global climate, the world's largest\\humanitarian body said on Thursday.\n"
     ]
    }
   ],
   "source": [
    "text1 = sim_pca[0]\n",
    "text1 = sorted(text1, reverse=True)\n",
    "doc_num = int(np.where(sim_pca[0]==text1[1])[0])\n",
    "print(dfs.iloc[0]['text'])\n",
    "print(' ')\n",
    "print(dfs.iloc[doc_num]['text'])"
   ]
  },
  {
   "cell_type": "markdown",
   "metadata": {
    "collapsed": false
   },
   "source": [
    "Compare the cosine similarity before and after PCA reduction. Did the results change? "
   ]
  },
  {
   "cell_type": "markdown",
   "metadata": {
    "collapsed": false
   },
   "source": [
    "## Clustering"
   ]
  },
  {
   "cell_type": "code",
   "execution_count": 6,
   "metadata": {
    "collapsed": false
   },
   "outputs": [
    {
     "data": {
      "text/html": [
       "<div>\n",
       "<style scoped>\n",
       "    .dataframe tbody tr th:only-of-type {\n",
       "        vertical-align: middle;\n",
       "    }\n",
       "\n",
       "    .dataframe tbody tr th {\n",
       "        vertical-align: top;\n",
       "    }\n",
       "\n",
       "    .dataframe thead th {\n",
       "        text-align: right;\n",
       "    }\n",
       "</style>\n",
       "<table border=\"1\" class=\"dataframe\">\n",
       "  <thead>\n",
       "    <tr style=\"text-align: right;\">\n",
       "      <th></th>\n",
       "      <th>label</th>\n",
       "      <th>text</th>\n",
       "    </tr>\n",
       "  </thead>\n",
       "  <tbody>\n",
       "    <tr>\n",
       "      <th>69444</th>\n",
       "      <td>sport</td>\n",
       "      <td>This Date in Baseball for Oct. 23 (AP) AP - 19...</td>\n",
       "    </tr>\n",
       "    <tr>\n",
       "      <th>49655</th>\n",
       "      <td>sport</td>\n",
       "      <td>Healthy Iverson Vows Changes This Season (AP) ...</td>\n",
       "    </tr>\n",
       "    <tr>\n",
       "      <th>72866</th>\n",
       "      <td>world</td>\n",
       "      <td>Svenska Cellulosa to Slash 1,200 Jobs (AP) AP ...</td>\n",
       "    </tr>\n",
       "    <tr>\n",
       "      <th>5220</th>\n",
       "      <td>sport</td>\n",
       "      <td>Golfer Thatcher Leads at Reno-Tahoe Open (AP) ...</td>\n",
       "    </tr>\n",
       "    <tr>\n",
       "      <th>111633</th>\n",
       "      <td>sport</td>\n",
       "      <td>Eagles' Westbrook Turning Into Elite Back (AP)...</td>\n",
       "    </tr>\n",
       "    <tr>\n",
       "      <th>49958</th>\n",
       "      <td>world</td>\n",
       "      <td>Supreme Court OKs Calif. Gun Show Bans (AP) AP...</td>\n",
       "    </tr>\n",
       "    <tr>\n",
       "      <th>98144</th>\n",
       "      <td>sport</td>\n",
       "      <td>Injuries Deplete Rams Defensive Secondary (AP)...</td>\n",
       "    </tr>\n",
       "    <tr>\n",
       "      <th>102727</th>\n",
       "      <td>sport</td>\n",
       "      <td>Chargers Confident Going Into Jets Rematch (AP...</td>\n",
       "    </tr>\n",
       "    <tr>\n",
       "      <th>102872</th>\n",
       "      <td>world</td>\n",
       "      <td>Poll: Blair Retains Electoral Lead (AP) AP - P...</td>\n",
       "    </tr>\n",
       "    <tr>\n",
       "      <th>64856</th>\n",
       "      <td>world</td>\n",
       "      <td>Israel, Egypt Move Toward Warm Relations (AP) ...</td>\n",
       "    </tr>\n",
       "    <tr>\n",
       "      <th>47705</th>\n",
       "      <td>sport</td>\n",
       "      <td>Braves' Thomson, Chipper Jones Hurt (AP) AP - ...</td>\n",
       "    </tr>\n",
       "    <tr>\n",
       "      <th>99443</th>\n",
       "      <td>sport</td>\n",
       "      <td>Sportsview: Gap Between NBA Players, Fans (AP)...</td>\n",
       "    </tr>\n",
       "    <tr>\n",
       "      <th>37381</th>\n",
       "      <td>sci/tech</td>\n",
       "      <td>Scientists Seek Limit on Shark Killings (AP) A...</td>\n",
       "    </tr>\n",
       "    <tr>\n",
       "      <th>68161</th>\n",
       "      <td>sci/tech</td>\n",
       "      <td>U.N. Divided Over Anti-Cloning Treaty (AP) AP ...</td>\n",
       "    </tr>\n",
       "    <tr>\n",
       "      <th>57355</th>\n",
       "      <td>sport</td>\n",
       "      <td>Dolphins May Turn to Third-String QB (AP) AP -...</td>\n",
       "    </tr>\n",
       "  </tbody>\n",
       "</table>\n",
       "</div>"
      ],
      "text/plain": [
       "           label                                               text\n",
       "69444      sport  This Date in Baseball for Oct. 23 (AP) AP - 19...\n",
       "49655      sport  Healthy Iverson Vows Changes This Season (AP) ...\n",
       "72866      world  Svenska Cellulosa to Slash 1,200 Jobs (AP) AP ...\n",
       "5220       sport  Golfer Thatcher Leads at Reno-Tahoe Open (AP) ...\n",
       "111633     sport  Eagles' Westbrook Turning Into Elite Back (AP)...\n",
       "49958      world  Supreme Court OKs Calif. Gun Show Bans (AP) AP...\n",
       "98144      sport  Injuries Deplete Rams Defensive Secondary (AP)...\n",
       "102727     sport  Chargers Confident Going Into Jets Rematch (AP...\n",
       "102872     world  Poll: Blair Retains Electoral Lead (AP) AP - P...\n",
       "64856      world  Israel, Egypt Move Toward Warm Relations (AP) ...\n",
       "47705      sport  Braves' Thomson, Chipper Jones Hurt (AP) AP - ...\n",
       "99443      sport  Sportsview: Gap Between NBA Players, Fans (AP)...\n",
       "37381   sci/tech  Scientists Seek Limit on Shark Killings (AP) A...\n",
       "68161   sci/tech  U.N. Divided Over Anti-Cloning Treaty (AP) AP ...\n",
       "57355      sport  Dolphins May Turn to Third-String QB (AP) AP -..."
      ]
     },
     "execution_count": 6,
     "metadata": {
     },
     "output_type": "execute_result"
    }
   ],
   "source": [
    "from sklearn.cluster import KMeans\n",
    "from sklearn.metrics import silhouette_score\n",
    "\n",
    "##TODO create the clusters found with k-means clustering and 10 clusters\n",
    "km = KMeans(n_clusters=10)\n",
    "km.fit(X)\n",
    "doc_clusters = km.labels_.tolist()\n",
    "dfs['cluster'] = doc_clusters\n",
    "dfs[dfs['cluster']==1][['label','text']]"
   ]
  },
  {
   "cell_type": "code",
   "execution_count": 7,
   "metadata": {
    "collapsed": false
   },
   "outputs": [
    {
     "data": {
      "image/png": "[encoded data removed]",
      "text/plain": [
       "<Figure size 432x288 with 1 Axes>"
      ]
     },
     "execution_count": 7,
     "metadata": {
      "needs_background": "light"
     },
     "output_type": "execute_result"
    },
    {
     "name": "stdout",
     "output_type": "stream",
     "text": [
      "The optimal number of clusters is 4\n"
     ]
    }
   ],
   "source": [
    "##TODO find the optimal number of clusters in a range from 2 to 50 using the silhouette score\n",
    "\n",
    "sil_scores = []\n",
    "for n in range(2, 50):\n",
    "    km = KMeans(n_clusters=n)\n",
    "    km.fit(X)\n",
    "    sil_scores.append(silhouette_score(X, km.labels_))\n",
    "\n",
    "import matplotlib.pyplot as plt \n",
    "plt.plot(range(2, 50), sil_scores)\n",
    "plt.xlabel('Number of Clusters')\n",
    "plt.ylabel('Silhouette Score')\n",
    "plt.show()\n",
    "\n",
    "opt_sil_score = max(sil_scores[2:])\n",
    "sil_scores.index(opt_sil_score)\n",
    "opt_num_cluster = range(2, 50)[sil_scores.index(opt_sil_score)]\n",
    "print('The optimal number of clusters is %s' %opt_num_cluster)"
   ]
  },
  {
   "cell_type": "code",
   "execution_count": 8,
   "metadata": {
    "collapsed": false
   },
   "outputs": [
    {
     "data": {
      "text/html": [
       "<div>\n",
       "<style scoped>\n",
       "    .dataframe tbody tr th:only-of-type {\n",
       "        vertical-align: middle;\n",
       "    }\n",
       "\n",
       "    .dataframe tbody tr th {\n",
       "        vertical-align: top;\n",
       "    }\n",
       "\n",
       "    .dataframe thead th {\n",
       "        text-align: right;\n",
       "    }\n",
       "</style>\n",
       "<table border=\"1\" class=\"dataframe\">\n",
       "  <thead>\n",
       "    <tr style=\"text-align: right;\">\n",
       "      <th></th>\n",
       "      <th>label</th>\n",
       "      <th>text</th>\n",
       "    </tr>\n",
       "  </thead>\n",
       "  <tbody>\n",
       "    <tr>\n",
       "      <th>5020</th>\n",
       "      <td>world</td>\n",
       "      <td>Stocks Up Despite Oil Nearing \\$50 a Barrel NE...</td>\n",
       "    </tr>\n",
       "    <tr>\n",
       "      <th>90253</th>\n",
       "      <td>sport</td>\n",
       "      <td>Aggies won't be outgunned COLLEGE STATION, Tex...</td>\n",
       "    </tr>\n",
       "    <tr>\n",
       "      <th>54080</th>\n",
       "      <td>business</td>\n",
       "      <td>Melnyk steps aside at Biovail Billionaire Euge...</td>\n",
       "    </tr>\n",
       "    <tr>\n",
       "      <th>63997</th>\n",
       "      <td>business</td>\n",
       "      <td>Oil Prices Slide After Posting New High Oil pr...</td>\n",
       "    </tr>\n",
       "    <tr>\n",
       "      <th>64019</th>\n",
       "      <td>business</td>\n",
       "      <td>Marsh  amp; McLennan plummets as market run sc...</td>\n",
       "    </tr>\n",
       "    <tr>\n",
       "      <th>94403</th>\n",
       "      <td>business</td>\n",
       "      <td>Column: Cheaper Oil Fuels Stocks Rally  NEW YO...</td>\n",
       "    </tr>\n",
       "  </tbody>\n",
       "</table>\n",
       "</div>"
      ],
      "text/plain": [
       "          label                                               text\n",
       "5020      world  Stocks Up Despite Oil Nearing \\$50 a Barrel NE...\n",
       "90253     sport  Aggies won't be outgunned COLLEGE STATION, Tex...\n",
       "54080  business  Melnyk steps aside at Biovail Billionaire Euge...\n",
       "63997  business  Oil Prices Slide After Posting New High Oil pr...\n",
       "64019  business  Marsh  amp; McLennan plummets as market run sc...\n",
       "94403  business  Column: Cheaper Oil Fuels Stocks Rally  NEW YO..."
      ]
     },
     "execution_count": 8,
     "metadata": {
     },
     "output_type": "execute_result"
    }
   ],
   "source": [
    "##TODO create the clusters using the opitmal number of clusters obtained before\n",
    "##TODO compare the documents in cluster 1 under the two specifications\n",
    "km = KMeans(n_clusters=opt_num_cluster)\n",
    "km.fit(X)\n",
    "doc_clusters = km.labels_.tolist()\n",
    "\n",
    "dfs['cluster_opt'] = doc_clusters\n",
    "dfs[dfs['cluster_opt']==1][['label','text']]\n"
   ]
  },
  {
   "cell_type": "markdown",
   "metadata": {
    "collapsed": false
   },
   "source": [
    "## Topic Modeling: LDA"
   ]
  },
  {
   "cell_type": "markdown",
   "metadata": {
    "collapsed": false
   },
   "source": [
    "For this part you will need to use LDA Mallet. If you cannot have Mallet run, you can use the simple LDA algorithm "
   ]
  },
  {
   "cell_type": "code",
   "execution_count": 9,
   "metadata": {
    "collapsed": false
   },
   "outputs": [
    {
     "name": "stdout",
     "output_type": "stream",
     "text": [
      "2394\n"
     ]
    }
   ],
   "source": [
    "from gensim.corpora import Dictionary\n",
    "from gensim.models.wrappers import LdaMallet\n",
    "from gensim.models.coherencemodel import CoherenceModel\n",
    "\n",
    "##TODO create a dictionary with the pre-processed tokenized text and filter it according to frequencies and keeping 1000 vocabularies\n",
    "from gensim import corpora\n",
    "dictionary = corpora.Dictionary(dfs['tokens'])\n",
    "print (len(dictionary))\n",
    "##TODO create the doc_term_matrix\n",
    "doc_term_matrix = [dictionary.doc2bow(doc) for doc in dfs['tokens']]"
   ]
  },
  {
   "cell_type": "code",
   "execution_count": 10,
   "metadata": {
    "collapsed": false
   },
   "outputs": [
    {
     "data": {
      "text/html": [
       "<div>\n",
       "<style scoped>\n",
       "    .dataframe tbody tr th:only-of-type {\n",
       "        vertical-align: middle;\n",
       "    }\n",
       "\n",
       "    .dataframe tbody tr th {\n",
       "        vertical-align: top;\n",
       "    }\n",
       "\n",
       "    .dataframe thead th {\n",
       "        text-align: right;\n",
       "    }\n",
       "</style>\n",
       "<table border=\"1\" class=\"dataframe\">\n",
       "  <thead>\n",
       "    <tr style=\"text-align: right;\">\n",
       "      <th></th>\n",
       "      <th>Number of Topics</th>\n",
       "      <th>Coherence Scores</th>\n",
       "    </tr>\n",
       "  </thead>\n",
       "  <tbody>\n",
       "    <tr>\n",
       "      <th>0</th>\n",
       "      <td>5</td>\n",
       "      <td>0.549539</td>\n",
       "    </tr>\n",
       "    <tr>\n",
       "      <th>1</th>\n",
       "      <td>10</td>\n",
       "      <td>0.569568</td>\n",
       "    </tr>\n",
       "    <tr>\n",
       "      <th>2</th>\n",
       "      <td>15</td>\n",
       "      <td>0.594188</td>\n",
       "    </tr>\n",
       "  </tbody>\n",
       "</table>\n",
       "</div>"
      ],
      "text/plain": [
       "   Number of Topics  Coherence Scores\n",
       "0                 5          0.549539\n",
       "1                10          0.569568\n",
       "2                15          0.594188"
      ]
     },
     "execution_count": 10,
     "metadata": {
     },
     "output_type": "execute_result"
    }
   ],
   "source": [
    "##TODO train a LDA Mallet model with 5, 10 and 15 topics\n",
    "##TODO compute the coherence score for each of these model and print the number of topics from the model with highest coherence score\n",
    "#mallet_path = '/home/cmarangon/mallet-2.0.8/bin/mallet'\n",
    "mallet_path = 'mallet-2.0.8/bin/mallet'\n",
    "\n",
    "scores = []\n",
    "for num_topics in [5, 10, 15]:\n",
    "    lda = LdaMallet(mallet_path, doc_term_matrix, num_topics=num_topics, id2word=dictionary)\n",
    "    coherence = CoherenceModel(model=lda, texts=dfs['tokens'], corpus=doc_term_matrix, dictionary=dictionary, coherence='c_v')\n",
    "    scores.append((num_topics, coherence.get_coherence()))\n",
    "df_topic = pd.DataFrame(scores, columns=[\"Number of Topics\", \"Coherence Scores\"])\n",
    "df_topic.head()"
   ]
  },
  {
   "cell_type": "code",
   "execution_count": 11,
   "metadata": {
    "collapsed": false
   },
   "outputs": [
    {
     "name": "stdout",
     "output_type": "stream",
     "text": [
      "The optimal number of topics is: 15\n"
     ]
    }
   ],
   "source": [
    "opt_topics = int(df_topic.iloc[df_topic['Coherence Scores'].idxmax()]['Number of Topics'])\n",
    "print('The optimal number of topics is: %s' %opt_topics)"
   ]
  },
  {
   "cell_type": "code",
   "execution_count": 12,
   "metadata": {
    "collapsed": false
   },
   "outputs": [
    {
     "data": {
      "text/html": [
       "\n",
       "<link rel=\"stylesheet\" type=\"text/css\" href=\"https://cdn.rawgit.com/bmabey/pyLDAvis/files/ldavis.v1.0.0.css\">\n",
       "\n",
       "\n",
       "<div id=\"ldavis_el78184139894733101984485742493\"></div>\n",
       "<script type=\"text/javascript\">\n",
       "\n",
       "var ldavis_el78184139894733101984485742493_data = {\"mdsDat\": {\"x\": [-0.03865545920617386, -0.07715387933561646, 0.0757177608320328, 0.08385017000207513, -0.12917926528005694, -0.05512371854682854, -0.04170362497132608, -0.16700335989863263, 0.28200213004116076, -0.11070693815708044, -0.01382287350238638, -0.12461055885885212, 0.291473754832318, 0.04527848101716079, -0.020362618967793497], \"y\": [0.1058658182418556, 0.1403552555924779, 0.09445058069420326, -0.05689504038352593, 0.12017440211605503, -0.08462053992931946, 0.09378497557919317, -0.16042982966492417, -0.09817232956937454, -0.24006696906162805, 0.07668985620226347, -0.183634219950561, -0.08428041602825627, 0.1524214788505466, 0.1243569773109936], \"topics\": [1, 2, 3, 4, 5, 6, 7, 8, 9, 10, 11, 12, 13, 14, 15], \"cluster\": [1, 1, 1, 1, 1, 1, 1, 1, 1, 1, 1, 1, 1, 1, 1], \"Freq\": [6.883319010605156, 6.835360454180953, 6.827914997466091, 6.8201136266965525, 6.755509977718847, 6.743228284534646, 6.715126381523643, 6.684067030377815, 6.664558333360891, 6.655952393227296, 6.646082248514876, 6.577484105236556, 6.427855756565074, 6.384537144044917, 6.378890255946682]}, \"tinfo\": {\"Term\": [\"39;s\", \"reuters\", \"ap\", \"oil\", \"company\", \"year\", \"world\", \"lead\", \"plan\", \"game\", \"tuesday\", \"win\", \"microsoft\", \"week\", \"iraq\", \"york\", \"victory\", \"president\", \"friday\", \"night\", \"home\", \"monday\", \"kill\", \"price\", \"high\", \"apple\", \"government\", \"city\", \"thursday\", \"run\", \"greenspan\", \"tour\", \"vmware\", \"half\", \"mid-2005\", \"mac\", \"cnet\", \"pm\", \"infringement\", \"separate\", \"yankees\", \"hamilton\", \"emerge\", \"oust\", \"occupue\", \"luxurious\", \"store\", \"fiscal\", \"itunes\", \"snatch\", \"stunt\", \"legend\", \"diplomatic\", \"reveal\", \"approach\", \"cumbie\", \"interception\", \"irish\", \"2,000\", \"weight\", \"plan\", \"friday\", \"apple\", \"maker\", \"start\", \"player\", \"socks\", \"adultery\", \"golf\", \"aviva\", \"maccentral\", \"sacrifice\", \"davis\", \"tough\", \"craig\", \"suicide\", \"joke\", \"holder\", \"tourist\", \"pre\", \"iverson\", \"airbus\", \"bowstreet\", \"photo\", \"ship\", \"vaccine\", \"review\", \"house\", \"infoworld\", \"board\", \"ipod\", \"early\", \"buy\", \"\\\\$225\", \"accord\", \"industry\", \"open\", \"calif.\", \"person\", \"power\", \"torch\", \"mike\", \"confusion\", \"sources\", \"supercomputer\", \"unanimous\", \"trademark\", \"bans\", \"gun\", \"auburn\", \"barely\", \"perfect\", \"ground\", \"billion\", \"birdie\", \"expertise\", \"researcher\", \"lure\", \"economic\", \"update6\", \"fly\", \"lay\", \"acre\", \"jump\", \"reaches\", \"fumble\", \"sonny\", \"retains\", \"fina\", \"krispy\", \"record\", \"u.s.\", \"set\", \"low\", \"euro\", \"percent\", \"charge\", \"ahead\", \"states\", \"datum\", \"computer\", \"india\", \"date\", \"dollar\", \"federal\", \"firm\", \"human\", \"wave\", \"operation\", \"europe\", \"legacy\", \"net\", \"alitalia\", \"saddam\", \"hockey\", \"tennis\", \"skate\", \"nascar\", \"outsourcing\", \"drug\", \"reserve\", \"trade\", \"thursday\", \"minister\", \"manchester\", \"washington\", \"partner\", \"united\", \"court\", \"page\", \"solo\", \"inc.\", \"chief\", \"design\", \"soldier\", \"application\", \"million\", \"portal\", \"price\", \"sydney\", \"company\", \"palestinians\", \"reject\", \"backup\", \"injuries\", \"dejuan\", \"elite\", \"enthusiast\", \"radio\", \"software\", \"prince\", \"occupy\", \"hpc\", \"ballroom\", \"tuscaloosa\", \"inflation\", \"quit\", \"passion\", \"franchise\", \"week\", \"cost\", \"test\", \"vote\", \"ziff\", \"chargers\", \"scrip\", \"architecture\", \"spread\", \"breast\", \"ceo\", \"lumber\", \"idf\", \"streak\", \"outkast\", \"satellite\", \"share\", \"guitar\", \"quot\", \"trading\", \"launch\", \"japan\", \"intel\", \"u.n.\", \"western\", \"games\", \"chairman\", \"supremacy\", \"pose\", \"senior\", \"beta\", \"tigers\", \"knee\", \"title\", \"byrd\", \"nations\", \"producer\", \"notable\", \"past\", \"fashion\", \"reno\", \"mark\", \"replace\", \"opium\", \"israel\", \"don\", \"bring\", \"pullout\", \"recent\", \"youngster\", \"julien\", \"vienna\", \"brace\", \"throw\", \"nfl\", \"confess\", \"tuesday\", \"league\", \"olympic\", \"sports\", \"baseball\", \"group\", \"red\", \"base\", \"cubs\", \"make\", \"coach\", \"sox\", \"tout\", \"gold\", \"long\", \"west\", \"land\", \"pitcher\", \"boston\", \"recall\", \"string\", \"champions\", \"itanium\", \"exchange\", \"germain\", \"battle\", \"mantei\", \"wild\", \"network\", \"insist\", \"begin\", \"champion\", \"blair\", \"troy\", \"card\", \"series\", \"north\", \"beat\", \"jones\", \"paris\", \"saturday\", \"occasion\", \"man\", \"manitoba\", \"4:45\", \"olympics\", \"ny\", \"msq\", \"madison\", \"golota\", \"controversial\", \"boxing\", \"top500\", \"overflowing\", \"revenue\", \"forecast\", \"white\", \"unbeaten\", \"winnipeg\", \"oks\", \"toronto\", \"runner\", \"motley\", \"wearing\", \"march\", \"widely\", \"confident\", \"afternoon\", \"office\", \"ala.\", \"ventilation\", \"lead\", \"game\", \"win\", \"night\", \"include\", \"season\", \"step\", \"stop\", \"playoff\", \"storm\", \"cash\", \"hope\", \"double\", \"triple\", \"inning\", \"british\", \"point\", \"member\", \"timberwolve\", \"chicken\", \"1.3\", \"kansas\", \"park\", \"adventure\", \"mussina\", \"woman\", \"memory\", \"nation\", \"cloning\", \"hit\", \"video\", \"scientist\", \"create\", \"introduce\", \"iranian\", \"access\", \"poor\", \"flower\", \"xinhua\", \"hostage\", \"free\", \"baghdad\", \"gardez\", \"escape\", \"afghanistan\", \"increasingly\", \"aid\", \"activity\", \"volvo\", \"allison\", \"contractor\", \"retail\", \"ruling\", \"troop\", \"sponsored\", \"adviser\", \"imagine\", \"everquest\", \"fortune\", \"developer\", \"woods\", \"wood\", \"stalemate\", \"multiplayer\", \"intimidate\", \"daniel\", \"iraq\", \"kill\", \"monday\", \"city\", \"bid\", \"israeli\", \"hold\", \"afp\", \"life\", \"arm\", \"fighting\", \"witness\", \"general\", \"user\", \"italy\", \"back\", \"frock\", \"southeastern\", \"fierce\", \"inq7\", \"deep\", \"cluster\", \"attack\", \"foreign\", \"carlos\", \"hammer\", \"break\", \"mann\", \"manufacturing\", \"moya\", \"comet\", \"minister\", \"federer\", \"manager\", \"post\", \"cornerback\", \"supreme\", \"fairground\", \"county\", \"ban\", \"kurdish\", \"injure\", \"evening\", \"judge\", \"hand\", \"alexandria\", \"matter\", \"garden\", \"evict\", \"bertrand\", \"mire\", \"scraps\", \"hurt\", \"injury\", \"louis\", \"role\", \"cell\", \"kilometre\", \"rematch\", \"diego\", \"priest\", \"danger\", \"verita\", \"ap\", \"leader\", \"anti\", \"sunday\", \"job\", \"cut\", \"rival\", \"east\", \"business\", \"blame\", \"portsmouth\", \"embassy\", \"support\", \"poulter\", \"svenska\", \"secondary\", \"lilly\", \"destination\", \"middle\", \"prison\", \"watch\", \"coup\", \"netware\", \"result\", \"rams\", \"amid\", \"scott\", \"cellulosa\", \"positive\", \"united\", \"court\", \"australia\", \"open\", \"ibm\", \"broad\", \"controversy\", \"chinese\", \"telecommuter\", \"stellar\", \"macculloch\", \"decide\", \"turkish\", \"warn\", \"financial\", \"export\", \"expert\", \"decrease\", \"privately\", \"metal\", \"echo\", \"era\", \"times\", \"upward\", \"forsyth\", \"brussels\", \"future\", \"staff\", \"email\", \"storage\", \"solemn\", \"brees\", \"jets\", \"college\", \"courtney\", \"oil\", \"york\", \"high\", \"barrel\", \"stock\", \"loss\", \"cent\", \"crude\", \"turn\", \"edge\", \"\\\\$50\", \"quote\", \"send\", \"profit\", \"thatcher\", \"felix\", \"melnyk\", \"utah\", \"1,200\", \"water\", \"ten\", \"expos\", \"wrap\", \"firefox\", \"sp2\", \"yesterday\", \"bill\", \"russian\", \"large\", \"discussion\", \"pittsburgh\", \"place\", \"china\", \"country\", \"head\", \"plane\", \"dip\", \"allen\", \"tahoe\", \"investor\", \"web\", \"heatwave\", \"fine\", \"officially\", \"armed\", \"electronics\", \"victor\", \"geico\", \"releases\", \"bite\", \"weigh\", \"wo\", \"acquire\", \"report\", \"\\\\$1.53\", \"sustain\", \"execution\", \"okinawa\", \"organization\", \"39;t\", \"fight\", \"source\", \"release\", \"lt;b&gt;\", \"october\", \"winter\", \"fail\", \"heart\", \"bundesliga\", \"roger\", \"division\", \"bielefeld\", \"id\", \"trainer\", \"infosys\", \"usatoday.com\", \"december\", \"39;s\", \"national\", \"election\", \"&lt;/b&gt\", \"hall\", \"chicago\", \"global\", \"philips\", \"major\", \"saturday\", \"field\", \"wednesday\", \"freelance\", \"jackson\", \"scientific\", \"notify\", \"turkey\", \"google\", \"engine\", \"month\", \"weekend\", \"brian\", \"ruiz\", \"die\", \"cling\", \"\\\\$3\", \"foods\", \"sergio\", \"innovation\", \"kvault\", \"airline\", \"expand\", \"aggie\", \"bullitt\", \"southern\", \"comprise\", \"prime\", \"sponsor\", \"striker\", \"crisis\", \"junichiro\", \"reuters\", \"victory\", \"online\", \"expect\", \"street\", \"live\", \"guilty\", \"arrest\", \"license\", \"opening\", \"demand\", \"rock\", \"call\", \"debt\", \"clinical\", \"unit\", \"xp\", \"slam\", \"koizumi\", \"owner\", \"eli\", \"concert\", \"pace\", \"palestinian\", \"surprise\", \"military\", \"end\", \"finance\", \"fedex\", \"linn\", \"probe\", \"sell\", \"-bernanke\", \"veritas\", \"agree\", \"honeywell\", \"novar\", \"products\", \"system\", \"economy\", \"gatecrasher\", \"hour\", \"chance\", \"uphold\", \"offender\", \"deployment\", \"risk\", \"alan\", \"tingle\", \"174th\", \"madrid\", \"money\", \"shoot\", \"webster\", \"word\", \"province\", \"year\", \"fall\", \"executive\", \"relief\", \"chip\", \"john\", \"pound\", \"cuba\", \"insurance\", \"najaf\", \"nuclear\", \"desktop\", \"supplier\", \"uk\", \"paxil\", \"lineup\", \"canon\", \"inquiry\", \"glaciers\", \"kreme\", \"fixate\", \"world\", \"hp\", \"official\", \"international\", \"ravens\", \"public\", \"deal\", \"thursday\", \"iran\", \"amp\", \"apartment\", \"haitian\", \"eminem\", \"hollywood\", \"ordinance\", \"diyarbakir\", \"jean\", \"home\", \"sc2004\", \"celebrate\", \"performance\", \"11/10/04)the\", \"veteran\", \"honours\", \"victim\", \"rise\", \"alistair\", \"overnight\", \"76,806\", \"heavy\", \"goal\", \"splish\", \"alcoholic\", \"bear\", \"detail\", \"tokage\", \"guste\", \"jamaica\", \"swat\", \"lewis\", \"run\", \"leave\", \"team\", \"texas\", \"sentence\", \"list\", \"number\", \"jail\", \"remain\", \"raid\", \"newcastle\", \"catch\", \"stadium\", \"track\", \"athletics\", \"blunkett\", \"bellamy\", \"cultivation\", \"mortgage\", \"loan\", \"engineer\", \"draper\", \"abuse\", \"boss\", \"core\", \"play\", \"big\", \"thomson\", \"maintain\", \"seed\", \"undefeated\", \"yesterday\", \"find\", \"tech\", \"u.s\", \"guerrilla\", \"deplete\", \"backfield\", \"retailer\", \"macosxrumors\", \"todd\", \"rebels\", \"convoy\", \"zangeneh\", \"ambush\", \"va.\", \"andrew\", \"police\", \"mansion\", \"largest\\\\humanitarian\", \"music\", \"buyer\", \"fetch\", \"anger\", \"european\", \"speak\", \"tap\", \"derail\", \"expansion\", \"assassinate\", \"unannounced\", \"sportswriter\", \"involve\", \"processor\", \"microsoft\", \"research\", \"server\", \"iraqi\", \"internet\", \"trial\", \"ancient\", \"san\", \"party\", \"wall\", \"complete\", \"shark\", \"finals\", \"pirate\", \"mtv\", \"claim\", \"virginia\", \"el\", \"migrate\", \"clue\", \"rcmp\", \"michigan\", \"column\", \"press\", \"corp.\", \"finally\", \"thousand\", \"screen\", \"39;s\", \"quot\", \"upbeat\", \"australia\", \"discipline\", \"address\", \"greek\", \"marathon\", \"mid\", \"mile\", \"militant\", \"melvin\", \"outgunne\", \"guitarworld\", \"hamid\", \"karzai\", \"sept.\", \"brigades\", \"sony\", \"diplomat\", \"good\", \"southampton\", \"view\", \"time\", \"\\\\$29\", \"emergency\", \"mp3\", \"day\", \"repay\", \"shipping\", \"recover\", \"summit\", \"london\", \"christmas\", \"president\", \"health\", \"air\", \"eu\", \"disaster\", \"region\", \"climb\", \"association\", \"heavyweight\", \"chechnya\", \"valderrama\", \"nasa\", \"garnett\", \"bomb\", \"bush\", \"fans\", \"science\", \"clement\", \"government\", \"unfavorable\", \"sharon\", \"ivan\", \"britain\", \"dvd\", \"space\", \"order\", \"people\", \"attempt\", \"treasury\", \"winnipegger\", \"uneasy\", \"pay\", \"tv\", \"ridicule\", \"helicopter\", \"aim\", \"doping\", \"toll\", \"westbrook\", \"touch\", \"eagle\", \"aristide\", \"announce\", \"fate\", \"3,000\", \"worker\", \"amp;m\", \"japanese\", \"mainland\", \"builds\", \"philanthropy\", \"poll\", \"snow\", \"poolside\", \"roll\", \"newspaper\", \"swiss\", \"tally\", \"sale\", \"notebook\", \"electronic\", \"secure\", \"document\", \"digital\", \"windows\", \"seek\", \"market\", \"provide\", \"giant\", \"england\", \"wide\", \"file\", \"systems\", \"football\", \"bad\", \"overtime\", \"costantino\", \"south\", \"reach\", \"close\", \"nbc\", \"duque\", \"regime\", \"stall\", \"chipper\", \"delay\", \"late\"], \"Freq\": [58.0, 37.0, 32.0, 23.0, 22.0, 20.0, 20.0, 16.0, 15.0, 15.0, 15.0, 14.0, 14.0, 13.0, 12.0, 12.0, 11.0, 11.0, 11.0, 11.0, 11.0, 11.0, 11.0, 11.0, 11.0, 10.0, 11.0, 10.0, 16.0, 10.0, 1.0583374403056633, 3.17501232091699, 1.0583374403056633, 3.17501232091699, 1.0583374403056633, 2.1166748806113267, 1.0583374403056633, 1.0583374403056633, 1.0583374403056633, 1.0583374403056633, 1.0583374403056633, 5.291687201528316, 1.0583374403056633, 1.0583374403056633, 1.0583374403056633, 1.0583374403056633, 7.408362082139644, 1.0583374403056633, 1.0583374403056633, 1.0583374403056633, 1.0583374403056633, 1.0583374403056633, 1.0583374403056633, 1.0583374403056633, 1.0583374403056633, 1.0583374403056633, 1.0583374403056633, 1.0583374403056633, 1.0583374403056633, 1.0583374403056633, 15.87506160458495, 11.641711843362296, 10.583374403056633, 7.408362082139644, 7.408362082139644, 5.291687201528316, 4.233349761222653, 3.17501232091699, 3.17501232091699, 2.1166748806113267, 2.1166748806113267, 2.1166748806113267, 2.1166748806113267, 2.1166748806113267, 2.1166748806113267, 2.1166748806113267, 2.1166748806113267, 2.1166748806113267, 2.1166748806113267, 2.1166748806113267, 2.1166748806113267, 2.1166748806113267, 2.1166748806113267, 2.1166748806113267, 2.1166748806113267, 2.1166748806113267, 2.1166748806113267, 2.1166748806113267, 2.1166748806113267, 2.1166748806113267, 7.408362082139644, 6.35002464183398, 4.233349761222653, 2.1166748806113267, 4.233349761222653, 3.17501232091699, 3.17501232091699, 2.1166748806113267, 2.1166748806113267, 2.1166748806113267, 1.0346443122260236, 1.0346443122260236, 2.069288624452047, 1.0346443122260236, 1.0346443122260236, 1.0346443122260236, 1.0346443122260236, 1.0346443122260236, 2.069288624452047, 2.069288624452047, 1.0346443122260236, 1.0346443122260236, 1.0346443122260236, 3.103932936678071, 1.0346443122260236, 1.0346443122260236, 1.0346443122260236, 1.0346443122260236, 3.103932936678071, 1.0346443122260236, 1.0346443122260236, 1.0346443122260236, 1.0346443122260236, 5.173221561130118, 1.0346443122260236, 1.0346443122260236, 1.0346443122260236, 1.0346443122260236, 1.0346443122260236, 2.069288624452047, 9.311798810034214, 9.311798810034214, 8.277154497808189, 7.242510185582165, 7.242510185582165, 6.207865873356142, 6.207865873356142, 6.207865873356142, 5.173221561130118, 5.173221561130118, 5.173221561130118, 4.138577248904094, 4.138577248904094, 4.138577248904094, 4.138577248904094, 3.103932936678071, 3.103932936678071, 3.103932936678071, 3.103932936678071, 3.103932936678071, 2.069288624452047, 2.069288624452047, 2.069288624452047, 2.069288624452047, 2.069288624452047, 2.069288624452047, 2.069288624452047, 2.069288624452047, 2.069288624452047, 6.207865873356142, 4.138577248904094, 4.138577248904094, 8.277154497808189, 5.173221561130118, 2.069288624452047, 4.138577248904094, 3.103932936678071, 5.173221561130118, 4.138577248904094, 3.0625083770843307, 3.0625083770843307, 6.125016754168661, 3.0625083770843307, 3.0625083770843307, 3.0625083770843307, 3.0625083770843307, 9.187525131252992, 3.0625083770843307, 11.229197382642544, 3.0625083770843307, 22.45839476528509, 3.0625083770843307, 3.0625083770843307, 2.0416722513895538, 1.0208361256947769, 1.0208361256947769, 1.0208361256947769, 1.0208361256947769, 4.0833445027791075, 8.166689005558215, 1.0208361256947769, 1.0208361256947769, 1.0208361256947769, 1.0208361256947769, 1.0208361256947769, 1.0208361256947769, 1.0208361256947769, 1.0208361256947769, 1.0208361256947769, 13.270869634032097, 5.104180628473884, 5.104180628473884, 2.0416722513895538, 2.0416722513895538, 2.0416722513895538, 2.0416722513895538, 2.0416722513895538, 2.0416722513895538, 2.0416722513895538, 2.0416722513895538, 2.0416722513895538, 2.0416722513895538, 2.0416722513895538, 2.0416722513895538, 2.0416722513895538, 5.104180628473884, 2.0416722513895538, 5.104180628473884, 4.0833445027791075, 3.0625083770843307, 3.0625083770843307, 3.0625083770843307, 2.0416722513895538, 2.0416722513895538, 2.0416722513895538, 1.0228071943544306, 1.0228071943544306, 1.0228071943544306, 2.045614388708861, 1.0228071943544306, 2.045614388708861, 1.0228071943544306, 3.068421583063292, 1.0228071943544306, 2.045614388708861, 1.0228071943544306, 1.0228071943544306, 1.0228071943544306, 1.0228071943544306, 2.045614388708861, 1.0228071943544306, 1.0228071943544306, 2.045614388708861, 4.091228777417722, 2.045614388708861, 1.0228071943544306, 1.0228071943544306, 1.0228071943544306, 1.0228071943544306, 1.0228071943544306, 1.0228071943544306, 1.0228071943544306, 1.0228071943544306, 8.182457554835445, 1.0228071943544306, 15.342107915316461, 8.182457554835445, 7.159650360481014, 7.159650360481014, 6.136843166126584, 6.136843166126584, 5.114035971772154, 5.114035971772154, 4.091228777417722, 4.091228777417722, 4.091228777417722, 4.091228777417722, 3.068421583063292, 3.068421583063292, 3.068421583063292, 3.068421583063292, 3.068421583063292, 3.068421583063292, 3.068421583063292, 3.068421583063292, 2.045614388708861, 2.045614388708861, 2.045614388708861, 2.045614388708861, 2.045614388708861, 2.045614388708861, 2.045614388708861, 2.045614388708861, 8.182457554835445, 2.045614388708861, 6.136843166126584, 5.114035971772154, 2.045614388708861, 2.045614388708861, 4.091228777417722, 4.091228777417722, 2.045614388708861, 4.091228777417722, 2.045614388708861, 3.068421583063292, 3.068421583063292, 1.0257431660872791, 5.128715830436396, 1.0257431660872791, 1.0257431660872791, 1.0257431660872791, 1.0257431660872791, 1.0257431660872791, 1.0257431660872791, 1.0257431660872791, 1.0257431660872791, 1.0257431660872791, 1.0257431660872791, 1.0257431660872791, 1.0257431660872791, 1.0257431660872791, 3.0772294982618376, 3.0772294982618376, 1.0257431660872791, 1.0257431660872791, 5.128715830436396, 1.0257431660872791, 1.0257431660872791, 1.0257431660872791, 1.0257431660872791, 1.0257431660872791, 1.0257431660872791, 1.0257431660872791, 1.0257431660872791, 1.0257431660872791, 1.0257431660872791, 16.411890657396466, 15.386147491309188, 14.360404325221909, 11.283174826960071, 8.205945328698233, 7.1802021626109545, 5.128715830436396, 4.1029726643491164, 4.1029726643491164, 4.1029726643491164, 4.1029726643491164, 3.0772294982618376, 3.0772294982618376, 3.0772294982618376, 3.0772294982618376, 3.0772294982618376, 3.0772294982618376, 2.0514863321745582, 2.0514863321745582, 2.0514863321745582, 2.0514863321745582, 2.0514863321745582, 2.0514863321745582, 2.0514863321745582, 2.0514863321745582, 2.0514863321745582, 2.0514863321745582, 2.0514863321745582, 2.0514863321745582, 7.1802021626109545, 5.128715830436396, 3.0772294982618376, 3.0772294982618376, 3.0772294982618376, 3.0772294982618376, 2.0514863321745582, 1.023878338281055, 1.023878338281055, 1.023878338281055, 4.09551335312422, 4.09551335312422, 4.09551335312422, 2.04775667656211, 2.04775667656211, 6.143270029686329, 1.023878338281055, 2.04775667656211, 1.023878338281055, 1.023878338281055, 1.023878338281055, 1.023878338281055, 1.023878338281055, 1.023878338281055, 3.0716350148431646, 1.023878338281055, 1.023878338281055, 1.023878338281055, 2.04775667656211, 1.023878338281055, 1.023878338281055, 1.023878338281055, 1.023878338281055, 1.023878338281055, 1.023878338281055, 1.023878338281055, 1.023878338281055, 12.286540059372658, 11.262661721091604, 11.262661721091604, 10.23878338281055, 9.214905044529495, 7.167148367967385, 7.167148367967385, 5.119391691405275, 5.119391691405275, 4.09551335312422, 4.09551335312422, 3.0716350148431646, 3.0716350148431646, 3.0716350148431646, 3.0716350148431646, 2.04775667656211, 2.04775667656211, 2.04775667656211, 2.04775667656211, 2.04775667656211, 2.04775667656211, 2.04775667656211, 2.04775667656211, 2.04775667656211, 2.04775667656211, 2.04775667656211, 3.0716350148431646, 2.04775667656211, 3.0716350148431646, 2.04775667656211, 2.04775667656211, 3.0716350148431646, 2.04775667656211, 1.0324771603642344, 4.129908641456938, 1.0324771603642344, 2.064954320728469, 1.0324771603642344, 1.0324771603642344, 3.0974314810927037, 2.064954320728469, 1.0324771603642344, 1.0324771603642344, 1.0324771603642344, 3.0974314810927037, 1.0324771603642344, 3.0974314810927037, 1.0324771603642344, 2.064954320728469, 1.0324771603642344, 1.0324771603642344, 1.0324771603642344, 3.0974314810927037, 3.0974314810927037, 1.0324771603642344, 1.0324771603642344, 2.064954320728469, 1.0324771603642344, 1.0324771603642344, 1.0324771603642344, 1.0324771603642344, 1.0324771603642344, 1.0324771603642344, 32.00679197129127, 7.227340122549642, 6.194862962185407, 6.194862962185407, 5.162385801821173, 4.129908641456938, 4.129908641456938, 4.129908641456938, 4.129908641456938, 3.0974314810927037, 3.0974314810927037, 3.0974314810927037, 3.0974314810927037, 3.0974314810927037, 2.064954320728469, 2.064954320728469, 2.064954320728469, 2.064954320728469, 2.064954320728469, 2.064954320728469, 2.064954320728469, 2.064954320728469, 2.064954320728469, 2.064954320728469, 2.064954320728469, 5.162385801821173, 2.064954320728469, 2.064954320728469, 2.064954320728469, 5.162385801821173, 4.129908641456938, 3.0974314810927037, 3.0974314810927037, 2.064954320728469, 1.1118820036198453, 1.1118820036198453, 2.2237640072396907, 1.1118820036198453, 1.1118820036198453, 1.1118820036198453, 2.2237640072396907, 4.447528014479381, 1.1118820036198453, 2.2237640072396907, 3.335646010859536, 4.447528014479381, 2.2237640072396907, 1.1118820036198453, 1.1118820036198453, 1.1118820036198453, 1.1118820036198453, 1.1118820036198453, 1.1118820036198453, 1.1118820036198453, 1.1118820036198453, 5.559410018099228, 1.1118820036198453, 1.1118820036198453, 1.1118820036198453, 1.1118820036198453, 1.1118820036198453, 2.2237640072396907, 1.1118820036198453, 1.1118820036198453, 23.349522076016754, 12.2307020398183, 11.118820036198455, 7.783174025338918, 6.671292021719072, 5.559410018099228, 4.447528014479381, 4.447528014479381, 4.447528014479381, 4.447528014479381, 3.335646010859536, 3.335646010859536, 3.335646010859536, 3.335646010859536, 2.2237640072396907, 2.2237640072396907, 2.2237640072396907, 2.2237640072396907, 2.2237640072396907, 2.2237640072396907, 2.2237640072396907, 2.2237640072396907, 2.2237640072396907, 2.2237640072396907, 2.2237640072396907, 7.783174025338918, 4.447528014479381, 4.447528014479381, 3.335646010859536, 1.0411236319487494, 1.0411236319487494, 3.1233708958462487, 4.164494527794997, 5.2056181597437465, 3.1233708958462487, 1.0411236319487494, 1.0411236319487494, 1.0411236319487494, 2.0822472638974987, 3.1233708958462487, 5.2056181597437465, 1.0411236319487494, 2.0822472638974987, 1.0411236319487494, 1.0411236319487494, 4.164494527794997, 1.0411236319487494, 2.0822472638974987, 1.0411236319487494, 1.0411236319487494, 1.0411236319487494, 2.0822472638974987, 1.0411236319487494, 6.246741791692497, 1.0411236319487494, 1.0411236319487494, 2.0822472638974987, 1.0411236319487494, 1.0411236319487494, 9.370112687538747, 6.246741791692497, 6.246741791692497, 5.2056181597437465, 5.2056181597437465, 4.164494527794997, 3.1233708958462487, 3.1233708958462487, 3.1233708958462487, 3.1233708958462487, 2.0822472638974987, 2.0822472638974987, 2.0822472638974987, 2.0822472638974987, 2.0822472638974987, 2.0822472638974987, 2.0822472638974987, 2.0822472638974987, 45.80943980574498, 7.287865423641247, 6.246741791692497, 4.164494527794997, 3.1233708958462487, 3.1233708958462487, 3.1233708958462487, 3.1233708958462487, 3.1233708958462487, 3.1233708958462487, 2.0822472638974987, 9.635973850868268, 1.0706637612075856, 3.211991283622756, 2.141327522415171, 1.0706637612075856, 5.353318806037927, 4.282655044830342, 1.0706637612075856, 7.494646328453098, 3.211991283622756, 1.0706637612075856, 2.141327522415171, 3.211991283622756, 1.0706637612075856, 1.0706637612075856, 1.0706637612075856, 1.0706637612075856, 1.0706637612075856, 2.141327522415171, 1.0706637612075856, 2.141327522415171, 1.0706637612075856, 1.0706637612075856, 2.141327522415171, 1.0706637612075856, 4.282655044830342, 1.0706637612075856, 1.0706637612075856, 1.0706637612075856, 1.0706637612075856, 37.47323164226549, 11.777301373283441, 7.494646328453098, 6.423982567245512, 4.282655044830342, 4.282655044830342, 3.211991283622756, 3.211991283622756, 3.211991283622756, 3.211991283622756, 3.211991283622756, 3.211991283622756, 3.211991283622756, 3.211991283622756, 3.211991283622756, 3.211991283622756, 2.141327522415171, 2.141327522415171, 2.141327522415171, 2.141327522415171, 2.141327522415171, 2.141327522415171, 2.141327522415171, 4.282655044830342, 2.141327522415171, 2.141327522415171, 7.7126202093479765, 1.101802887049711, 2.203605774099422, 1.101802887049711, 3.3054086611491327, 4.407211548198844, 1.101802887049711, 1.101802887049711, 5.509014435248555, 2.203605774099422, 2.203605774099422, 1.101802887049711, 5.509014435248555, 3.3054086611491327, 1.101802887049711, 1.101802887049711, 1.101802887049711, 1.101802887049711, 1.101802887049711, 1.101802887049711, 1.101802887049711, 1.101802887049711, 1.101802887049711, 1.101802887049711, 2.203605774099422, 1.101802887049711, 1.101802887049711, 1.101802887049711, 1.101802887049711, 1.101802887049711, 20.93425485394451, 4.407211548198844, 4.407211548198844, 4.407211548198844, 4.407211548198844, 4.407211548198844, 3.3054086611491327, 3.3054086611491327, 3.3054086611491327, 3.3054086611491327, 3.3054086611491327, 3.3054086611491327, 3.3054086611491327, 3.3054086611491327, 2.203605774099422, 2.203605774099422, 2.203605774099422, 2.203605774099422, 2.203605774099422, 2.203605774099422, 2.203605774099422, 19.832451966894798, 2.203605774099422, 9.916225983447399, 4.407211548198844, 2.203605774099422, 3.3054086611491327, 3.3054086611491327, 5.509014435248555, 3.3054086611491327, 2.203605774099422, 1.1170263947359922, 1.1170263947359922, 2.2340527894719844, 5.58513197367996, 1.1170263947359922, 1.1170263947359922, 1.1170263947359922, 11.17026394735992, 2.2340527894719844, 1.1170263947359922, 1.1170263947359922, 1.1170263947359922, 1.1170263947359922, 1.1170263947359922, 1.1170263947359922, 3.351079184207977, 1.1170263947359922, 1.1170263947359922, 1.1170263947359922, 3.351079184207977, 1.1170263947359922, 1.1170263947359922, 1.1170263947359922, 1.1170263947359922, 2.2340527894719844, 1.1170263947359922, 1.1170263947359922, 1.1170263947359922, 1.1170263947359922, 3.351079184207977, 10.05323755262393, 8.936211157887938, 6.702158368415954, 5.58513197367996, 5.58513197367996, 4.468105578943969, 4.468105578943969, 3.351079184207977, 3.351079184207977, 3.351079184207977, 3.351079184207977, 3.351079184207977, 3.351079184207977, 3.351079184207977, 2.2340527894719844, 2.2340527894719844, 2.2340527894719844, 2.2340527894719844, 2.2340527894719844, 2.2340527894719844, 2.2340527894719844, 2.2340527894719844, 2.2340527894719844, 2.2340527894719844, 2.2340527894719844, 10.05323755262393, 7.819184763151946, 2.2340527894719844, 3.351079184207977, 2.2340527894719844, 2.2340527894719844, 3.351079184207977, 2.2340527894719844, 2.2340527894719844, 1.173384605149744, 1.173384605149744, 2.346769210299488, 1.173384605149744, 1.173384605149744, 1.173384605149744, 1.173384605149744, 1.173384605149744, 1.173384605149744, 1.173384605149744, 2.346769210299488, 1.173384605149744, 1.173384605149744, 5.86692302574872, 1.173384605149744, 1.173384605149744, 5.86692302574872, 1.173384605149744, 1.173384605149744, 2.346769210299488, 5.86692302574872, 1.173384605149744, 1.173384605149744, 2.346769210299488, 2.346769210299488, 1.173384605149744, 1.173384605149744, 2.346769210299488, 1.173384605149744, 3.5201538154492322, 14.080615261796929, 7.0403076308984645, 5.86692302574872, 4.693538420598976, 4.693538420598976, 4.693538420598976, 3.5201538154492322, 3.5201538154492322, 3.5201538154492322, 3.5201538154492322, 3.5201538154492322, 3.5201538154492322, 2.346769210299488, 2.346769210299488, 2.346769210299488, 2.346769210299488, 2.346769210299488, 2.346769210299488, 2.346769210299488, 2.346769210299488, 2.346769210299488, 2.346769210299488, 2.346769210299488, 2.346769210299488, 7.0403076308984645, 2.346769210299488, 2.346769210299488, 2.346769210299488, 11.73384605149744, 3.5201538154492322, 2.346769210299488, 2.346769210299488, 1.1398620527499974, 2.279724105499995, 1.1398620527499974, 2.279724105499995, 1.1398620527499974, 1.1398620527499974, 1.1398620527499974, 1.1398620527499974, 1.1398620527499974, 1.1398620527499974, 1.1398620527499974, 2.279724105499995, 3.4195861582499925, 1.1398620527499974, 3.4195861582499925, 2.279724105499995, 6.839172316499985, 1.1398620527499974, 1.1398620527499974, 6.839172316499985, 2.279724105499995, 1.1398620527499974, 3.4195861582499925, 7.979034369249982, 2.279724105499995, 1.1398620527499974, 1.1398620527499974, 1.1398620527499974, 6.839172316499985, 1.1398620527499974, 11.398620527499975, 5.699310263749988, 4.55944821099999, 3.4195861582499925, 3.4195861582499925, 3.4195861582499925, 3.4195861582499925, 3.4195861582499925, 3.4195861582499925, 2.279724105499995, 2.279724105499995, 2.279724105499995, 2.279724105499995, 2.279724105499995, 2.279724105499995, 2.279724105499995, 2.279724105499995, 2.279724105499995, 10.258758474749976, 2.279724105499995, 2.279724105499995, 2.279724105499995, 5.699310263749988, 2.279724105499995, 3.4195861582499925, 3.4195861582499925, 3.4195861582499925, 2.279724105499995, 1.155788517006845, 1.155788517006845, 1.155788517006845, 1.155788517006845, 4.62315406802738, 1.155788517006845, 2.31157703401369, 2.31157703401369, 3.4673655510205346, 2.31157703401369, 2.31157703401369, 1.155788517006845, 1.155788517006845, 1.155788517006845, 5.778942585034224, 1.155788517006845, 1.155788517006845, 2.31157703401369, 2.31157703401369, 1.155788517006845, 2.31157703401369, 1.155788517006845, 1.155788517006845, 2.31157703401369, 1.155788517006845, 1.155788517006845, 1.155788517006845, 1.155788517006845, 1.155788517006845, 1.155788517006845, 6.934731102041069, 5.778942585034224, 5.778942585034224, 5.778942585034224, 5.778942585034224, 5.778942585034224, 4.62315406802738, 4.62315406802738, 4.62315406802738, 4.62315406802738, 4.62315406802738, 3.4673655510205346, 3.4673655510205346, 3.4673655510205346, 3.4673655510205346, 3.4673655510205346, 3.4673655510205346, 3.4673655510205346, 3.4673655510205346, 3.4673655510205346, 3.4673655510205346, 3.4673655510205346, 2.31157703401369, 2.31157703401369, 2.31157703401369, 2.31157703401369, 2.31157703401369, 3.4673655510205346, 3.4673655510205346], \"Total\": [58.0, 37.0, 32.0, 23.0, 22.0, 20.0, 20.0, 16.0, 15.0, 15.0, 15.0, 14.0, 14.0, 13.0, 12.0, 12.0, 11.0, 11.0, 11.0, 11.0, 11.0, 11.0, 11.0, 11.0, 11.0, 10.0, 11.0, 10.0, 16.0, 10.0, 1.0583374403056633, 3.17501232091699, 1.0583374403056633, 3.17501232091699, 1.0583374403056633, 2.1166748806113267, 1.0583374403056633, 1.0583374403056633, 1.0583374403056633, 1.0583374403056633, 1.0583374403056633, 5.291687201528316, 1.0583374403056633, 1.0583374403056633, 1.0583374403056633, 1.0583374403056633, 7.408362082139644, 1.0583374403056633, 1.0583374403056633, 1.0583374403056633, 1.0583374403056633, 1.0583374403056633, 1.0583374403056633, 1.0583374403056633, 1.0583374403056633, 1.0583374403056633, 1.0583374403056633, 1.0583374403056633, 1.0583374403056633, 1.0583374403056633, 15.87506160458495, 11.641711843362296, 10.583374403056633, 7.408362082139644, 7.408362082139644, 5.291687201528316, 4.233349761222653, 3.17501232091699, 3.17501232091699, 2.1166748806113267, 2.1166748806113267, 2.1166748806113267, 2.1166748806113267, 2.1166748806113267, 2.1166748806113267, 2.1166748806113267, 2.1166748806113267, 2.1166748806113267, 2.1166748806113267, 2.1166748806113267, 2.1166748806113267, 2.1166748806113267, 2.1166748806113267, 2.1166748806113267, 2.1166748806113267, 2.1166748806113267, 2.1166748806113267, 2.1166748806113267, 2.1166748806113267, 2.1166748806113267, 8.548224134889642, 8.414978962562449, 5.259092927309933, 2.1166748806113267, 6.467402550694638, 5.216684572306544, 7.307088114235717, 3.1513191928373505, 3.2900594857610708, 3.2724633976181714, 1.0346443122260236, 1.0346443122260236, 2.069288624452047, 1.0346443122260236, 1.0346443122260236, 1.0346443122260236, 1.0346443122260236, 1.0346443122260236, 2.069288624452047, 2.069288624452047, 1.0346443122260236, 1.0346443122260236, 1.0346443122260236, 3.103932936678071, 1.0346443122260236, 1.0346443122260236, 1.0346443122260236, 1.0346443122260236, 3.103932936678071, 1.0346443122260236, 1.0346443122260236, 1.0346443122260236, 1.0346443122260236, 5.173221561130118, 1.0346443122260236, 1.0346443122260236, 1.0346443122260236, 1.0346443122260236, 1.0346443122260236, 2.069288624452047, 9.311798810034214, 9.311798810034214, 8.277154497808189, 7.242510185582165, 7.242510185582165, 6.207865873356142, 6.207865873356142, 6.207865873356142, 5.173221561130118, 5.173221561130118, 5.173221561130118, 4.138577248904094, 4.138577248904094, 4.138577248904094, 4.138577248904094, 3.103932936678071, 3.103932936678071, 3.103932936678071, 3.103932936678071, 3.103932936678071, 2.069288624452047, 2.069288624452047, 2.069288624452047, 2.069288624452047, 2.069288624452047, 2.069288624452047, 2.069288624452047, 2.069288624452047, 2.069288624452047, 8.431629880595832, 5.161384443258525, 5.20924101011168, 16.020221722528728, 8.244856575973284, 2.069288624452047, 6.190063581078652, 4.127811274959126, 10.33560736295129, 10.548209995861026, 3.0625083770843307, 3.0625083770843307, 6.125016754168661, 3.0625083770843307, 3.0625083770843307, 3.0625083770843307, 3.0625083770843307, 9.187525131252992, 3.0625083770843307, 11.229197382642544, 3.0625083770843307, 22.45839476528509, 3.0625083770843307, 3.0625083770843307, 2.0416722513895538, 1.0208361256947769, 1.0208361256947769, 1.0208361256947769, 1.0208361256947769, 4.0833445027791075, 8.166689005558215, 1.0208361256947769, 1.0208361256947769, 1.0208361256947769, 1.0208361256947769, 1.0208361256947769, 1.0208361256947769, 1.0208361256947769, 1.0208361256947769, 1.0208361256947769, 13.270869634032097, 5.104180628473884, 5.104180628473884, 2.0416722513895538, 2.0416722513895538, 2.0416722513895538, 2.0416722513895538, 2.0416722513895538, 2.0416722513895538, 2.0416722513895538, 2.0416722513895538, 2.0416722513895538, 2.0416722513895538, 2.0416722513895538, 2.0416722513895538, 2.0416722513895538, 6.138824940699908, 2.0416722513895538, 8.624334443923116, 6.2197917020548426, 4.0882515431716095, 4.218296894091176, 5.409277587383819, 3.0644794457439843, 3.1123360125971393, 3.067415417476833, 1.0228071943544306, 1.0228071943544306, 1.0228071943544306, 2.045614388708861, 1.0228071943544306, 2.045614388708861, 1.0228071943544306, 3.068421583063292, 1.0228071943544306, 2.045614388708861, 1.0228071943544306, 1.0228071943544306, 1.0228071943544306, 1.0228071943544306, 2.045614388708861, 1.0228071943544306, 1.0228071943544306, 2.045614388708861, 4.091228777417722, 2.045614388708861, 1.0228071943544306, 1.0228071943544306, 1.0228071943544306, 1.0228071943544306, 1.0228071943544306, 1.0228071943544306, 1.0228071943544306, 1.0228071943544306, 8.182457554835445, 1.0228071943544306, 15.342107915316461, 8.182457554835445, 7.159650360481014, 7.159650360481014, 6.136843166126584, 6.136843166126584, 5.114035971772154, 5.114035971772154, 4.091228777417722, 4.091228777417722, 4.091228777417722, 4.091228777417722, 3.068421583063292, 3.068421583063292, 3.068421583063292, 3.068421583063292, 3.068421583063292, 3.068421583063292, 3.068421583063292, 3.068421583063292, 2.045614388708861, 2.045614388708861, 2.045614388708861, 2.045614388708861, 2.045614388708861, 2.045614388708861, 2.045614388708861, 2.045614388708861, 9.355842159985189, 2.045614388708861, 7.157679291821362, 6.1723734120778175, 2.045614388708861, 2.045614388708861, 5.112064903112499, 5.132352409366471, 2.045614388708861, 6.370952882917717, 2.045614388708861, 4.139085344270878, 6.191792478909541, 1.0257431660872791, 5.128715830436396, 1.0257431660872791, 1.0257431660872791, 1.0257431660872791, 1.0257431660872791, 1.0257431660872791, 1.0257431660872791, 1.0257431660872791, 1.0257431660872791, 1.0257431660872791, 1.0257431660872791, 1.0257431660872791, 1.0257431660872791, 1.0257431660872791, 3.0772294982618376, 3.0772294982618376, 1.0257431660872791, 1.0257431660872791, 5.128715830436396, 1.0257431660872791, 1.0257431660872791, 1.0257431660872791, 1.0257431660872791, 1.0257431660872791, 1.0257431660872791, 1.0257431660872791, 1.0257431660872791, 1.0257431660872791, 1.0257431660872791, 16.411890657396466, 15.386147491309188, 14.360404325221909, 11.283174826960071, 8.205945328698233, 7.1802021626109545, 5.128715830436396, 4.1029726643491164, 4.1029726643491164, 4.1029726643491164, 4.1029726643491164, 3.0772294982618376, 3.0772294982618376, 3.0772294982618376, 3.0772294982618376, 3.0772294982618376, 3.0772294982618376, 2.0514863321745582, 2.0514863321745582, 2.0514863321745582, 2.0514863321745582, 2.0514863321745582, 2.0514863321745582, 2.0514863321745582, 2.0514863321745582, 2.0514863321745582, 2.0514863321745582, 2.0514863321745582, 2.0514863321745582, 9.326728478456824, 6.240597834056241, 4.101107836542893, 4.111873810487861, 4.233018015268683, 4.250614103411582, 3.0861306444005816, 1.023878338281055, 1.023878338281055, 1.023878338281055, 4.09551335312422, 4.09551335312422, 4.09551335312422, 2.04775667656211, 2.04775667656211, 6.143270029686329, 1.023878338281055, 2.04775667656211, 1.023878338281055, 1.023878338281055, 1.023878338281055, 1.023878338281055, 1.023878338281055, 1.023878338281055, 3.0716350148431646, 1.023878338281055, 1.023878338281055, 1.023878338281055, 2.04775667656211, 1.023878338281055, 1.023878338281055, 1.023878338281055, 1.023878338281055, 1.023878338281055, 1.023878338281055, 1.023878338281055, 1.023878338281055, 12.286540059372658, 11.262661721091604, 11.262661721091604, 10.23878338281055, 9.214905044529495, 7.167148367967385, 7.167148367967385, 5.119391691405275, 5.119391691405275, 4.09551335312422, 4.09551335312422, 3.0716350148431646, 3.0716350148431646, 3.0716350148431646, 3.0716350148431646, 2.04775667656211, 2.04775667656211, 2.04775667656211, 2.04775667656211, 2.04775667656211, 2.04775667656211, 2.04775667656211, 2.04775667656211, 2.04775667656211, 2.04775667656211, 2.04775667656211, 4.14229877605075, 2.04775667656211, 5.295399022082855, 2.04775667656211, 2.04775667656211, 8.244856575973284, 2.04775667656211, 1.0324771603642344, 4.129908641456938, 1.0324771603642344, 2.064954320728469, 1.0324771603642344, 1.0324771603642344, 3.0974314810927037, 2.064954320728469, 1.0324771603642344, 1.0324771603642344, 1.0324771603642344, 3.0974314810927037, 1.0324771603642344, 3.0974314810927037, 1.0324771603642344, 2.064954320728469, 1.0324771603642344, 1.0324771603642344, 1.0324771603642344, 3.0974314810927037, 3.0974314810927037, 1.0324771603642344, 1.0324771603642344, 2.064954320728469, 1.0324771603642344, 1.0324771603642344, 1.0324771603642344, 1.0324771603642344, 1.0324771603642344, 1.0324771603642344, 32.00679197129127, 7.227340122549642, 6.194862962185407, 6.194862962185407, 5.162385801821173, 4.129908641456938, 4.129908641456938, 4.129908641456938, 4.129908641456938, 3.0974314810927037, 3.0974314810927037, 3.0974314810927037, 3.0974314810927037, 3.0974314810927037, 2.064954320728469, 2.064954320728469, 2.064954320728469, 2.064954320728469, 2.064954320728469, 2.064954320728469, 2.064954320728469, 2.064954320728469, 2.064954320728469, 2.064954320728469, 2.064954320728469, 6.186264140102228, 2.064954320728469, 2.064954320728469, 2.064954320728469, 10.33560736295129, 10.548209995861026, 5.444200691392192, 7.307088114235717, 7.329027584761914, 1.1118820036198453, 1.1118820036198453, 2.2237640072396907, 1.1118820036198453, 1.1118820036198453, 1.1118820036198453, 2.2237640072396907, 4.447528014479381, 1.1118820036198453, 2.2237640072396907, 3.335646010859536, 4.447528014479381, 2.2237640072396907, 1.1118820036198453, 1.1118820036198453, 1.1118820036198453, 1.1118820036198453, 1.1118820036198453, 1.1118820036198453, 1.1118820036198453, 1.1118820036198453, 5.559410018099228, 1.1118820036198453, 1.1118820036198453, 1.1118820036198453, 1.1118820036198453, 1.1118820036198453, 2.2237640072396907, 1.1118820036198453, 1.1118820036198453, 23.349522076016754, 12.2307020398183, 11.118820036198455, 7.783174025338918, 6.671292021719072, 5.559410018099228, 4.447528014479381, 4.447528014479381, 4.447528014479381, 4.447528014479381, 3.335646010859536, 3.335646010859536, 3.335646010859536, 3.335646010859536, 2.2237640072396907, 2.2237640072396907, 2.2237640072396907, 2.2237640072396907, 2.2237640072396907, 2.2237640072396907, 2.2237640072396907, 2.2237640072396907, 2.2237640072396907, 2.2237640072396907, 2.2237640072396907, 11.134253209546895, 5.470335208833812, 5.482172326705405, 4.3564821365543125, 1.0411236319487494, 1.0411236319487494, 3.1233708958462487, 4.164494527794997, 5.2056181597437465, 3.1233708958462487, 1.0411236319487494, 1.0411236319487494, 1.0411236319487494, 2.0822472638974987, 3.1233708958462487, 5.2056181597437465, 1.0411236319487494, 2.0822472638974987, 1.0411236319487494, 1.0411236319487494, 4.164494527794997, 1.0411236319487494, 2.0822472638974987, 1.0411236319487494, 1.0411236319487494, 1.0411236319487494, 2.0822472638974987, 1.0411236319487494, 6.246741791692497, 1.0411236319487494, 1.0411236319487494, 2.0822472638974987, 1.0411236319487494, 1.0411236319487494, 9.370112687538747, 6.246741791692497, 6.246741791692497, 5.2056181597437465, 5.2056181597437465, 4.164494527794997, 3.1233708958462487, 3.1233708958462487, 3.1233708958462487, 3.1233708958462487, 2.0822472638974987, 2.0822472638974987, 2.0822472638974987, 2.0822472638974987, 2.0822472638974987, 2.0822472638974987, 2.0822472638974987, 2.0822472638974987, 58.577930169468445, 8.311743761922301, 7.402530308699342, 5.3378791329447415, 4.147249234127304, 4.194034657053834, 4.2251737828959595, 4.240397290582241, 5.326976669945671, 6.191792478909541, 4.198922144508826, 9.635973850868268, 1.0706637612075856, 3.211991283622756, 2.141327522415171, 1.0706637612075856, 5.353318806037927, 4.282655044830342, 1.0706637612075856, 7.494646328453098, 3.211991283622756, 1.0706637612075856, 2.141327522415171, 3.211991283622756, 1.0706637612075856, 1.0706637612075856, 1.0706637612075856, 1.0706637612075856, 1.0706637612075856, 2.141327522415171, 1.0706637612075856, 2.141327522415171, 1.0706637612075856, 1.0706637612075856, 2.141327522415171, 1.0706637612075856, 4.282655044830342, 1.0706637612075856, 1.0706637612075856, 1.0706637612075856, 1.0706637612075856, 37.47323164226549, 11.777301373283441, 7.494646328453098, 6.423982567245512, 4.282655044830342, 4.282655044830342, 3.211991283622756, 3.211991283622756, 3.211991283622756, 3.211991283622756, 3.211991283622756, 3.211991283622756, 3.211991283622756, 3.211991283622756, 3.211991283622756, 3.211991283622756, 2.141327522415171, 2.141327522415171, 2.141327522415171, 2.141327522415171, 2.141327522415171, 2.141327522415171, 2.141327522415171, 5.340992485136006, 3.314712127564915, 3.2431304094648823, 7.7126202093479765, 1.101802887049711, 2.203605774099422, 1.101802887049711, 3.3054086611491327, 4.407211548198844, 1.101802887049711, 1.101802887049711, 5.509014435248555, 2.203605774099422, 2.203605774099422, 1.101802887049711, 5.509014435248555, 3.3054086611491327, 1.101802887049711, 1.101802887049711, 1.101802887049711, 1.101802887049711, 1.101802887049711, 1.101802887049711, 1.101802887049711, 1.101802887049711, 1.101802887049711, 1.101802887049711, 2.203605774099422, 1.101802887049711, 1.101802887049711, 1.101802887049711, 1.101802887049711, 1.101802887049711, 20.93425485394451, 4.407211548198844, 4.407211548198844, 4.407211548198844, 4.407211548198844, 4.407211548198844, 3.3054086611491327, 3.3054086611491327, 3.3054086611491327, 3.3054086611491327, 3.3054086611491327, 3.3054086611491327, 3.3054086611491327, 3.3054086611491327, 2.203605774099422, 2.203605774099422, 2.203605774099422, 2.203605774099422, 2.203605774099422, 2.203605774099422, 2.203605774099422, 20.89078940720046, 2.203605774099422, 11.056088036197396, 5.580596153348588, 2.203605774099422, 4.331151827236412, 4.461197178155977, 16.020221722528728, 5.353165337711243, 2.203605774099422, 1.1170263947359922, 1.1170263947359922, 2.2340527894719844, 5.58513197367996, 1.1170263947359922, 1.1170263947359922, 1.1170263947359922, 11.17026394735992, 2.2340527894719844, 1.1170263947359922, 1.1170263947359922, 1.1170263947359922, 1.1170263947359922, 1.1170263947359922, 1.1170263947359922, 3.351079184207977, 1.1170263947359922, 1.1170263947359922, 1.1170263947359922, 3.351079184207977, 1.1170263947359922, 1.1170263947359922, 1.1170263947359922, 1.1170263947359922, 2.2340527894719844, 1.1170263947359922, 1.1170263947359922, 1.1170263947359922, 1.1170263947359922, 3.351079184207977, 10.05323755262393, 8.936211157887938, 6.702158368415954, 5.58513197367996, 5.58513197367996, 4.468105578943969, 4.468105578943969, 3.351079184207977, 3.351079184207977, 3.351079184207977, 3.351079184207977, 3.351079184207977, 3.351079184207977, 3.351079184207977, 2.2340527894719844, 2.2340527894719844, 2.2340527894719844, 2.2340527894719844, 2.2340527894719844, 2.2340527894719844, 2.2340527894719844, 2.2340527894719844, 2.2340527894719844, 2.2340527894719844, 2.2340527894719844, 11.193099605373927, 9.960512285567116, 2.2340527894719844, 4.376822350295256, 2.2340527894719844, 2.2340527894719844, 11.134253209546895, 3.3459347930918297, 3.2597959555592633, 1.173384605149744, 1.173384605149744, 2.346769210299488, 1.173384605149744, 1.173384605149744, 1.173384605149744, 1.173384605149744, 1.173384605149744, 1.173384605149744, 1.173384605149744, 2.346769210299488, 1.173384605149744, 1.173384605149744, 5.86692302574872, 1.173384605149744, 1.173384605149744, 5.86692302574872, 1.173384605149744, 1.173384605149744, 2.346769210299488, 5.86692302574872, 1.173384605149744, 1.173384605149744, 2.346769210299488, 2.346769210299488, 1.173384605149744, 1.173384605149744, 2.346769210299488, 1.173384605149744, 3.5201538154492322, 14.080615261796929, 7.0403076308984645, 5.86692302574872, 4.693538420598976, 4.693538420598976, 4.693538420598976, 3.5201538154492322, 3.5201538154492322, 3.5201538154492322, 3.5201538154492322, 3.5201538154492322, 3.5201538154492322, 2.346769210299488, 2.346769210299488, 2.346769210299488, 2.346769210299488, 2.346769210299488, 2.346769210299488, 2.346769210299488, 2.346769210299488, 2.346769210299488, 2.346769210299488, 2.346769210299488, 2.346769210299488, 8.061143756593241, 2.346769210299488, 2.346769210299488, 2.346769210299488, 58.577930169468445, 8.624334443923116, 3.381413522525512, 5.444200691392192, 1.1398620527499974, 2.279724105499995, 1.1398620527499974, 2.279724105499995, 1.1398620527499974, 1.1398620527499974, 1.1398620527499974, 1.1398620527499974, 1.1398620527499974, 1.1398620527499974, 1.1398620527499974, 2.279724105499995, 3.4195861582499925, 1.1398620527499974, 3.4195861582499925, 2.279724105499995, 6.839172316499985, 1.1398620527499974, 1.1398620527499974, 6.839172316499985, 2.279724105499995, 1.1398620527499974, 3.4195861582499925, 7.979034369249982, 2.279724105499995, 1.1398620527499974, 1.1398620527499974, 1.1398620527499974, 6.839172316499985, 1.1398620527499974, 11.398620527499975, 5.699310263749988, 4.55944821099999, 3.4195861582499925, 3.4195861582499925, 3.4195861582499925, 3.4195861582499925, 3.4195861582499925, 3.4195861582499925, 2.279724105499995, 2.279724105499995, 2.279724105499995, 2.279724105499995, 2.279724105499995, 2.279724105499995, 2.279724105499995, 2.279724105499995, 2.279724105499995, 11.299882106698727, 2.279724105499995, 2.279724105499995, 2.279724105499995, 6.731787424114222, 2.279724105499995, 4.454230470476016, 5.704852767019582, 6.523519094928064, 3.338061545805658, 1.155788517006845, 1.155788517006845, 1.155788517006845, 1.155788517006845, 4.62315406802738, 1.155788517006845, 2.31157703401369, 2.31157703401369, 3.4673655510205346, 2.31157703401369, 2.31157703401369, 1.155788517006845, 1.155788517006845, 1.155788517006845, 5.778942585034224, 1.155788517006845, 1.155788517006845, 2.31157703401369, 2.31157703401369, 1.155788517006845, 2.31157703401369, 1.155788517006845, 1.155788517006845, 2.31157703401369, 1.155788517006845, 1.155788517006845, 1.155788517006845, 1.155788517006845, 1.155788517006845, 1.155788517006845, 6.934731102041069, 5.778942585034224, 5.778942585034224, 5.778942585034224, 5.778942585034224, 5.778942585034224, 4.62315406802738, 4.62315406802738, 4.62315406802738, 4.62315406802738, 4.62315406802738, 3.4673655510205346, 3.4673655510205346, 3.4673655510205346, 3.4673655510205346, 3.4673655510205346, 3.4673655510205346, 3.4673655510205346, 3.4673655510205346, 3.4673655510205346, 3.4673655510205346, 3.4673655510205346, 2.31157703401369, 2.31157703401369, 2.31157703401369, 2.31157703401369, 2.31157703401369, 4.4931087171078135, 4.607227603770532], \"Category\": [\"Default\", \"Default\", \"Default\", \"Default\", \"Default\", \"Default\", \"Default\", \"Default\", \"Default\", \"Default\", \"Default\", \"Default\", \"Default\", \"Default\", \"Default\", \"Default\", \"Default\", \"Default\", \"Default\", \"Default\", \"Default\", \"Default\", \"Default\", \"Default\", \"Default\", \"Default\", \"Default\", \"Default\", \"Default\", \"Default\", \"Topic1\", \"Topic1\", \"Topic1\", \"Topic1\", \"Topic1\", \"Topic1\", \"Topic1\", \"Topic1\", \"Topic1\", \"Topic1\", \"Topic1\", \"Topic1\", \"Topic1\", \"Topic1\", \"Topic1\", \"Topic1\", \"Topic1\", \"Topic1\", \"Topic1\", \"Topic1\", \"Topic1\", \"Topic1\", \"Topic1\", \"Topic1\", \"Topic1\", \"Topic1\", \"Topic1\", \"Topic1\", \"Topic1\", \"Topic1\", \"Topic1\", \"Topic1\", \"Topic1\", \"Topic1\", \"Topic1\", \"Topic1\", \"Topic1\", \"Topic1\", \"Topic1\", \"Topic1\", \"Topic1\", \"Topic1\", \"Topic1\", \"Topic1\", \"Topic1\", \"Topic1\", \"Topic1\", \"Topic1\", \"Topic1\", \"Topic1\", \"Topic1\", \"Topic1\", \"Topic1\", \"Topic1\", \"Topic1\", \"Topic1\", \"Topic1\", \"Topic1\", \"Topic1\", \"Topic1\", \"Topic1\", \"Topic1\", \"Topic1\", \"Topic1\", \"Topic1\", \"Topic1\", \"Topic1\", \"Topic1\", \"Topic1\", \"Topic1\", \"Topic2\", \"Topic2\", \"Topic2\", \"Topic2\", \"Topic2\", \"Topic2\", \"Topic2\", \"Topic2\", \"Topic2\", \"Topic2\", \"Topic2\", \"Topic2\", \"Topic2\", \"Topic2\", \"Topic2\", \"Topic2\", \"Topic2\", \"Topic2\", \"Topic2\", \"Topic2\", \"Topic2\", \"Topic2\", \"Topic2\", \"Topic2\", \"Topic2\", \"Topic2\", \"Topic2\", \"Topic2\", \"Topic2\", \"Topic2\", \"Topic2\", \"Topic2\", \"Topic2\", \"Topic2\", \"Topic2\", \"Topic2\", \"Topic2\", \"Topic2\", \"Topic2\", \"Topic2\", \"Topic2\", \"Topic2\", \"Topic2\", \"Topic2\", \"Topic2\", \"Topic2\", \"Topic2\", \"Topic2\", \"Topic2\", \"Topic2\", \"Topic2\", \"Topic2\", \"Topic2\", \"Topic2\", \"Topic2\", \"Topic2\", \"Topic2\", \"Topic2\", \"Topic2\", \"Topic2\", \"Topic2\", \"Topic2\", \"Topic2\", \"Topic2\", \"Topic2\", \"Topic2\", \"Topic2\", \"Topic2\", \"Topic2\", \"Topic3\", \"Topic3\", \"Topic3\", \"Topic3\", \"Topic3\", \"Topic3\", \"Topic3\", \"Topic3\", \"Topic3\", \"Topic3\", \"Topic3\", \"Topic3\", \"Topic3\", \"Topic3\", \"Topic3\", \"Topic3\", \"Topic3\", \"Topic3\", \"Topic3\", \"Topic3\", \"Topic3\", \"Topic3\", \"Topic3\", \"Topic3\", \"Topic3\", \"Topic3\", \"Topic3\", \"Topic3\", \"Topic3\", \"Topic3\", \"Topic3\", \"Topic3\", \"Topic3\", \"Topic3\", \"Topic3\", \"Topic3\", \"Topic3\", \"Topic3\", \"Topic3\", \"Topic3\", \"Topic3\", \"Topic3\", \"Topic3\", \"Topic3\", \"Topic3\", \"Topic3\", \"Topic3\", \"Topic3\", \"Topic3\", \"Topic3\", \"Topic3\", \"Topic3\", \"Topic3\", \"Topic3\", \"Topic3\", \"Topic3\", \"Topic4\", \"Topic4\", \"Topic4\", \"Topic4\", \"Topic4\", \"Topic4\", \"Topic4\", \"Topic4\", \"Topic4\", \"Topic4\", \"Topic4\", \"Topic4\", \"Topic4\", \"Topic4\", \"Topic4\", \"Topic4\", \"Topic4\", \"Topic4\", \"Topic4\", \"Topic4\", \"Topic4\", \"Topic4\", \"Topic4\", \"Topic4\", \"Topic4\", \"Topic4\", \"Topic4\", \"Topic4\", \"Topic4\", \"Topic4\", \"Topic4\", \"Topic4\", \"Topic4\", \"Topic4\", \"Topic4\", \"Topic4\", \"Topic4\", \"Topic4\", \"Topic4\", \"Topic4\", \"Topic4\", \"Topic4\", \"Topic4\", \"Topic4\", \"Topic4\", \"Topic4\", \"Topic4\", \"Topic4\", \"Topic4\", \"Topic4\", \"Topic4\", \"Topic4\", \"Topic4\", \"Topic4\", \"Topic4\", \"Topic4\", \"Topic4\", \"Topic4\", \"Topic4\", \"Topic4\", \"Topic4\", \"Topic4\", \"Topic4\", \"Topic4\", \"Topic4\", \"Topic4\", \"Topic4\", \"Topic4\", \"Topic4\", \"Topic4\", \"Topic4\", \"Topic5\", \"Topic5\", \"Topic5\", \"Topic5\", \"Topic5\", \"Topic5\", \"Topic5\", \"Topic5\", \"Topic5\", \"Topic5\", \"Topic5\", \"Topic5\", \"Topic5\", \"Topic5\", \"Topic5\", \"Topic5\", \"Topic5\", \"Topic5\", \"Topic5\", \"Topic5\", \"Topic5\", \"Topic5\", \"Topic5\", \"Topic5\", \"Topic5\", \"Topic5\", \"Topic5\", \"Topic5\", \"Topic5\", \"Topic5\", \"Topic5\", \"Topic5\", \"Topic5\", \"Topic5\", \"Topic5\", \"Topic5\", \"Topic5\", \"Topic5\", \"Topic5\", \"Topic5\", \"Topic5\", \"Topic5\", \"Topic5\", \"Topic5\", \"Topic5\", \"Topic5\", \"Topic5\", \"Topic5\", \"Topic5\", \"Topic5\", \"Topic5\", \"Topic5\", \"Topic5\", \"Topic5\", \"Topic5\", \"Topic5\", \"Topic5\", \"Topic5\", \"Topic5\", \"Topic5\", \"Topic5\", \"Topic5\", \"Topic5\", \"Topic5\", \"Topic5\", \"Topic5\", \"Topic6\", \"Topic6\", \"Topic6\", \"Topic6\", \"Topic6\", \"Topic6\", \"Topic6\", \"Topic6\", \"Topic6\", \"Topic6\", \"Topic6\", \"Topic6\", \"Topic6\", \"Topic6\", \"Topic6\", \"Topic6\", \"Topic6\", \"Topic6\", \"Topic6\", \"Topic6\", \"Topic6\", \"Topic6\", \"Topic6\", \"Topic6\", \"Topic6\", \"Topic6\", \"Topic6\", \"Topic6\", \"Topic6\", \"Topic6\", \"Topic6\", \"Topic6\", \"Topic6\", \"Topic6\", \"Topic6\", \"Topic6\", \"Topic6\", \"Topic6\", \"Topic6\", \"Topic6\", \"Topic6\", \"Topic6\", \"Topic6\", \"Topic6\", \"Topic6\", \"Topic6\", \"Topic6\", \"Topic6\", \"Topic6\", \"Topic6\", \"Topic6\", \"Topic6\", \"Topic6\", \"Topic6\", \"Topic6\", \"Topic6\", \"Topic6\", \"Topic6\", \"Topic6\", \"Topic6\", \"Topic6\", \"Topic6\", \"Topic6\", \"Topic7\", \"Topic7\", \"Topic7\", \"Topic7\", \"Topic7\", \"Topic7\", \"Topic7\", \"Topic7\", \"Topic7\", \"Topic7\", \"Topic7\", \"Topic7\", \"Topic7\", \"Topic7\", \"Topic7\", \"Topic7\", \"Topic7\", \"Topic7\", \"Topic7\", \"Topic7\", \"Topic7\", \"Topic7\", \"Topic7\", \"Topic7\", \"Topic7\", \"Topic7\", \"Topic7\", \"Topic7\", \"Topic7\", \"Topic7\", \"Topic7\", \"Topic7\", \"Topic7\", \"Topic7\", \"Topic7\", \"Topic7\", \"Topic7\", \"Topic7\", \"Topic7\", \"Topic7\", \"Topic7\", \"Topic7\", \"Topic7\", \"Topic7\", \"Topic7\", \"Topic7\", \"Topic7\", \"Topic7\", \"Topic7\", \"Topic7\", \"Topic7\", \"Topic7\", \"Topic7\", \"Topic7\", \"Topic7\", \"Topic7\", \"Topic7\", \"Topic7\", \"Topic7\", \"Topic7\", \"Topic7\", \"Topic7\", \"Topic7\", \"Topic7\", \"Topic8\", \"Topic8\", \"Topic8\", \"Topic8\", \"Topic8\", \"Topic8\", \"Topic8\", \"Topic8\", \"Topic8\", \"Topic8\", \"Topic8\", \"Topic8\", \"Topic8\", \"Topic8\", \"Topic8\", \"Topic8\", \"Topic8\", \"Topic8\", \"Topic8\", \"Topic8\", \"Topic8\", \"Topic8\", \"Topic8\", \"Topic8\", \"Topic8\", \"Topic8\", \"Topic8\", \"Topic8\", \"Topic8\", \"Topic8\", \"Topic8\", \"Topic8\", \"Topic8\", \"Topic8\", \"Topic8\", \"Topic8\", \"Topic8\", \"Topic8\", \"Topic8\", \"Topic8\", \"Topic8\", \"Topic8\", \"Topic8\", \"Topic8\", \"Topic8\", \"Topic8\", \"Topic8\", \"Topic8\", \"Topic8\", \"Topic8\", \"Topic8\", \"Topic8\", \"Topic8\", \"Topic8\", \"Topic8\", \"Topic8\", \"Topic8\", \"Topic8\", \"Topic8\", \"Topic9\", \"Topic9\", \"Topic9\", \"Topic9\", \"Topic9\", \"Topic9\", \"Topic9\", \"Topic9\", \"Topic9\", \"Topic9\", \"Topic9\", \"Topic9\", \"Topic9\", \"Topic9\", \"Topic9\", \"Topic9\", \"Topic9\", \"Topic9\", \"Topic9\", \"Topic9\", \"Topic9\", \"Topic9\", \"Topic9\", \"Topic9\", \"Topic9\", \"Topic9\", \"Topic9\", \"Topic9\", \"Topic9\", \"Topic9\", \"Topic9\", \"Topic9\", \"Topic9\", \"Topic9\", \"Topic9\", \"Topic9\", \"Topic9\", \"Topic9\", \"Topic9\", \"Topic9\", \"Topic9\", \"Topic9\", \"Topic9\", \"Topic9\", \"Topic9\", \"Topic9\", \"Topic9\", \"Topic9\", \"Topic9\", \"Topic9\", \"Topic9\", \"Topic9\", \"Topic9\", \"Topic9\", \"Topic9\", \"Topic9\", \"Topic9\", \"Topic9\", \"Topic9\", \"Topic10\", \"Topic10\", \"Topic10\", \"Topic10\", \"Topic10\", \"Topic10\", \"Topic10\", \"Topic10\", \"Topic10\", \"Topic10\", \"Topic10\", \"Topic10\", \"Topic10\", \"Topic10\", \"Topic10\", \"Topic10\", \"Topic10\", \"Topic10\", \"Topic10\", \"Topic10\", \"Topic10\", \"Topic10\", \"Topic10\", \"Topic10\", \"Topic10\", \"Topic10\", \"Topic10\", \"Topic10\", \"Topic10\", \"Topic10\", \"Topic10\", \"Topic10\", \"Topic10\", \"Topic10\", \"Topic10\", \"Topic10\", \"Topic10\", \"Topic10\", \"Topic10\", \"Topic10\", \"Topic10\", \"Topic10\", \"Topic10\", \"Topic10\", \"Topic10\", \"Topic10\", \"Topic10\", \"Topic10\", \"Topic10\", \"Topic10\", \"Topic10\", \"Topic10\", \"Topic10\", \"Topic10\", \"Topic10\", \"Topic10\", \"Topic11\", \"Topic11\", \"Topic11\", \"Topic11\", \"Topic11\", \"Topic11\", \"Topic11\", \"Topic11\", \"Topic11\", \"Topic11\", \"Topic11\", \"Topic11\", \"Topic11\", \"Topic11\", \"Topic11\", \"Topic11\", \"Topic11\", \"Topic11\", \"Topic11\", \"Topic11\", \"Topic11\", \"Topic11\", \"Topic11\", \"Topic11\", \"Topic11\", \"Topic11\", \"Topic11\", \"Topic11\", \"Topic11\", \"Topic11\", \"Topic11\", \"Topic11\", \"Topic11\", \"Topic11\", \"Topic11\", \"Topic11\", \"Topic11\", \"Topic11\", \"Topic11\", \"Topic11\", \"Topic11\", \"Topic11\", \"Topic11\", \"Topic11\", \"Topic11\", \"Topic11\", \"Topic11\", \"Topic11\", \"Topic11\", \"Topic11\", \"Topic11\", \"Topic11\", \"Topic11\", \"Topic11\", \"Topic11\", \"Topic11\", \"Topic11\", \"Topic11\", \"Topic11\", \"Topic11\", \"Topic11\", \"Topic12\", \"Topic12\", \"Topic12\", \"Topic12\", \"Topic12\", \"Topic12\", \"Topic12\", \"Topic12\", \"Topic12\", \"Topic12\", \"Topic12\", \"Topic12\", \"Topic12\", \"Topic12\", \"Topic12\", \"Topic12\", \"Topic12\", \"Topic12\", \"Topic12\", \"Topic12\", \"Topic12\", \"Topic12\", \"Topic12\", \"Topic12\", \"Topic12\", \"Topic12\", \"Topic12\", \"Topic12\", \"Topic12\", \"Topic12\", \"Topic12\", \"Topic12\", \"Topic12\", \"Topic12\", \"Topic12\", \"Topic12\", \"Topic12\", \"Topic12\", \"Topic12\", \"Topic12\", \"Topic12\", \"Topic12\", \"Topic12\", \"Topic12\", \"Topic12\", \"Topic12\", \"Topic12\", \"Topic12\", \"Topic12\", \"Topic12\", \"Topic12\", \"Topic12\", \"Topic12\", \"Topic12\", \"Topic12\", \"Topic12\", \"Topic12\", \"Topic12\", \"Topic12\", \"Topic12\", \"Topic12\", \"Topic12\", \"Topic12\", \"Topic12\", \"Topic13\", \"Topic13\", \"Topic13\", \"Topic13\", \"Topic13\", \"Topic13\", \"Topic13\", \"Topic13\", \"Topic13\", \"Topic13\", \"Topic13\", \"Topic13\", \"Topic13\", \"Topic13\", \"Topic13\", \"Topic13\", \"Topic13\", \"Topic13\", \"Topic13\", \"Topic13\", \"Topic13\", \"Topic13\", \"Topic13\", \"Topic13\", \"Topic13\", \"Topic13\", \"Topic13\", \"Topic13\", \"Topic13\", \"Topic13\", \"Topic13\", \"Topic13\", \"Topic13\", \"Topic13\", \"Topic13\", \"Topic13\", \"Topic13\", \"Topic13\", \"Topic13\", \"Topic13\", \"Topic13\", \"Topic13\", \"Topic13\", \"Topic13\", \"Topic13\", \"Topic13\", \"Topic13\", \"Topic13\", \"Topic13\", \"Topic13\", \"Topic13\", \"Topic13\", \"Topic13\", \"Topic13\", \"Topic13\", \"Topic13\", \"Topic13\", \"Topic13\", \"Topic13\", \"Topic13\", \"Topic13\", \"Topic13\", \"Topic14\", \"Topic14\", \"Topic14\", \"Topic14\", \"Topic14\", \"Topic14\", \"Topic14\", \"Topic14\", \"Topic14\", \"Topic14\", \"Topic14\", \"Topic14\", \"Topic14\", \"Topic14\", \"Topic14\", \"Topic14\", \"Topic14\", \"Topic14\", \"Topic14\", \"Topic14\", \"Topic14\", \"Topic14\", \"Topic14\", \"Topic14\", \"Topic14\", \"Topic14\", \"Topic14\", \"Topic14\", \"Topic14\", \"Topic14\", \"Topic14\", \"Topic14\", \"Topic14\", \"Topic14\", \"Topic14\", \"Topic14\", \"Topic14\", \"Topic14\", \"Topic14\", \"Topic14\", \"Topic14\", \"Topic14\", \"Topic14\", \"Topic14\", \"Topic14\", \"Topic14\", \"Topic14\", \"Topic14\", \"Topic14\", \"Topic14\", \"Topic14\", \"Topic14\", \"Topic14\", \"Topic14\", \"Topic14\", \"Topic14\", \"Topic14\", \"Topic14\", \"Topic15\", \"Topic15\", \"Topic15\", \"Topic15\", \"Topic15\", \"Topic15\", \"Topic15\", \"Topic15\", \"Topic15\", \"Topic15\", \"Topic15\", \"Topic15\", \"Topic15\", \"Topic15\", \"Topic15\", \"Topic15\", \"Topic15\", \"Topic15\", \"Topic15\", \"Topic15\", \"Topic15\", \"Topic15\", \"Topic15\", \"Topic15\", \"Topic15\", \"Topic15\", \"Topic15\", \"Topic15\", \"Topic15\", \"Topic15\", \"Topic15\", \"Topic15\", \"Topic15\", \"Topic15\", \"Topic15\", \"Topic15\", \"Topic15\", \"Topic15\", \"Topic15\", \"Topic15\", \"Topic15\", \"Topic15\", \"Topic15\", \"Topic15\", \"Topic15\", \"Topic15\", \"Topic15\", \"Topic15\", \"Topic15\", \"Topic15\", \"Topic15\", \"Topic15\", \"Topic15\", \"Topic15\", \"Topic15\", \"Topic15\", \"Topic15\", \"Topic15\", \"Topic15\"], \"logprob\": [30.0, 29.0, 28.0, 27.0, 26.0, 25.0, 24.0, 23.0, 22.0, 21.0, 20.0, 19.0, 18.0, 17.0, 16.0, 15.0, 14.0, 13.0, 12.0, 11.0, 10.0, 9.0, 8.0, 7.0, 6.0, 5.0, 4.0, 3.0, 2.0, 1.0, -5.7589, -4.6603, -5.7589, -4.6603, -5.7589, -5.0658, -5.7589, -5.7589, -5.7589, -5.7589, -5.7589, -4.1495, -5.7589, -5.7589, -5.7589, -5.7589, -3.813, -5.7589, -5.7589, -5.7589, -5.7589, -5.7589, -5.7589, -5.7589, -5.7589, -5.7589, -5.7589, -5.7589, -5.7589, -5.7589, -3.0509, -3.361, -3.4563, -3.813, -3.813, -4.1495, -4.3726, -4.6603, -4.6603, -5.0658, -5.0658, -5.0658, -5.0658, -5.0658, -5.0658, -5.0658, -5.0658, -5.0658, -5.0658, -5.0658, -5.0658, -5.0658, -5.0658, -5.0658, -5.0658, -5.0658, -5.0658, -5.0658, -5.0658, -5.0658, -3.813, -3.9671, -4.3726, -5.0658, -4.3726, -4.6603, -4.6603, -5.0658, -5.0658, -5.0658, -5.7746, -5.7746, -5.0814, -5.7746, -5.7746, -5.7746, -5.7746, -5.7746, -5.0814, -5.0814, -5.7746, -5.7746, -5.7746, -4.6759, -5.7746, -5.7746, -5.7746, -5.7746, -4.6759, -5.7746, -5.7746, -5.7746, -5.7746, -4.1651, -5.7746, -5.7746, -5.7746, -5.7746, -5.7746, -5.0814, -3.5773, -3.5773, -3.6951, -3.8286, -3.8286, -3.9828, -3.9828, -3.9828, -4.1651, -4.1651, -4.1651, -4.3883, -4.3883, -4.3883, -4.3883, -4.6759, -4.6759, -4.6759, -4.6759, -4.6759, -5.0814, -5.0814, -5.0814, -5.0814, -5.0814, -5.0814, -5.0814, -5.0814, -5.0814, -3.9828, -4.3883, -4.3883, -3.6951, -4.1651, -5.0814, -4.3883, -4.6759, -4.1651, -4.3883, -4.6883, -4.6883, -3.9951, -4.6883, -4.6883, -4.6883, -4.6883, -3.5897, -4.6883, -3.389, -4.6883, -2.6959, -4.6883, -4.6883, -5.0938, -5.7869, -5.7869, -5.7869, -5.7869, -4.4006, -3.7075, -5.7869, -5.7869, -5.7869, -5.7869, -5.7869, -5.7869, -5.7869, -5.7869, -5.7869, -3.2219, -4.1775, -4.1775, -5.0938, -5.0938, -5.0938, -5.0938, -5.0938, -5.0938, -5.0938, -5.0938, -5.0938, -5.0938, -5.0938, -5.0938, -5.0938, -4.1775, -5.0938, -4.1775, -4.4006, -4.6883, -4.6883, -4.6883, -5.0938, -5.0938, -5.0938, -5.7838, -5.7838, -5.7838, -5.0907, -5.7838, -5.0907, -5.7838, -4.6852, -5.7838, -5.0907, -5.7838, -5.7838, -5.7838, -5.7838, -5.0907, -5.7838, -5.7838, -5.0907, -4.3975, -5.0907, -5.7838, -5.7838, -5.7838, -5.7838, -5.7838, -5.7838, -5.7838, -5.7838, -3.7044, -5.7838, -3.0758, -3.7044, -3.8379, -3.8379, -3.9921, -3.9921, -4.1744, -4.1744, -4.3975, -4.3975, -4.3975, -4.3975, -4.6852, -4.6852, -4.6852, -4.6852, -4.6852, -4.6852, -4.6852, -4.6852, -5.0907, -5.0907, -5.0907, -5.0907, -5.0907, -5.0907, -5.0907, -5.0907, -3.7044, -5.0907, -3.9921, -4.1744, -5.0907, -5.0907, -4.3975, -4.3975, -5.0907, -4.3975, -5.0907, -4.6852, -4.6852, -5.7714, -4.162, -5.7714, -5.7714, -5.7714, -5.7714, -5.7714, -5.7714, -5.7714, -5.7714, -5.7714, -5.7714, -5.7714, -5.7714, -5.7714, -4.6728, -4.6728, -5.7714, -5.7714, -4.162, -5.7714, -5.7714, -5.7714, -5.7714, -5.7714, -5.7714, -5.7714, -5.7714, -5.7714, -5.7714, -2.9989, -3.0634, -3.1324, -3.3735, -3.692, -3.8255, -4.162, -4.3851, -4.3851, -4.3851, -4.3851, -4.6728, -4.6728, -4.6728, -4.6728, -4.6728, -4.6728, -5.0783, -5.0783, -5.0783, -5.0783, -5.0783, -5.0783, -5.0783, -5.0783, -5.0783, -5.0783, -5.0783, -5.0783, -3.8255, -4.162, -4.6728, -4.6728, -4.6728, -4.6728, -5.0783, -5.7714, -5.7714, -5.7714, -4.3851, -4.3851, -4.3851, -5.0783, -5.0783, -3.9797, -5.7714, -5.0783, -5.7714, -5.7714, -5.7714, -5.7714, -5.7714, -5.7714, -4.6728, -5.7714, -5.7714, -5.7714, -5.0783, -5.7714, -5.7714, -5.7714, -5.7714, -5.7714, -5.7714, -5.7714, -5.7714, -3.2865, -3.3735, -3.3735, -3.4689, -3.5742, -3.8255, -3.8255, -4.162, -4.162, -4.3851, -4.3851, -4.6728, -4.6728, -4.6728, -4.6728, -5.0783, -5.0783, -5.0783, -5.0783, -5.0783, -5.0783, -5.0783, -5.0783, -5.0783, -5.0783, -5.0783, -4.6728, -5.0783, -4.6728, -5.0783, -5.0783, -4.6728, -5.0783, -5.7589, -4.3726, -5.7589, -5.0658, -5.7589, -5.7589, -4.6603, -5.0658, -5.7589, -5.7589, -5.7589, -4.6603, -5.7589, -4.6603, -5.7589, -5.0658, -5.7589, -5.7589, -5.7589, -4.6603, -4.6603, -5.7589, -5.7589, -5.0658, -5.7589, -5.7589, -5.7589, -5.7589, -5.7589, -5.7589, -2.3249, -3.813, -3.9671, -3.9671, -4.1495, -4.3726, -4.3726, -4.3726, -4.3726, -4.6603, -4.6603, -4.6603, -4.6603, -4.6603, -5.0658, -5.0658, -5.0658, -5.0658, -5.0658, -5.0658, -5.0658, -5.0658, -5.0658, -5.0658, -5.0658, -4.1495, -5.0658, -5.0658, -5.0658, -4.1495, -4.3726, -4.6603, -4.6603, -5.0658, -5.6802, -5.6802, -4.987, -5.6802, -5.6802, -5.6802, -4.987, -4.2939, -5.6802, -4.987, -4.5816, -4.2939, -4.987, -5.6802, -5.6802, -5.6802, -5.6802, -5.6802, -5.6802, -5.6802, -5.6802, -4.0707, -5.6802, -5.6802, -5.6802, -5.6802, -5.6802, -4.987, -5.6802, -5.6802, -2.6357, -3.2823, -3.3776, -3.7343, -3.8884, -4.0707, -4.2939, -4.2939, -4.2939, -4.2939, -4.5816, -4.5816, -4.5816, -4.5816, -4.987, -4.987, -4.987, -4.987, -4.987, -4.987, -4.987, -4.987, -4.987, -4.987, -4.987, -3.7343, -4.2939, -4.2939, -4.5816, -5.743, -5.743, -4.6444, -4.3567, -4.1336, -4.6444, -5.743, -5.743, -5.743, -5.0499, -4.6444, -4.1336, -5.743, -5.0499, -5.743, -5.743, -4.3567, -5.743, -5.0499, -5.743, -5.743, -5.743, -5.0499, -5.743, -3.9512, -5.743, -5.743, -5.0499, -5.743, -5.743, -3.5458, -3.9512, -3.9512, -4.1336, -4.1336, -4.3567, -4.6444, -4.6444, -4.6444, -4.6444, -5.0499, -5.0499, -5.0499, -5.0499, -5.0499, -5.0499, -5.0499, -5.0499, -1.9588, -3.7971, -3.9512, -4.3567, -4.6444, -4.6444, -4.6444, -4.6444, -4.6444, -4.6444, -5.0499, -3.5165, -5.7137, -4.6151, -5.0206, -5.7137, -4.1043, -4.3274, -5.7137, -3.7678, -4.6151, -5.7137, -5.0206, -4.6151, -5.7137, -5.7137, -5.7137, -5.7137, -5.7137, -5.0206, -5.7137, -5.0206, -5.7137, -5.7137, -5.0206, -5.7137, -4.3274, -5.7137, -5.7137, -5.7137, -5.7137, -2.1584, -3.3158, -3.7678, -3.922, -4.3274, -4.3274, -4.6151, -4.6151, -4.6151, -4.6151, -4.6151, -4.6151, -4.6151, -4.6151, -4.6151, -4.6151, -5.0206, -5.0206, -5.0206, -5.0206, -5.0206, -5.0206, -5.0206, -4.3274, -5.0206, -5.0206, -3.7377, -5.6836, -4.9904, -5.6836, -4.585, -4.2973, -5.6836, -5.6836, -4.0741, -4.9904, -4.9904, -5.6836, -4.0741, -4.585, -5.6836, -5.6836, -5.6836, -5.6836, -5.6836, -5.6836, -5.6836, -5.6836, -5.6836, -5.6836, -4.9904, -5.6836, -5.6836, -5.6836, -5.6836, -5.6836, -2.7391, -4.2973, -4.2973, -4.2973, -4.2973, -4.2973, -4.585, -4.585, -4.585, -4.585, -4.585, -4.585, -4.585, -4.585, -4.9904, -4.9904, -4.9904, -4.9904, -4.9904, -4.9904, -4.9904, -2.7932, -4.9904, -3.4864, -4.2973, -4.9904, -4.585, -4.585, -4.0741, -4.585, -4.9904, -5.6595, -5.6595, -4.9663, -4.05, -5.6595, -5.6595, -5.6595, -3.3569, -4.9663, -5.6595, -5.6595, -5.6595, -5.6595, -5.6595, -5.6595, -4.5609, -5.6595, -5.6595, -5.6595, -4.5609, -5.6595, -5.6595, -5.6595, -5.6595, -4.9663, -5.6595, -5.6595, -5.6595, -5.6595, -4.5609, -3.4623, -3.58, -3.8677, -4.05, -4.05, -4.2732, -4.2732, -4.5609, -4.5609, -4.5609, -4.5609, -4.5609, -4.5609, -4.5609, -4.9663, -4.9663, -4.9663, -4.9663, -4.9663, -4.9663, -4.9663, -4.9663, -4.9663, -4.9663, -4.9663, -3.4623, -3.7136, -4.9663, -4.5609, -4.9663, -4.9663, -4.5609, -4.9663, -4.9663, -5.5872, -5.5872, -4.8941, -5.5872, -5.5872, -5.5872, -5.5872, -5.5872, -5.5872, -5.5872, -4.8941, -5.5872, -5.5872, -3.9778, -5.5872, -5.5872, -3.9778, -5.5872, -5.5872, -4.8941, -3.9778, -5.5872, -5.5872, -4.8941, -4.8941, -5.5872, -5.5872, -4.8941, -5.5872, -4.4886, -3.1023, -3.7955, -3.9778, -4.201, -4.201, -4.201, -4.4886, -4.4886, -4.4886, -4.4886, -4.4886, -4.4886, -4.8941, -4.8941, -4.8941, -4.8941, -4.8941, -4.8941, -4.8941, -4.8941, -4.8941, -4.8941, -4.8941, -4.8941, -3.7955, -4.8941, -4.8941, -4.8941, -3.2847, -4.4886, -4.8941, -4.8941, -5.6095, -4.9163, -5.6095, -4.9163, -5.6095, -5.6095, -5.6095, -5.6095, -5.6095, -5.6095, -5.6095, -4.9163, -4.5109, -5.6095, -4.5109, -4.9163, -3.8177, -5.6095, -5.6095, -3.8177, -4.9163, -5.6095, -4.5109, -3.6636, -4.9163, -5.6095, -5.6095, -5.6095, -3.8177, -5.6095, -3.3069, -4.0, -4.2232, -4.5109, -4.5109, -4.5109, -4.5109, -4.5109, -4.5109, -4.9163, -4.9163, -4.9163, -4.9163, -4.9163, -4.9163, -4.9163, -4.9163, -4.9163, -3.4122, -4.9163, -4.9163, -4.9163, -4.0, -4.9163, -4.5109, -4.5109, -4.5109, -4.9163, -5.5947, -5.5947, -5.5947, -5.5947, -4.2084, -5.5947, -4.9016, -4.9016, -4.4961, -4.9016, -4.9016, -5.5947, -5.5947, -5.5947, -3.9853, -5.5947, -5.5947, -4.9016, -4.9016, -5.5947, -4.9016, -5.5947, -5.5947, -4.9016, -5.5947, -5.5947, -5.5947, -5.5947, -5.5947, -5.5947, -3.803, -3.9853, -3.9853, -3.9853, -3.9853, -3.9853, -4.2084, -4.2084, -4.2084, -4.2084, -4.2084, -4.4961, -4.4961, -4.4961, -4.4961, -4.4961, -4.4961, -4.4961, -4.4961, -4.4961, -4.4961, -4.4961, -4.9016, -4.9016, -4.9016, -4.9016, -4.9016, -4.4961, -4.4961], \"loglift\": [30.0, 29.0, 28.0, 27.0, 26.0, 25.0, 24.0, 23.0, 22.0, 21.0, 20.0, 19.0, 18.0, 17.0, 16.0, 15.0, 14.0, 13.0, 12.0, 11.0, 10.0, 9.0, 8.0, 7.0, 6.0, 5.0, 4.0, 3.0, 2.0, 1.0, 2.6761, 2.6761, 2.6761, 2.6761, 2.6761, 2.6761, 2.6761, 2.6761, 2.6761, 2.6761, 2.6761, 2.6761, 2.6761, 2.6761, 2.6761, 2.6761, 2.6761, 2.6761, 2.6761, 2.6761, 2.6761, 2.6761, 2.6761, 2.6761, 2.6761, 2.6761, 2.6761, 2.6761, 2.6761, 2.6761, 2.6761, 2.6761, 2.6761, 2.6761, 2.6761, 2.6761, 2.6761, 2.6761, 2.6761, 2.6761, 2.6761, 2.6761, 2.6761, 2.6761, 2.6761, 2.6761, 2.6761, 2.6761, 2.6761, 2.6761, 2.6761, 2.6761, 2.6761, 2.6761, 2.6761, 2.6761, 2.6761, 2.6761, 2.6761, 2.6761, 2.533, 2.3945, 2.4591, 2.6761, 2.2523, 2.1795, 1.8425, 2.2781, 2.235, 2.2404, 2.6831, 2.6831, 2.6831, 2.6831, 2.6831, 2.6831, 2.6831, 2.6831, 2.6831, 2.6831, 2.6831, 2.6831, 2.6831, 2.6831, 2.6831, 2.6831, 2.6831, 2.6831, 2.6831, 2.6831, 2.6831, 2.6831, 2.6831, 2.6831, 2.6831, 2.6831, 2.6831, 2.6831, 2.6831, 2.6831, 2.6831, 2.6831, 2.6831, 2.6831, 2.6831, 2.6831, 2.6831, 2.6831, 2.6831, 2.6831, 2.6831, 2.6831, 2.6831, 2.6831, 2.6831, 2.6831, 2.6831, 2.6831, 2.6831, 2.6831, 2.6831, 2.6831, 2.6831, 2.6831, 2.6831, 2.6831, 2.6831, 2.6831, 2.6831, 2.3769, 2.4622, 2.453, 2.0227, 2.217, 2.6831, 2.2805, 2.398, 1.991, 1.7475, 2.6842, 2.6842, 2.6842, 2.6842, 2.6842, 2.6842, 2.6842, 2.6842, 2.6842, 2.6842, 2.6842, 2.6842, 2.6842, 2.6842, 2.6842, 2.6842, 2.6842, 2.6842, 2.6842, 2.6842, 2.6842, 2.6842, 2.6842, 2.6842, 2.6842, 2.6842, 2.6842, 2.6842, 2.6842, 2.6842, 2.6842, 2.6842, 2.6842, 2.6842, 2.6842, 2.6842, 2.6842, 2.6842, 2.6842, 2.6842, 2.6842, 2.6842, 2.6842, 2.6842, 2.6842, 2.6842, 2.4996, 2.6842, 2.1596, 2.2633, 2.3953, 2.364, 2.1153, 2.278, 2.2625, 2.2771, 2.6853, 2.6853, 2.6853, 2.6853, 2.6853, 2.6853, 2.6853, 2.6853, 2.6853, 2.6853, 2.6853, 2.6853, 2.6853, 2.6853, 2.6853, 2.6853, 2.6853, 2.6853, 2.6853, 2.6853, 2.6853, 2.6853, 2.6853, 2.6853, 2.6853, 2.6853, 2.6853, 2.6853, 2.6853, 2.6853, 2.6853, 2.6853, 2.6853, 2.6853, 2.6853, 2.6853, 2.6853, 2.6853, 2.6853, 2.6853, 2.6853, 2.6853, 2.6853, 2.6853, 2.6853, 2.6853, 2.6853, 2.6853, 2.6853, 2.6853, 2.6853, 2.6853, 2.6853, 2.6853, 2.6853, 2.6853, 2.6853, 2.6853, 2.5513, 2.6853, 2.5314, 2.4972, 2.6853, 2.6853, 2.4625, 2.4586, 2.6853, 2.2424, 2.6853, 2.386, 1.9832, 2.6948, 2.6948, 2.6948, 2.6948, 2.6948, 2.6948, 2.6948, 2.6948, 2.6948, 2.6948, 2.6948, 2.6948, 2.6948, 2.6948, 2.6948, 2.6948, 2.6948, 2.6948, 2.6948, 2.6948, 2.6948, 2.6948, 2.6948, 2.6948, 2.6948, 2.6948, 2.6948, 2.6948, 2.6948, 2.6948, 2.6948, 2.6948, 2.6948, 2.6948, 2.6948, 2.6948, 2.6948, 2.6948, 2.6948, 2.6948, 2.6948, 2.6948, 2.6948, 2.6948, 2.6948, 2.6948, 2.6948, 2.6948, 2.6948, 2.6948, 2.6948, 2.6948, 2.6948, 2.6948, 2.6948, 2.6948, 2.6948, 2.6948, 2.6948, 2.4333, 2.4986, 2.4076, 2.405, 2.3759, 2.3718, 2.2865, 2.6966, 2.6966, 2.6966, 2.6966, 2.6966, 2.6966, 2.6966, 2.6966, 2.6966, 2.6966, 2.6966, 2.6966, 2.6966, 2.6966, 2.6966, 2.6966, 2.6966, 2.6966, 2.6966, 2.6966, 2.6966, 2.6966, 2.6966, 2.6966, 2.6966, 2.6966, 2.6966, 2.6966, 2.6966, 2.6966, 2.6966, 2.6966, 2.6966, 2.6966, 2.6966, 2.6966, 2.6966, 2.6966, 2.6966, 2.6966, 2.6966, 2.6966, 2.6966, 2.6966, 2.6966, 2.6966, 2.6966, 2.6966, 2.6966, 2.6966, 2.6966, 2.6966, 2.6966, 2.6966, 2.6966, 2.6966, 2.3976, 2.6966, 2.152, 2.6966, 2.6966, 1.7093, 2.6966, 2.7008, 2.7008, 2.7008, 2.7008, 2.7008, 2.7008, 2.7008, 2.7008, 2.7008, 2.7008, 2.7008, 2.7008, 2.7008, 2.7008, 2.7008, 2.7008, 2.7008, 2.7008, 2.7008, 2.7008, 2.7008, 2.7008, 2.7008, 2.7008, 2.7008, 2.7008, 2.7008, 2.7008, 2.7008, 2.7008, 2.7008, 2.7008, 2.7008, 2.7008, 2.7008, 2.7008, 2.7008, 2.7008, 2.7008, 2.7008, 2.7008, 2.7008, 2.7008, 2.7008, 2.7008, 2.7008, 2.7008, 2.7008, 2.7008, 2.7008, 2.7008, 2.7008, 2.7008, 2.7008, 2.7008, 2.5199, 2.7008, 2.7008, 2.7008, 2.0066, 1.7631, 2.1368, 1.8425, 1.4341, 2.7054, 2.7054, 2.7054, 2.7054, 2.7054, 2.7054, 2.7054, 2.7054, 2.7054, 2.7054, 2.7054, 2.7054, 2.7054, 2.7054, 2.7054, 2.7054, 2.7054, 2.7054, 2.7054, 2.7054, 2.7054, 2.7054, 2.7054, 2.7054, 2.7054, 2.7054, 2.7054, 2.7054, 2.7054, 2.7054, 2.7054, 2.7054, 2.7054, 2.7054, 2.7054, 2.7054, 2.7054, 2.7054, 2.7054, 2.7054, 2.7054, 2.7054, 2.7054, 2.7054, 2.7054, 2.7054, 2.7054, 2.7054, 2.7054, 2.7054, 2.7054, 2.7054, 2.7054, 2.7054, 2.7054, 2.3474, 2.4985, 2.4963, 2.4384, 2.7084, 2.7084, 2.7084, 2.7084, 2.7084, 2.7084, 2.7084, 2.7084, 2.7084, 2.7084, 2.7084, 2.7084, 2.7084, 2.7084, 2.7084, 2.7084, 2.7084, 2.7084, 2.7084, 2.7084, 2.7084, 2.7084, 2.7084, 2.7084, 2.7084, 2.7084, 2.7084, 2.7084, 2.7084, 2.7084, 2.7084, 2.7084, 2.7084, 2.7084, 2.7084, 2.7084, 2.7084, 2.7084, 2.7084, 2.7084, 2.7084, 2.7084, 2.7084, 2.7084, 2.7084, 2.7084, 2.7084, 2.7084, 2.4625, 2.5769, 2.5386, 2.4601, 2.4248, 2.4136, 2.4062, 2.4026, 2.1745, 2.0241, 2.007, 2.7097, 2.7097, 2.7097, 2.7097, 2.7097, 2.7097, 2.7097, 2.7097, 2.7097, 2.7097, 2.7097, 2.7097, 2.7097, 2.7097, 2.7097, 2.7097, 2.7097, 2.7097, 2.7097, 2.7097, 2.7097, 2.7097, 2.7097, 2.7097, 2.7097, 2.7097, 2.7097, 2.7097, 2.7097, 2.7097, 2.7097, 2.7097, 2.7097, 2.7097, 2.7097, 2.7097, 2.7097, 2.7097, 2.7097, 2.7097, 2.7097, 2.7097, 2.7097, 2.7097, 2.7097, 2.7097, 2.7097, 2.7097, 2.7097, 2.7097, 2.7097, 2.7097, 2.7097, 2.4888, 2.2727, 2.2945, 2.7111, 2.7111, 2.7111, 2.7111, 2.7111, 2.7111, 2.7111, 2.7111, 2.7111, 2.7111, 2.7111, 2.7111, 2.7111, 2.7111, 2.7111, 2.7111, 2.7111, 2.7111, 2.7111, 2.7111, 2.7111, 2.7111, 2.7111, 2.7111, 2.7111, 2.7111, 2.7111, 2.7111, 2.7111, 2.7111, 2.7111, 2.7111, 2.7111, 2.7111, 2.7111, 2.7111, 2.7111, 2.7111, 2.7111, 2.7111, 2.7111, 2.7111, 2.7111, 2.7111, 2.7111, 2.7111, 2.7111, 2.7111, 2.7111, 2.7111, 2.7111, 2.6592, 2.7111, 2.6023, 2.4751, 2.7111, 2.4409, 2.4113, 1.6437, 2.229, 2.7111, 2.7215, 2.7215, 2.7215, 2.7215, 2.7215, 2.7215, 2.7215, 2.7215, 2.7215, 2.7215, 2.7215, 2.7215, 2.7215, 2.7215, 2.7215, 2.7215, 2.7215, 2.7215, 2.7215, 2.7215, 2.7215, 2.7215, 2.7215, 2.7215, 2.7215, 2.7215, 2.7215, 2.7215, 2.7215, 2.7215, 2.7215, 2.7215, 2.7215, 2.7215, 2.7215, 2.7215, 2.7215, 2.7215, 2.7215, 2.7215, 2.7215, 2.7215, 2.7215, 2.7215, 2.7215, 2.7215, 2.7215, 2.7215, 2.7215, 2.7215, 2.7215, 2.7215, 2.7215, 2.7215, 2.7215, 2.6141, 2.4795, 2.7215, 2.4545, 2.7215, 2.7215, 1.5208, 2.3176, 2.3437, 2.7445, 2.7445, 2.7445, 2.7445, 2.7445, 2.7445, 2.7445, 2.7445, 2.7445, 2.7445, 2.7445, 2.7445, 2.7445, 2.7445, 2.7445, 2.7445, 2.7445, 2.7445, 2.7445, 2.7445, 2.7445, 2.7445, 2.7445, 2.7445, 2.7445, 2.7445, 2.7445, 2.7445, 2.7445, 2.7445, 2.7445, 2.7445, 2.7445, 2.7445, 2.7445, 2.7445, 2.7445, 2.7445, 2.7445, 2.7445, 2.7445, 2.7445, 2.7445, 2.7445, 2.7445, 2.7445, 2.7445, 2.7445, 2.7445, 2.7445, 2.7445, 2.7445, 2.7445, 2.7445, 2.6091, 2.7445, 2.7445, 2.7445, 1.1366, 1.8484, 2.3793, 1.903, 2.7513, 2.7513, 2.7513, 2.7513, 2.7513, 2.7513, 2.7513, 2.7513, 2.7513, 2.7513, 2.7513, 2.7513, 2.7513, 2.7513, 2.7513, 2.7513, 2.7513, 2.7513, 2.7513, 2.7513, 2.7513, 2.7513, 2.7513, 2.7513, 2.7513, 2.7513, 2.7513, 2.7513, 2.7513, 2.7513, 2.7513, 2.7513, 2.7513, 2.7513, 2.7513, 2.7513, 2.7513, 2.7513, 2.7513, 2.7513, 2.7513, 2.7513, 2.7513, 2.7513, 2.7513, 2.7513, 2.7513, 2.7513, 2.6546, 2.7513, 2.7513, 2.7513, 2.5848, 2.7513, 2.487, 2.2395, 2.1054, 2.37, 2.7522, 2.7522, 2.7522, 2.7522, 2.7522, 2.7522, 2.7522, 2.7522, 2.7522, 2.7522, 2.7522, 2.7522, 2.7522, 2.7522, 2.7522, 2.7522, 2.7522, 2.7522, 2.7522, 2.7522, 2.7522, 2.7522, 2.7522, 2.7522, 2.7522, 2.7522, 2.7522, 2.7522, 2.7522, 2.7522, 2.7522, 2.7522, 2.7522, 2.7522, 2.7522, 2.7522, 2.7522, 2.7522, 2.7522, 2.7522, 2.7522, 2.7522, 2.7522, 2.7522, 2.7522, 2.7522, 2.7522, 2.7522, 2.7522, 2.7522, 2.7522, 2.7522, 2.7522, 2.7522, 2.7522, 2.7522, 2.7522, 2.493, 2.4679]}, \"token.table\": {\"Topic\": [9, 13, 11, 8, 5, 12, 11, 1, 15, 2, 9, 13, 9, 5, 12, 9, 1, 14, 10, 8, 12, 2, 5, 1, 12, 9, 2, 6, 14, 1, 5, 6, 6, 6, 5, 10, 11, 2, 6, 15, 14, 1, 10, 5, 11, 12, 7, 12, 2, 9, 6, 13, 6, 7, 11, 15, 13, 13, 13, 15, 7, 7, 12, 1, 3, 1, 3, 15, 6, 9, 10, 13, 14, 12, 6, 1, 14, 2, 7, 13, 1, 6, 13, 3, 15, 6, 3, 7, 2, 2, 8, 4, 4, 4, 12, 4, 14, 3, 4, 12, 7, 4, 6, 9, 10, 12, 4, 8, 2, 2, 9, 4, 7, 12, 1, 14, 12, 4, 1, 5, 4, 6, 10, 3, 8, 10, 14, 4, 7, 14, 5, 8, 8, 15, 10, 9, 14, 7, 1, 5, 13, 4, 1, 2, 10, 11, 3, 4, 6, 5, 12, 12, 7, 7, 8, 3, 4, 1, 4, 4, 11, 2, 3, 14, 9, 10, 5, 3, 9, 8, 11, 15, 14, 6, 13, 14, 14, 10, 10, 5, 15, 13, 6, 1, 4, 8, 13, 6, 3, 13, 10, 2, 10, 4, 5, 2, 6, 5, 8, 13, 12, 7, 3, 13, 3, 15, 9, 7, 7, 2, 7, 14, 8, 1, 2, 5, 10, 8, 11, 4, 12, 1, 7, 7, 6, 2, 2, 1, 14, 11, 15, 10, 9, 8, 8, 6, 3, 5, 15, 10, 13, 11, 13, 3, 11, 7, 12, 6, 10, 7, 15, 9, 14, 1, 14, 14, 9, 9, 12, 15, 2, 4, 15, 5, 12, 2, 8, 15, 14, 15, 1, 7, 7, 8, 2, 11, 8, 13, 9, 15, 15, 9, 10, 3, 8, 7, 1, 14, 12, 11, 10, 12, 15, 3, 8, 6, 14, 2, 2, 13, 7, 6, 7, 4, 9, 11, 10, 13, 10, 8, 2, 8, 8, 9, 7, 11, 14, 4, 15, 2, 6, 11, 8, 13, 1, 9, 6, 9, 6, 15, 2, 13, 13, 11, 8, 8, 12, 9, 8, 2, 1, 11, 6, 2, 10, 15, 5, 6, 8, 6, 3, 6, 10, 1, 6, 2, 8, 5, 3, 5, 7, 6, 14, 11, 9, 6, 4, 15, 11, 9, 11, 12, 4, 1, 5, 14, 10, 9, 14, 14, 1, 2, 4, 13, 10, 3, 14, 2, 12, 12, 1, 6, 9, 14, 1, 6, 7, 9, 14, 9, 9, 12, 14, 15, 8, 2, 5, 8, 2, 6, 1, 12, 12, 11, 12, 5, 6, 11, 1, 11, 3, 2, 7, 1, 2, 7, 11, 9, 3, 6, 3, 5, 6, 2, 1, 3, 3, 9, 1, 1, 7, 3, 7, 5, 10, 6, 11, 4, 11, 3, 13, 1, 11, 13, 13, 6, 5, 15, 9, 13, 1, 14, 6, 11, 5, 13, 6, 13, 1, 4, 6, 6, 4, 1, 14, 1, 10, 12, 12, 3, 15, 15, 12, 8, 7, 11, 1, 4, 7, 4, 2, 10, 5, 14, 6, 7, 4, 10, 11, 2, 7, 10, 4, 3, 8, 13, 14, 15, 3, 5, 2, 5, 7, 4, 12, 2, 1, 12, 10, 6, 7, 11, 11, 12, 10, 12, 14, 4, 8, 7, 2, 9, 3, 2, 1, 1, 1, 8, 13, 5, 11, 15, 5, 12, 9, 11, 4, 1, 5, 7, 2, 5, 6, 13, 4, 6, 8, 14, 5, 4, 15, 7, 8, 14, 5, 5, 8, 13, 13, 14, 1, 7, 13, 2, 14, 14, 10, 11, 3, 2, 6, 7, 6, 11, 10, 12, 5, 6, 14, 5, 13, 6, 13, 5, 11, 14, 2, 5, 6, 9, 4, 15, 2, 7, 4, 13, 12, 15, 4, 5, 4, 4, 15, 10, 11, 11, 12, 5, 5, 1, 3, 9, 11, 5, 11, 14, 9, 8, 9, 5, 4, 5, 10, 1, 2, 7, 10, 2, 4, 8, 13, 14, 12, 9, 1, 14, 3, 2, 5, 12, 15, 10, 10, 3, 1, 10, 3, 4, 10, 5, 2, 6, 13, 3, 4, 11, 15, 2, 14, 2, 2, 12, 1, 13, 15, 9, 12, 1, 13, 4, 9, 9, 1, 9, 12, 14, 1, 5, 1, 5, 13, 15, 15, 6, 3, 7, 4, 7, 7, 7, 11, 1, 15, 1, 14, 13, 3, 7, 10, 3, 7, 8, 11, 13, 4, 11, 8, 15, 11, 5, 11, 4, 3, 3, 13, 8, 3, 12, 7, 11, 13, 15, 2, 13, 4, 4, 2, 14, 4, 15, 14, 3, 9, 9, 11, 12, 7, 4, 14, 4, 9, 13, 2, 2, 4, 7, 6, 13, 2, 10, 1, 5, 1, 15, 12, 11, 7, 10, 9, 7, 15, 10, 6, 12, 5, 2, 8, 1, 2, 15, 13, 3, 4, 9, 12, 14, 10, 5, 6, 7, 7, 13, 3, 5, 7, 15, 12, 15, 11, 8, 4, 12, 1, 14, 10, 4, 9, 13, 2, 2, 3, 13, 14, 1, 14, 11, 2, 10, 1, 15, 1, 3, 3, 8, 3, 2, 14, 9, 2, 15, 14, 6, 10, 4, 8, 2, 14, 13, 12, 10, 6, 4, 13, 3, 12, 8, 6, 15, 1, 2, 8, 5, 8, 5, 8, 1, 5, 3, 10, 10, 4, 1, 1, 14, 7, 2, 11, 7, 4, 7, 10, 13, 9, 7, 12, 15, 3, 11, 15, 9, 15, 13, 12, 5, 12, 8, 8, 2, 3, 12, 8, 12, 13, 4, 2, 11, 12, 4, 5, 14, 8, 11, 4, 13, 12, 15, 5, 2, 5, 15, 1, 1, 1, 4, 12, 2, 10, 2, 2, 3, 11, 9, 15, 13, 5, 6, 4, 4, 10, 8, 8, 3, 15, 3, 4, 13, 2, 11, 2, 13, 5, 12, 15, 14, 10, 2, 7, 2, 13, 2, 11, 8, 9, 6, 8, 13, 1, 14, 5, 7, 11, 12, 12, 9, 10, 5, 8, 4, 14, 13, 1, 6, 3, 13, 8, 2, 5, 7, 8, 2, 5, 9, 11, 10, 3, 10, 9, 1, 4, 15, 3, 10, 5, 15, 5, 4, 5, 15, 5, 15, 9, 6, 9, 5, 6, 6, 11, 15, 1, 11, 8, 6, 10, 1, 11, 8, 12, 8, 4, 13, 3], \"Freq\": [0.7493612913249545, 0.18734032283123864, 0.9076033578725613, 0.8993760099942242, 0.9749029124069362, 0.8952339933170055, 0.9076033578725613, 0.9448782230657788, 0.8652101879240921, 0.01707127577070336, 0.7852786854523546, 0.2048553092484403, 0.960500721828996, 0.9749029124069362, 0.8952339933170055, 0.9605007218289963, 0.9448782230657788, 0.8772991412315461, 0.9340000439279975, 0.8993760099942242, 0.8952339933170055, 0.32403035231654287, 0.6480607046330857, 0.618486319452989, 0.3092431597264945, 0.9605007218289963, 0.9665157273696438, 0.9766785394433255, 0.8772991412315461, 0.9448782230657788, 0.9749029124069362, 0.9766785394433255, 0.9766785394433257, 0.9766785394433256, 0.9749029124069362, 0.9340000439279975, 1.0891240294470734, 0.9665157273696436, 0.9766785394433255, 0.8652101879240921, 1.0966239265394326, 0.9448782230657788, 0.9340000439279975, 0.9749029124069362, 0.9076033578725613, 0.8952339933170055, 0.9685444273142302, 0.8952339933170055, 0.9665157273696438, 0.9605007218289963, 0.9766785394433255, 0.852235486652207, 0.16164844845817963, 0.8082422422908982, 0.9076033578725613, 0.8652101879240921, 1.1363139822029429, 0.852235486652207, 0.852235486652207, 1.0382522255089106, 0.96854442731423, 0.9997877959372697, 0.8952339933170055, 1.0393660453723568, 0.979589157191517, 0.9448782230657788, 0.979589157191517, 0.8652101879240921, 0.9766785394433255, 0.9605007218289963, 0.9340000439279977, 0.852235486652207, 0.8772991412315461, 0.8952339933170055, 0.9766785394433255, 0.299575063634318, 0.599150127268636, 0.9665157273696438, 0.5510450789852935, 0.3673633859901957, 0.9448782230657788, 0.9766785394433255, 0.852235486652207, 0.979589157191517, 0.8652101879240921, 0.9766785394433255, 0.979589157191517, 0.96854442731423, 0.9665157273696438, 0.9665157273696438, 1.027858297136256, 0.9777013747260294, 0.9777013747260294, 0.9777013747260295, 0.8952339933170055, 0.6278495656003208, 0.3139247828001604, 0.13971008747802355, 0.8382605248681412, 0.8952339933170055, 0.9685444273142302, 0.9777013747260295, 0.9766785394433256, 0.9605007218289963, 0.20079288521113722, 0.8031715408445489, 0.18280415400963773, 0.7312166160385509, 0.9665157273696436, 0.9665157273696438, 0.9605007218289963, 0.9777013747260295, 0.96854442731423, 0.8952339933170055, 0.9448782230657788, 0.8772991412315461, 0.8952339933170055, 0.9777013747260294, 0.9448782230657788, 0.9749029124069362, 0.9777013747260295, 0.7242355421933584, 0.24141184739778615, 0.979589157191517, 0.8993760099942242, 0.9340000439279975, 0.8772991412315461, 0.9777013747260295, 0.14854895691118492, 0.8912937414671095, 0.974902912406936, 0.8993760099942242, 0.8993760099942242, 0.8652101879240921, 0.9340000439279975, 0.960500721828996, 0.8772991412315461, 0.9685444273142302, 0.760587434998231, 0.19014685874955775, 0.852235486652207, 0.9777013747260295, 0.6346548469434039, 0.31732742347170195, 0.9340000439279977, 0.9076033578725613, 0.19561566978368106, 0.7824626791347242, 0.9766785394433255, 0.9749029124069362, 0.8952339933170055, 0.8952339933170055, 0.9685444273142302, 0.9685444273142302, 0.8993760099942242, 0.979589157191517, 0.9777013747260295, 0.1620122330971172, 0.810061165485586, 0.9777013747260295, 0.9076033578725613, 0.9665157273696436, 0.979589157191517, 0.8772991412315461, 0.7153016713761249, 0.23843389045870828, 0.9749029124069362, 0.979589157191517, 0.9605007218289963, 0.8993760099942242, 0.9076033578725613, 0.8652101879240921, 0.8772991412315461, 0.9766785394433256, 0.852235486652207, 0.8772991412315461, 0.8772991412315461, 0.9340000439279975, 0.9340000439279977, 0.9749029124069362, 0.8652101879240921, 0.852235486652207, 0.9766785394433255, 0.9448782230657788, 0.9777013747260295, 0.8993760099942242, 0.852235486652207, 0.9766785394433255, 0.9795891571915171, 1.1363139822029429, 0.9340000439279975, 0.9665157273696438, 0.9340000439279975, 0.9777013747260295, 0.9749029124069362, 0.9665157273696438, 0.9766785394433255, 0.9749029124069362, 0.8993760099942242, 0.852235486652207, 0.8952339933170055, 0.9685444273142302, 0.12405187529152996, 0.8683631270407096, 0.9795891571915171, 0.8652101879240921, 0.9605007218289963, 0.9685444273142302, 0.9685444273142302, 0.37921125968951563, 0.37921125968951563, 0.18960562984475782, 0.8993760099942242, 0.9448782230657788, 0.24319812476962982, 0.7295943743088894, 0.9340000439279975, 0.8993760099942242, 0.9076033578725613, 0.9777013747260295, 0.8952339933170055, 0.9448782230657788, 0.9685444273142302, 0.9685444273142302, 0.9766785394433255, 0.9665157273696438, 0.9665157273696438, 0.9448782230657788, 1.0026275899789097, 0.6724652330296778, 0.22415507767655923, 0.9340000439279977, 0.9605007218289963, 0.8993760099942242, 0.8993760099942242, 0.9766785394433255, 0.979589157191517, 0.222563054437662, 0.667689163312986, 0.9340000439279977, 0.852235486652207, 0.9076033578725613, 0.852235486652207, 0.979589157191517, 0.9076033578725613, 0.9685444273142302, 0.8952339933170055, 0.9766785394433255, 0.9340000439279977, 0.9685444273142302, 1.0382522255089106, 0.9605007218289963, 0.8772991412315461, 0.9448782230657788, 0.8772991412315461, 0.8772991412315461, 0.9605007218289963, 0.9605007218289963, 0.8952339933170055, 1.0382522255089106, 0.9665157273696438, 0.9777013747260295, 0.8652101879240921, 0.974902912406936, 0.8952339933170055, 0.7116061882422194, 0.2372020627474065, 0.8652101879240921, 0.8772991412315461, 0.8652101879240921, 0.7130142602487193, 0.23767142008290643, 0.9685444273142302, 0.8993760099942242, 0.9665157273696436, 0.9076033578725613, 0.8993760099942242, 0.852235486652207, 0.8105336621113041, 0.13508894368521734, 1.0382522255089106, 0.9605007218289963, 0.9340000439279975, 0.979589157191517, 0.8993760099942242, 0.96854442731423, 0.9448782230657788, 0.8772991412315461, 0.8952339933170055, 1.0372609804257844, 0.9340000439279975, 0.8952339933170055, 0.8652101879240921, 0.979589157191517, 0.8993760099942242, 0.9766785394433255, 0.8772991412315461, 0.9665157273696438, 0.9665157273696436, 1.0226825839826486, 0.9685444273142302, 0.9766785394433255, 0.9685444273142302, 0.9777013747260295, 0.9605007218289963, 0.9076033578725613, 0.9340000439279975, 0.852235486652207, 0.9340000439279977, 0.8993760099942242, 0.9665157273696438, 0.8993760099942242, 0.8993760099942242, 0.960500721828996, 0.9685444273142302, 0.9076033578725613, 0.8772991412315461, 0.9777013747260295, 0.8652101879240921, 0.9665157273696438, 0.9766785394433255, 0.9076033578725613, 0.8993760099942242, 0.852235486652207, 0.47631271339848874, 0.47631271339848874, 0.9766785394433255, 0.960500721828996, 0.9766785394433255, 0.8652101879240921, 0.9665157273696438, 0.852235486652207, 0.852235486652207, 0.9076033578725613, 0.8993760099942242, 0.2988701399873799, 0.5977402799747598, 0.9605007218289963, 0.8993760099942242, 0.9665157273696436, 0.9448782230657788, 0.9076033578725613, 0.9766785394433255, 0.9665157273696438, 0.9340000439279975, 0.8652101879240921, 0.9749029124069362, 0.9766785394433255, 0.8993760099942242, 0.9766785394433255, 0.979589157191517, 0.9766785394433255, 0.9340000439279975, 1.030776243344486, 0.9766785394433255, 0.9665157273696438, 1.0792512119930688, 0.974902912406936, 0.6520147185167185, 0.3260073592583593, 0.9685444273142302, 0.9766785394433255, 0.8772991412315461, 0.9076033578725613, 0.9605007218289963, 0.9766785394433257, 0.9777013747260295, 1.081512734905115, 0.9076033578725613, 0.7100299666121146, 0.23667665553737152, 0.8952339933170055, 0.9777013747260294, 0.9448782230657788, 0.9749029124069362, 1.0235156647701371, 0.9340000439279975, 0.08849649850835047, 0.8849649850835047, 0.8772991412315461, 0.9448782230657788, 0.9665157273696438, 0.9777013747260294, 0.852235486652207, 0.9340000439279977, 0.979589157191517, 0.8772991412315461, 0.9665157273696438, 0.8952339933170055, 0.8952339933170055, 0.9448782230657788, 0.24112368067274542, 0.7233710420182363, 0.8772991412315461, 0.944878223065779, 0.9766785394433255, 0.96854442731423, 0.960500721828996, 1.0527589694778552, 0.960500721828996, 0.9605007218289963, 0.8952339933170055, 0.8772991412315461, 0.8652101879240921, 0.9893136109936465, 0.10721873187472242, 0.7505311231230569, 0.10721873187472242, 0.9665157273696438, 0.9766785394433256, 0.9448782230657788, 1.0742807919804067, 0.9847573926487062, 0.9076033578725613, 0.8952339933170055, 0.974902912406936, 0.9766785394433255, 0.9076033578725613, 0.9448782230657788, 0.9076033578725613, 0.979589157191517, 0.9665157273696436, 0.96854442731423, 0.13644374897416697, 0.40933124692250095, 0.27288749794833395, 0.13644374897416697, 0.9605007218289963, 0.979589157191517, 0.9766785394433255, 0.979589157191517, 0.9749029124069362, 0.9766785394433255, 0.9665157273696438, 0.5750778983122526, 0.38338526554150176, 0.979589157191517, 0.9605007218289963, 0.9448782230657788, 0.9448782230657788, 0.9685444273142302, 0.979589157191517, 0.96854442731423, 0.974902912406936, 0.9340000439279975, 0.9766785394433255, 0.9076033578725613, 0.9777013747260295, 0.9076033578725613, 0.5546027083167201, 0.36973513887781345, 0.9448782230657788, 0.7167693002834178, 0.17919232507085445, 1.0652943583152588, 0.9766785394433255, 0.708714205604339, 0.23623806853477966, 0.960500721828996, 0.852235486652207, 0.8188835352865219, 0.11698336218378884, 0.37361072820050506, 0.5604160923007576, 0.7057803712626306, 0.23526012375421018, 0.9766785394433257, 1.0652943583152588, 0.9448782230657788, 0.9777013747260295, 0.9766785394433256, 0.9766785394433257, 0.9777013747260295, 0.9448782230657788, 0.8772991412315461, 0.9448782230657788, 0.9340000439279977, 0.8952339933170055, 0.8952339933170055, 0.7111874946977492, 0.23706249823258307, 0.8652101879240921, 0.8952339933170055, 0.8993760099942242, 0.9685444273142301, 0.9076033578725613, 0.9448782230657788, 0.9777013747260295, 0.9685444273142302, 0.9777013747260295, 0.9665157273696438, 0.9340000439279975, 0.9749029124069362, 0.8772991412315461, 0.9766785394433256, 0.9685444273142302, 0.9777013747260295, 0.9340000439279975, 0.9076033578725613, 0.9665157273696438, 0.9685444273142302, 0.9340000439279975, 0.9777013747260294, 0.22954300480408568, 0.688629014412257, 0.852235486652207, 0.21705027100931695, 0.6511508130279509, 0.7338100330471938, 0.2446033443490646, 0.9665157273696438, 0.9749029124069362, 0.96854442731423, 0.9777013747260295, 1.0071382424816313, 0.9665157273696438, 0.9448782230657788, 0.8952339933170055, 0.9340000439279977, 0.9766785394433256, 0.9685444273142302, 0.9076033578725613, 0.9076033578725613, 0.8952339933170055, 0.9340000439279975, 0.8952339933170055, 1.0235156647701371, 0.9777013747260294, 1.0792512119930688, 0.9685444273142302, 0.9665157273696438, 0.9605007218289963, 0.979589157191517, 0.9665157273696438, 0.9448782230657788, 0.9448782230657788, 0.9448782230657788, 0.8993760099942242, 0.852235486652207, 0.9749029124069362, 0.9076033578725613, 0.8652101879240921, 0.22847625970758012, 0.6854287791227404, 0.5631712293627515, 0.3754474862418344, 0.9777013747260295, 0.9448782230657788, 0.974902912406936, 0.9685444273142302, 0.9665157273696438, 0.9749029124069362, 0.9766785394433255, 0.852235486652207, 0.9777013747260295, 0.5665295452692819, 0.3776863635128546, 0.8772991412315461, 0.9749029124069362, 0.9777013747260295, 1.081512734905115, 0.96854442731423, 0.8993760099942242, 0.8772991412315461, 0.9749029124069362, 0.9749029124069362, 0.8993760099942242, 0.852235486652207, 0.994274734427575, 0.8772991412315461, 0.9448782230657788, 0.9685444273142302, 0.852235486652207, 0.9665157273696438, 0.8772991412315461, 0.8772991412315461, 0.616688121502336, 0.308344060751168, 0.9795891571915171, 0.6064386874322023, 0.3638632124593214, 0.9685444273142302, 0.9766785394433256, 0.9076033578725613, 0.9340000439279976, 0.8952339933170055, 0.9749029124069362, 0.9766785394433255, 0.8772991412315461, 0.9749029124069362, 0.852235486652207, 0.9766785394433255, 1.0226825839826486, 0.9749029124069362, 0.9076033578725613, 0.8772991412315461, 0.9665157273696438, 0.9749029124069362, 0.12031169735780266, 0.8421818815046186, 0.9777013747260295, 0.8652101879240921, 0.9665157273696438, 0.9685444273142302, 0.855080693239556, 0.1068850866549445, 0.8952339933170055, 0.8652101879240921, 0.9777013747260295, 0.974902912406936, 0.9777013747260295, 0.9777013747260295, 1.0382522255089106, 0.9340000439279975, 0.9076033578725613, 0.9076033578725613, 0.8952339933170055, 0.9749029124069362, 0.9749029124069362, 0.9448782230657788, 0.979589157191517, 0.9605007218289963, 0.9076033578725613, 0.9749029124069362, 0.9044790496656877, 0.09044790496656877, 0.9605007218289963, 0.985030868088912, 0.9605007218289963, 0.9749029124069362, 0.9777013747260295, 0.9749029124069362, 0.9340000439279976, 0.4105602605441941, 0.13685342018139804, 0.4105602605441941, 0.9340000439279977, 0.9665157273696436, 0.9777013747260295, 0.17528936167837958, 0.17528936167837958, 0.5258680850351387, 0.8952339933170055, 0.9605007218289963, 0.9448782230657788, 0.8772991412315461, 0.979589157191517, 0.9665157273696438, 0.9749029124069362, 0.8952339933170055, 0.8652101879240921, 0.9340000439279975, 0.9340000439279975, 0.979589157191517, 0.1872311190818939, 0.7489244763275756, 0.979589157191517, 0.724797811707955, 0.24159927056931832, 0.9749029124069362, 0.7267774130564403, 0.24225913768548007, 1.1363139822029429, 0.979589157191517, 0.9777013747260295, 0.9076033578725613, 0.8652101879240921, 0.45987448742695547, 0.45987448742695547, 0.9665157273696436, 0.9665157273696438, 0.8952339933170055, 0.6078917444063633, 0.30394587220318164, 0.8652101879240921, 0.7074808784221432, 0.23582695947404775, 0.9448782230657788, 0.852235486652207, 0.9777013747260294, 0.9605007218289963, 0.960500721828996, 1.0078701046034975, 0.9605007218289963, 0.8934075772182795, 0.08934075772182795, 0.944878223065779, 0.9749029124069362, 0.9448782230657788, 0.974902912406936, 1.0226825839826486, 0.8652101879240921, 0.8652101879240921, 0.9766785394433255, 0.979589157191517, 0.96854442731423, 0.9777013747260295, 0.9685444273142302, 0.9685444273142302, 0.96854442731423, 0.9076033578725613, 0.6111603880598571, 0.30558019402992853, 0.9448782230657788, 0.9650290553547005, 0.852235486652207, 0.9795891571915171, 0.9685444273142302, 0.9340000439279975, 0.979589157191517, 0.9685444273142302, 0.8993760099942242, 0.9076033578725613, 1.1363139822029429, 0.9777013747260295, 0.9076033578725613, 0.8993760099942242, 1.081512734905115, 0.9076033578725613, 0.2308854641648691, 0.6926563924946073, 0.9777013747260295, 0.979589157191517, 0.5797548822475342, 0.4638039057980274, 0.8993760099942242, 0.979589157191517, 0.8952339933170055, 0.9685444273142302, 0.9076033578725613, 0.852235486652207, 0.8652101879240921, 0.9665157273696438, 0.852235486652207, 0.9777013747260294, 0.9777013747260295, 0.9665157273696436, 0.8772991412315461, 0.9777013747260294, 0.8652101879240921, 0.8772991412315461, 0.979589157191517, 0.9605007218289963, 0.9605007218289963, 0.9076033578725613, 0.8952339933170055, 0.9685444273142302, 0.9777013747260295, 0.8772991412315461, 0.9777013747260295, 0.960500721828996, 0.994274734427575, 0.9665157273696438, 0.7749858674496817, 0.19374646686242042, 0.9685444273142302, 0.9766785394433255, 0.852235486652207, 0.9665157273696438, 0.9873714750095975, 0.9448782230657788, 0.9749029124069362, 0.9448782230657788, 0.8652101879240921, 0.8952339933170055, 0.9076033578725613, 0.9685444273142302, 0.9340000439279977, 0.9605007218289963, 0.9685444273142302, 0.8652101879240921, 0.9340000439279975, 0.9766785394433255, 0.994704437018895, 0.9749029124069362, 0.18240944290070596, 0.7296377716028238, 0.9448782230657788, 0.9665157273696438, 1.009411885911441, 1.1363139822029429, 0.979589157191517, 0.4845123621663013, 0.4845123621663013, 0.8952339933170055, 0.8772991412315461, 0.9340000439279975, 0.7315096602114485, 0.24383655340381616, 0.9685444273142302, 0.9685444273142302, 0.852235486652207, 0.979589157191517, 0.974902912406936, 0.9685444273142302, 1.0382522255089106, 0.8952339933170055, 1.081512734905115, 0.9076033578725613, 0.8993760099942242, 0.9777013747260295, 1.0742807919804067, 0.9448782230657788, 0.8772991412315461, 0.9340000439279975, 0.7793697082647825, 0.19484242706619562, 1.0226825839826486, 0.9665157273696438, 0.16289762449000325, 0.8144881224500162, 1.1363139822029429, 0.8772991412315461, 0.9448782230657788, 0.8772991412315461, 0.9076033578725613, 0.9665157273696438, 0.9340000439279975, 0.9448782230657788, 0.8652101879240921, 0.9448782230657788, 0.979589157191517, 0.979589157191517, 0.8993760099942242, 0.979589157191517, 0.9665157273696438, 0.8772991412315461, 0.960500721828996, 0.9665157273696438, 0.8652101879240921, 0.8772991412315461, 0.9766785394433255, 0.9340000439279975, 0.9777013747260295, 0.8993760099942242, 0.2245056708736339, 0.6735170126209017, 0.852235486652207, 0.8952339933170055, 0.9340000439279975, 0.9766785394433255, 0.9777013747260295, 0.852235486652207, 0.979589157191517, 0.8952339933170055, 0.8993760099942242, 0.9766785394433255, 0.8652101879240921, 0.9448782230657788, 0.9665157273696438, 0.8993760099942242, 0.974902912406936, 1.0492720116599281, 0.9749029124069362, 0.8993760099942242, 0.9448782230657788, 0.9749029124069362, 0.979589157191517, 0.9340000439279975, 0.9340000439279975, 0.9777013747260295, 0.9448782230657788, 0.9448782230657788, 0.8772991412315461, 0.96854442731423, 0.9665157273696438, 0.9076033578725613, 0.96854442731423, 0.9777013747260295, 0.9685444273142302, 0.6033706466899914, 0.3016853233449957, 0.9605007218289963, 0.9685444273142302, 0.8952339933170055, 0.8652101879240921, 0.979589157191517, 1.0891240294470734, 0.8652101879240921, 0.9605007218289963, 0.8652101879240921, 0.852235486652207, 1.0444396588698397, 0.3067676669438766, 0.6135353338877532, 0.8993760099942242, 0.8993760099942242, 0.9665157273696438, 0.9795891571915171, 1.0742807919804067, 0.8993760099942242, 0.8952339933170055, 0.852235486652207, 0.9777013747260295, 0.4993688688309385, 0.37452665162320387, 0.12484221720773463, 0.9777013747260295, 0.9749029124069362, 1.0235156647701371, 0.8993760099942242, 0.9076033578725613, 0.9777013747260294, 0.852235486652207, 0.8952339933170055, 0.8652101879240921, 0.9749029124069362, 0.9665157273696438, 0.974902912406936, 0.8652101879240921, 0.9448782230657788, 0.9448782230657788, 0.9448782230657788, 0.9777013747260294, 0.8952339933170055, 0.7678661809341482, 0.19196654523353704, 0.9665157273696438, 0.16077708835002116, 0.6431083534000847, 0.16077708835002116, 0.9605007218289963, 0.8652101879240921, 1.0652943583152588, 0.974902912406936, 0.9766785394433257, 0.9777013747260295, 0.9777013747260294, 0.9340000439279977, 0.8993760099942242, 0.8993760099942242, 0.979589157191517, 1.081512734905115, 0.6526393912602819, 0.32631969563014096, 0.852235486652207, 0.9665157273696436, 0.9076033578725613, 0.9665157273696438, 0.852235486652207, 0.974902912406936, 0.8952339933170055, 0.8652101879240921, 0.8772991412315461, 0.9340000439279977, 0.48376450695320056, 0.48376450695320056, 0.2957343115056568, 0.5914686230113136, 0.9665157273696438, 0.9076033578725613, 0.8993760099942242, 0.9605007218289963, 0.9766785394433257, 0.8993760099942242, 0.852235486652207, 0.9448782230657788, 0.8772991412315461, 0.9749029124069362, 0.9685444273142302, 0.9076033578725613, 0.8952339933170055, 0.8952339933170055, 0.9605007218289963, 1.018909138830543, 0.8012052904152803, 0.16024105808305605, 0.9777013747260295, 0.8772991412315461, 0.852235486652207, 0.9448782230657788, 0.9766785394433255, 0.979589157191517, 1.1363139822029429, 0.8993760099942242, 0.646196916656384, 0.323098458328192, 0.9685444273142302, 0.8993760099942242, 0.9665157273696436, 0.9749029124069362, 0.9605007218289963, 0.9076033578725613, 1.0377778265866642, 0.9795891571915172, 0.9340000439279977, 0.9605007218289963, 0.9448782230657788, 0.9777013747260294, 0.8652101879240921, 0.6426041378260657, 0.32130206891303287, 0.974902912406936, 0.8652101879240921, 0.9749029124069362, 0.9777013747260295, 0.974902912406936, 1.081512734905115, 0.9749029124069362, 0.8652101879240921, 0.960500721828996, 0.9766785394433257, 0.9605007218289963, 0.9749029124069362, 0.9766785394433255, 0.9766785394433255, 0.9076033578725613, 0.8652101879240921, 0.04786798528806807, 0.9573597057613614, 0.8993760099942242, 0.9766785394433255, 0.9340000439279975, 0.9448782230657788, 1.003140553438094, 0.7185035088963598, 0.26943881583613494, 0.9811374654482444, 0.9777013747260295, 0.852235486652207, 0.979589157191517], \"Term\": [\"&lt;/b&gt\", \"&lt;/b&gt\", \"-bernanke\", \"1,200\", \"1.3\", \"11/10/04)the\", \"174th\", \"2,000\", \"3,000\", \"39;s\", \"39;s\", \"39;s\", \"39;t\", \"4:45\", \"76,806\", \"\\\\$1.53\", \"\\\\$225\", \"\\\\$29\", \"\\\\$3\", \"\\\\$50\", \"abuse\", \"access\", \"access\", \"accord\", \"accord\", \"acquire\", \"acre\", \"activity\", \"address\", \"adultery\", \"adventure\", \"adviser\", \"afghanistan\", \"afp\", \"afternoon\", \"aggie\", \"agree\", \"ahead\", \"aid\", \"aim\", \"air\", \"airbus\", \"airline\", \"ala.\", \"alan\", \"alcoholic\", \"alexandria\", \"alistair\", \"alitalia\", \"allen\", \"allison\", \"ambush\", \"amid\", \"amid\", \"amp\", \"amp;m\", \"ancient\", \"andrew\", \"anger\", \"announce\", \"anti\", \"ap\", \"apartment\", \"apple\", \"application\", \"approach\", \"architecture\", \"aristide\", \"arm\", \"armed\", \"arrest\", \"assassinate\", \"association\", \"athletics\", \"attack\", \"attempt\", \"attempt\", \"auburn\", \"australia\", \"australia\", \"aviva\", \"back\", \"backfield\", \"backup\", \"bad\", \"baghdad\", \"ballroom\", \"ban\", \"bans\", \"barely\", \"barrel\", \"base\", \"baseball\", \"battle\", \"bear\", \"beat\", \"beat\", \"begin\", \"begin\", \"bellamy\", \"bertrand\", \"beta\", \"bid\", \"bielefeld\", \"big\", \"big\", \"bill\", \"bill\", \"billion\", \"birdie\", \"bite\", \"blair\", \"blame\", \"blunkett\", \"board\", \"bomb\", \"boss\", \"boston\", \"bowstreet\", \"boxing\", \"brace\", \"break\", \"break\", \"breast\", \"brees\", \"brian\", \"brigades\", \"bring\", \"britain\", \"britain\", \"british\", \"broad\", \"brussels\", \"builds\", \"bullitt\", \"bundesliga\", \"bush\", \"business\", \"buy\", \"buy\", \"buyer\", \"byrd\", \"calif.\", \"calif.\", \"call\", \"canon\", \"card\", \"card\", \"carlos\", \"cash\", \"catch\", \"celebrate\", \"cell\", \"cellulosa\", \"cent\", \"ceo\", \"chairman\", \"champion\", \"champion\", \"champions\", \"chance\", \"charge\", \"chargers\", \"chechnya\", \"chicago\", \"chicago\", \"chicken\", \"chief\", \"china\", \"chinese\", \"chip\", \"chipper\", \"christmas\", \"city\", \"claim\", \"clement\", \"climb\", \"cling\", \"clinical\", \"cloning\", \"close\", \"clue\", \"cluster\", \"cnet\", \"coach\", \"college\", \"column\", \"comet\", \"company\", \"complete\", \"comprise\", \"computer\", \"concert\", \"confess\", \"confident\", \"confusion\", \"contractor\", \"controversial\", \"controversy\", \"convoy\", \"core\", \"cornerback\", \"corp.\", \"corp.\", \"cost\", \"costantino\", \"country\", \"county\", \"coup\", \"court\", \"court\", \"court\", \"courtney\", \"craig\", \"create\", \"create\", \"crisis\", \"crude\", \"cuba\", \"cubs\", \"cultivation\", \"cumbie\", \"cut\", \"danger\", \"daniel\", \"date\", \"datum\", \"davis\", \"day\", \"deal\", \"deal\", \"debt\", \"december\", \"decide\", \"decrease\", \"deep\", \"dejuan\", \"delay\", \"delay\", \"demand\", \"deplete\", \"deployment\", \"derail\", \"design\", \"desktop\", \"destination\", \"detail\", \"developer\", \"die\", \"diego\", \"digital\", \"dip\", \"diplomat\", \"diplomatic\", \"disaster\", \"discipline\", \"discussion\", \"division\", \"diyarbakir\", \"document\", \"dollar\", \"don\", \"doping\", \"double\", \"draper\", \"drug\", \"drug\", \"duque\", \"dvd\", \"eagle\", \"early\", \"early\", \"east\", \"echo\", \"economic\", \"economy\", \"edge\", \"el\", \"election\", \"election\", \"electronic\", \"electronics\", \"eli\", \"elite\", \"email\", \"embassy\", \"emerge\", \"emergency\", \"eminem\", \"end\", \"engine\", \"engineer\", \"england\", \"enthusiast\", \"era\", \"escape\", \"eu\", \"euro\", \"europe\", \"european\", \"evening\", \"everquest\", \"evict\", \"exchange\", \"execution\", \"executive\", \"expand\", \"expansion\", \"expect\", \"expert\", \"expertise\", \"export\", \"expos\", \"fail\", \"fairground\", \"fall\", \"fans\", \"fashion\", \"fate\", \"federal\", \"federer\", \"fedex\", \"felix\", \"fetch\", \"field\", \"field\", \"fierce\", \"fight\", \"fighting\", \"file\", \"fina\", \"finally\", \"finals\", \"finance\", \"financial\", \"find\", \"find\", \"fine\", \"firefox\", \"firm\", \"fiscal\", \"fixate\", \"flower\", \"fly\", \"foods\", \"football\", \"forecast\", \"foreign\", \"forsyth\", \"fortune\", \"franchise\", \"free\", \"freelance\", \"friday\", \"frock\", \"fumble\", \"future\", \"game\", \"games\", \"games\", \"garden\", \"gardez\", \"garnett\", \"gatecrasher\", \"geico\", \"general\", \"germain\", \"giant\", \"glaciers\", \"global\", \"global\", \"goal\", \"gold\", \"golf\", \"golota\", \"good\", \"google\", \"government\", \"government\", \"greek\", \"greenspan\", \"ground\", \"group\", \"guerrilla\", \"guilty\", \"guitar\", \"guitarworld\", \"gun\", \"guste\", \"haitian\", \"half\", \"hall\", \"hall\", \"hamid\", \"hamilton\", \"hammer\", \"hand\", \"head\", \"health\", \"heart\", \"heatwave\", \"heavy\", \"heavyweight\", \"helicopter\", \"high\", \"hit\", \"hit\", \"hit\", \"hockey\", \"hold\", \"holder\", \"hollywood\", \"home\", \"honeywell\", \"honours\", \"hope\", \"hostage\", \"hour\", \"house\", \"hp\", \"hpc\", \"human\", \"hurt\", \"ibm\", \"ibm\", \"ibm\", \"ibm\", \"id\", \"idf\", \"imagine\", \"inc.\", \"include\", \"increasingly\", \"india\", \"industry\", \"industry\", \"inflation\", \"infosys\", \"infoworld\", \"infringement\", \"injure\", \"injuries\", \"injury\", \"inning\", \"innovation\", \"inq7\", \"inquiry\", \"insist\", \"insurance\", \"intel\", \"intel\", \"interception\", \"international\", \"international\", \"internet\", \"intimidate\", \"introduce\", \"introduce\", \"investor\", \"involve\", \"ipod\", \"ipod\", \"iran\", \"iran\", \"iranian\", \"iranian\", \"iraq\", \"iraqi\", \"irish\", \"israel\", \"israeli\", \"italy\", \"itanium\", \"itunes\", \"ivan\", \"iverson\", \"jackson\", \"jail\", \"jamaica\", \"japan\", \"japan\", \"japanese\", \"jean\", \"jets\", \"job\", \"john\", \"joke\", \"jones\", \"judge\", \"julien\", \"jump\", \"junichiro\", \"kansas\", \"karzai\", \"kill\", \"kilometre\", \"knee\", \"koizumi\", \"kreme\", \"krispy\", \"kurdish\", \"kvault\", \"land\", \"large\", \"large\", \"largest\\\\humanitarian\", \"late\", \"late\", \"launch\", \"launch\", \"lay\", \"lead\", \"leader\", \"league\", \"leave\", \"legacy\", \"legend\", \"lewis\", \"license\", \"life\", \"lilly\", \"lineup\", \"linn\", \"list\", \"live\", \"loan\", \"london\", \"long\", \"loss\", \"louis\", \"low\", \"lt;b&gt;\", \"lumber\", \"lure\", \"luxurious\", \"mac\", \"maccentral\", \"macculloch\", \"macosxrumors\", \"madison\", \"madrid\", \"mainland\", \"maintain\", \"maintain\", \"major\", \"major\", \"make\", \"maker\", \"man\", \"manager\", \"manchester\", \"manitoba\", \"mann\", \"mansion\", \"mantei\", \"manufacturing\", \"manufacturing\", \"marathon\", \"march\", \"mark\", \"market\", \"matter\", \"melnyk\", \"melvin\", \"member\", \"memory\", \"metal\", \"michigan\", \"microsoft\", \"mid\", \"mid-2005\", \"middle\", \"migrate\", \"mike\", \"mile\", \"militant\", \"military\", \"military\", \"million\", \"minister\", \"minister\", \"mire\", \"monday\", \"money\", \"month\", \"mortgage\", \"motley\", \"moya\", \"mp3\", \"msq\", \"mtv\", \"multiplayer\", \"music\", \"mussina\", \"najaf\", \"nasa\", \"nascar\", \"nation\", \"national\", \"national\", \"nations\", \"nbc\", \"net\", \"netware\", \"network\", \"network\", \"newcastle\", \"newspaper\", \"nfl\", \"night\", \"north\", \"notable\", \"notebook\", \"notify\", \"novar\", \"nuclear\", \"number\", \"ny\", \"occasion\", \"occupue\", \"occupy\", \"october\", \"offender\", \"office\", \"official\", \"official\", \"officially\", \"oil\", \"okinawa\", \"oks\", \"olympic\", \"olympics\", \"online\", \"open\", \"open\", \"open\", \"opening\", \"operation\", \"opium\", \"order\", \"order\", \"order\", \"ordinance\", \"organization\", \"oust\", \"outgunne\", \"outkast\", \"outsourcing\", \"overflowing\", \"overnight\", \"overtime\", \"owner\", \"pace\", \"page\", \"palestinian\", \"palestinian\", \"palestinians\", \"paris\", \"paris\", \"park\", \"partner\", \"partner\", \"party\", \"passion\", \"past\", \"paxil\", \"pay\", \"people\", \"people\", \"percent\", \"perfect\", \"performance\", \"person\", \"person\", \"philanthropy\", \"philips\", \"philips\", \"photo\", \"pirate\", \"pitcher\", \"pittsburgh\", \"place\", \"plan\", \"plane\", \"play\", \"play\", \"player\", \"playoff\", \"pm\", \"point\", \"police\", \"poll\", \"poolside\", \"poor\", \"portal\", \"portsmouth\", \"pose\", \"positive\", \"post\", \"poulter\", \"pound\", \"power\", \"power\", \"pre\", \"president\", \"press\", \"price\", \"priest\", \"prime\", \"prince\", \"prison\", \"privately\", \"probe\", \"processor\", \"producer\", \"products\", \"profit\", \"provide\", \"province\", \"public\", \"public\", \"pullout\", \"quit\", \"quot\", \"quot\", \"quote\", \"radio\", \"raid\", \"rams\", \"ravens\", \"rcmp\", \"reach\", \"reaches\", \"rebels\", \"recall\", \"recent\", \"record\", \"recover\", \"red\", \"regime\", \"region\", \"reject\", \"release\", \"releases\", \"relief\", \"remain\", \"rematch\", \"reno\", \"repay\", \"replace\", \"report\", \"research\", \"researcher\", \"reserve\", \"reserve\", \"result\", \"retail\", \"retailer\", \"retains\", \"reuters\", \"reveal\", \"revenue\", \"review\", \"ridicule\", \"rise\", \"risk\", \"rival\", \"rock\", \"roger\", \"role\", \"roll\", \"ruiz\", \"ruling\", \"run\", \"runner\", \"russian\", \"russian\", \"sacrifice\", \"saddam\", \"sale\", \"san\", \"satellite\", \"saturday\", \"saturday\", \"sc2004\", \"science\", \"scientific\", \"scientist\", \"scientist\", \"scott\", \"scraps\", \"screen\", \"scrip\", \"season\", \"secondary\", \"secure\", \"seed\", \"seek\", \"sell\", \"send\", \"senior\", \"sentence\", \"separate\", \"sept.\", \"sergio\", \"series\", \"series\", \"server\", \"set\", \"share\", \"share\", \"shark\", \"sharon\", \"ship\", \"shipping\", \"shoot\", \"skate\", \"slam\", \"snatch\", \"snow\", \"socks\", \"software\", \"soldier\", \"solemn\", \"solo\", \"sonny\", \"sony\", \"source\", \"sources\", \"south\", \"southampton\", \"southeastern\", \"southern\", \"sox\", \"sp2\", \"space\", \"space\", \"speak\", \"splish\", \"sponsor\", \"sponsored\", \"sports\", \"sportswriter\", \"spread\", \"stadium\", \"staff\", \"stalemate\", \"stall\", \"start\", \"states\", \"stellar\", \"step\", \"stock\", \"stop\", \"storage\", \"store\", \"storm\", \"streak\", \"street\", \"striker\", \"string\", \"stunt\", \"suicide\", \"summit\", \"sunday\", \"supercomputer\", \"supplier\", \"support\", \"supremacy\", \"supreme\", \"surprise\", \"surprise\", \"sustain\", \"svenska\", \"swat\", \"swiss\", \"sydney\", \"system\", \"systems\", \"tahoe\", \"tally\", \"tap\", \"team\", \"tech\", \"tech\", \"telecommuter\", \"ten\", \"tennis\", \"test\", \"texas\", \"thatcher\", \"thomson\", \"thousand\", \"throw\", \"thursday\", \"thursday\", \"thursday\", \"tigers\", \"timberwolve\", \"time\", \"times\", \"tingle\", \"title\", \"todd\", \"tokage\", \"toll\", \"top500\", \"torch\", \"toronto\", \"touch\", \"tough\", \"tour\", \"tourist\", \"tout\", \"track\", \"trade\", \"trade\", \"trademark\", \"trading\", \"trading\", \"trading\", \"trainer\", \"treasury\", \"trial\", \"triple\", \"troop\", \"troy\", \"tuesday\", \"turkey\", \"turkish\", \"turn\", \"tuscaloosa\", \"tv\", \"u.n.\", \"u.n.\", \"u.s\", \"u.s.\", \"uk\", \"unanimous\", \"unannounced\", \"unbeaten\", \"undefeated\", \"uneasy\", \"unfavorable\", \"unit\", \"united\", \"united\", \"upbeat\", \"upbeat\", \"update6\", \"uphold\", \"upward\", \"usatoday.com\", \"user\", \"utah\", \"va.\", \"vaccine\", \"valderrama\", \"ventilation\", \"verita\", \"veritas\", \"veteran\", \"victim\", \"victor\", \"victory\", \"video\", \"video\", \"vienna\", \"view\", \"virginia\", \"vmware\", \"volvo\", \"vote\", \"wall\", \"warn\", \"washington\", \"washington\", \"watch\", \"water\", \"wave\", \"wearing\", \"web\", \"webster\", \"wednesday\", \"week\", \"weekend\", \"weigh\", \"weight\", \"west\", \"westbrook\", \"western\", \"western\", \"white\", \"wide\", \"widely\", \"wild\", \"win\", \"windows\", \"winnipeg\", \"winnipegger\", \"winter\", \"witness\", \"wo\", \"woman\", \"wood\", \"woods\", \"word\", \"worker\", \"world\", \"world\", \"wrap\", \"xinhua\", \"xp\", \"yankees\", \"year\", \"yesterday\", \"yesterday\", \"york\", \"youngster\", \"zangeneh\", \"ziff\"]}, \"R\": 30, \"lambda.step\": 0.01, \"plot.opts\": {\"xlab\": \"PC1\", \"ylab\": \"PC2\"}, \"topic.order\": [9, 13, 15, 4, 5, 7, 12, 1, 14, 3, 8, 11, 10, 6, 2]};\n",
       "\n",
       "function LDAvis_load_lib(url, callback){\n",
       "  var s = document.createElement('script');\n",
       "  s.src = url;\n",
       "  s.async = true;\n",
       "  s.onreadystatechange = s.onload = callback;\n",
       "  s.onerror = function(){console.warn(\"failed to load library \" + url);};\n",
       "  document.getElementsByTagName(\"head\")[0].appendChild(s);\n",
       "}\n",
       "\n",
       "if(typeof(LDAvis) !== \"undefined\"){\n",
       "   // already loaded: just create the visualization\n",
       "   !function(LDAvis){\n",
       "       new LDAvis(\"#\" + \"ldavis_el78184139894733101984485742493\", ldavis_el78184139894733101984485742493_data);\n",
       "   }(LDAvis);\n",
       "}else if(typeof define === \"function\" && define.amd){\n",
       "   // require.js is available: use it to load d3/LDAvis\n",
       "   require.config({paths: {d3: \"https://cdnjs.cloudflare.com/ajax/libs/d3/3.5.5/d3.min\"}});\n",
       "   require([\"d3\"], function(d3){\n",
       "      window.d3 = d3;\n",
       "      LDAvis_load_lib(\"https://cdn.rawgit.com/bmabey/pyLDAvis/files/ldavis.v1.0.0.js\", function(){\n",
       "        new LDAvis(\"#\" + \"ldavis_el78184139894733101984485742493\", ldavis_el78184139894733101984485742493_data);\n",
       "      });\n",
       "    });\n",
       "}else{\n",
       "    // require.js not available: dynamically load d3 & LDAvis\n",
       "    LDAvis_load_lib(\"https://cdnjs.cloudflare.com/ajax/libs/d3/3.5.5/d3.min.js\", function(){\n",
       "         LDAvis_load_lib(\"https://cdn.rawgit.com/bmabey/pyLDAvis/files/ldavis.v1.0.0.js\", function(){\n",
       "                 new LDAvis(\"#\" + \"ldavis_el78184139894733101984485742493\", ldavis_el78184139894733101984485742493_data);\n",
       "            })\n",
       "         });\n",
       "}\n",
       "</script>"
      ],
      "text/plain": [
       "PreparedData(topic_coordinates=              x         y  topics  cluster      Freq\n",
       "topic                                               \n",
       "8     -0.038655  0.105866       1        1  6.883319\n",
       "12    -0.077154  0.140355       2        1  6.835360\n",
       "14     0.075718  0.094451       3        1  6.827915\n",
       "3      0.083850 -0.056895       4        1  6.820114\n",
       "4     -0.129179  0.120174       5        1  6.755510\n",
       "6     -0.055124 -0.084621       6        1  6.743228\n",
       "11    -0.041704  0.093785       7        1  6.715126\n",
       "0     -0.167003 -0.160430       8        1  6.684067\n",
       "13     0.282002 -0.098172       9        1  6.664558\n",
       "2     -0.110707 -0.240067      10        1  6.655952\n",
       "7     -0.013823  0.076690      11        1  6.646082\n",
       "10    -0.124611 -0.183634      12        1  6.577484\n",
       "9      0.291474 -0.084280      13        1  6.427856\n",
       "5      0.045278  0.152421      14        1  6.384537\n",
       "1     -0.020363  0.124357      15        1  6.378890, topic_info=         Term       Freq      Total Category  logprob  loglift\n",
       "21       39;s  58.000000  58.000000  Default  30.0000  30.0000\n",
       "12    reuters  37.000000  37.000000  Default  29.0000  29.0000\n",
       "97         ap  32.000000  32.000000  Default  28.0000  28.0000\n",
       "453       oil  23.000000  23.000000  Default  27.0000  27.0000\n",
       "444   company  22.000000  22.000000  Default  26.0000  26.0000\n",
       "...       ...        ...        ...      ...      ...      ...\n",
       "2287   regime   2.311577   2.311577  Topic15  -4.9016   2.7522\n",
       "1631    stall   2.311577   2.311577  Topic15  -4.9016   2.7522\n",
       "1885  chipper   2.311577   2.311577  Topic15  -4.9016   2.7522\n",
       "558     delay   3.467366   4.493109  Topic15  -4.4961   2.4930\n",
       "156      late   3.467366   4.607228  Topic15  -4.4961   2.4679\n",
       "\n",
       "[967 rows x 6 columns], token_table=      Topic      Freq       Term\n",
       "term                            \n",
       "20        9  0.749361  &lt;/b&gt\n",
       "20       13  0.187340  &lt;/b&gt\n",
       "1022     11  0.907603  -bernanke\n",
       "534       8  0.899376      1,200\n",
       "1351      5  0.974903        1.3\n",
       "...     ...       ...        ...\n",
       "96       12  0.269439  yesterday\n",
       "428       8  0.981137       york\n",
       "1328      4  0.977701  youngster\n",
       "1315     13  0.852235   zangeneh\n",
       "2282      3  0.979589       ziff\n",
       "\n",
       "[1021 rows x 3 columns], R=30, lambda_step=0.01, plot_opts={'xlab': 'PC1', 'ylab': 'PC2'}, topic_order=[9, 13, 15, 4, 5, 7, 12, 1, 14, 3, 8, 11, 10, 6, 2])"
      ]
     },
     "execution_count": 12,
     "metadata": {
     },
     "output_type": "execute_result"
    }
   ],
   "source": [
    "import pyLDAvis.gensim\n",
    "from gensim.models import wrappers\n",
    "\n",
    "##TODO using LDAvis visualize the topics using the optimal number of topics\n",
    "\n",
    "lda = LdaMallet(mallet_path, doc_term_matrix, num_topics=opt_topics, id2word=dictionary)\n",
    "lda_vis = wrappers.ldamallet.malletmodel2ldamodel(lda)\n",
    "\n",
    "pyLDAvis.enable_notebook()\n",
    "pyLDAvis.gensim.prepare(lda_vis, doc_term_matrix, dictionary)\n",
    "\n"
   ]
  },
  {
   "cell_type": "code",
   "execution_count": 0,
   "metadata": {
    "collapsed": false
   },
   "outputs": [
   ],
   "source": [
   ]
  }
 ],
 "metadata": {
  "kernelspec": {
   "display_name": "Python 3 (system-wide)",
   "language": "python",
   "metadata": {
    "cocalc": {
     "description": "Python 3 programming language",
     "priority": 100,
     "url": "https://www.python.org/"
    }
   },
   "name": "python3",
   "resource_dir": "/ext/jupyter/kernels/python3"
  },
  "language_info": {
   "codemirror_mode": {
    "name": "ipython",
    "version": 3
   },
   "file_extension": ".py",
   "mimetype": "text/x-python",
   "name": "python",
   "nbconvert_exporter": "python",
   "pygments_lexer": "ipython3",
   "version": "3.8.6"
  }
 },
 "nbformat": 4,
 "nbformat_minor": 4
}