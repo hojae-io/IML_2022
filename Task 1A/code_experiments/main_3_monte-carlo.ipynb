{
 "cells": [
  {
   "cell_type": "code",
   "execution_count": 69,
   "id": "radio-security",
   "metadata": {},
   "outputs": [
    {
     "name": "stdout",
     "output_type": "stream",
     "text": [
      "[5.294340258721678, 5.254703647575505, 5.655455865313781, 5.752635202276796, 5.600418155784714]\n"
     ]
    },
    {
     "data": {
      "image/png": "[encoded data removed]",
      "text/plain": [
       "<Figure size 432x288 with 1 Axes>"
      ]
     },
     "metadata": {
      "needs_background": "light"
     },
     "output_type": "display_data"
    }
   ],
   "source": [
    "from sklearn.datasets import load_diabetes\n",
    "from sklearn.linear_model import Ridge\n",
    "from sklearn.metrics import mean_squared_error\n",
    "from sklearn.model_selection import KFold \n",
    "from statistics import mean\n",
    "import pandas as pd\n",
    "import matplotlib.pyplot as plt\n",
    "\n",
    "lambdas = [0.1,1,10,100,200]\n",
    "folds = 10\n",
    "\n",
    "df = pd.read_csv(\"train.csv\")\n",
    "\n",
    "kf = KFold(n_splits=folds,random_state=None, shuffle=True)\n",
    "#print(kf)\n",
    "\n",
    "y = df.iloc[:,0]\n",
    "X = df.iloc[:,1:]\n",
    "#print(df)\n",
    "\n",
    "main_mses = []\n",
    "for lam in lambdas:\n",
    "    sub_mses = []\n",
    "    for train_index, test_index in kf.split(df):\n",
    "        #print(train_index, \"\\n\", test_index, \"\\n\")\n",
    "        X_train, X_test = df.iloc[train_index,1:], df.iloc[test_index,1:]\n",
    "        #print(X_test)\n",
    "        #print(X_train)\n",
    "        y_train, y_test = df.iloc[train_index,0], df.iloc[test_index,0]\n",
    "        #print(y_test)\n",
    "        #print(y_train)\n",
    "        clf = Ridge(alpha=lam).fit(X_train, y_train)\n",
    "        y_pred = clf.predict(X_test)\n",
    "        sub_mses.append(mean_squared_error(y_test, y_pred)**(1/2))\n",
    "        #print(sub_mses)\n",
    "    main_mses.append(mean(sub_mses))\n",
    "print(main_mses)\n",
    "\n",
    "plt.plot(lambdas,main_mses)\n",
    "plt.show()\n",
    "\n",
    "df = pd.DataFrame(main_mses)  \n",
    "    \n",
    "# saving the dataframe  \n",
    "df.to_csv('output.csv', index=False)  \n"
   ]
  },
  {
   "cell_type": "code",
   "execution_count": null,
   "id": "comprehensive-catch",
   "metadata": {},
   "outputs": [],
   "source": []
  },
  {
   "cell_type": "code",
   "execution_count": null,
   "id": "indian-tomorrow",
   "metadata": {},
   "outputs": [],
   "source": []
  },
  {
   "cell_type": "code",
   "execution_count": null,
   "id": "furnished-maker",
   "metadata": {},
   "outputs": [],
   "source": []
  }
 ],
 "metadata": {
  "kernelspec": {
   "display_name": "Python 3",
   "language": "python",
   "name": "python3"
  },
  "language_info": {
   "codemirror_mode": {
    "name": "ipython",
    "version": 3
   },
   "file_extension": ".py",
   "mimetype": "text/x-python",
   "name": "python",
   "nbconvert_exporter": "python",
   "pygments_lexer": "ipython3",
   "version": "3.8.5"
  }
 },
 "nbformat": 4,
 "nbformat_minor": 5
}
