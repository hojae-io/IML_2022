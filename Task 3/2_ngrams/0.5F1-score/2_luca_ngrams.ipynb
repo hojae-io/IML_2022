{
 "cells": [
  {
   "cell_type": "code",
   "execution_count": 40,
   "metadata": {
    "collapsed": false,
    "jupyter": {
     "outputs_hidden": false
    }
   },
   "outputs": [],
   "source": [
    "import pandas as pd\n",
    "#!pip install sklearn"
   ]
  },
  {
   "cell_type": "code",
   "execution_count": 41,
   "metadata": {
    "collapsed": false,
    "jupyter": {
     "outputs_hidden": false
    }
   },
   "outputs": [
    {
     "name": "stdout",
     "output_type": "stream",
     "text": [
      "       Sequence  Active\n",
      "0          DKWL       0\n",
      "1          FCHN       0\n",
      "2          KDQP       0\n",
      "3          FNWI       0\n",
      "4          NKRM       0\n",
      "...         ...     ...\n",
      "111995     GSME       0\n",
      "111996     DLPT       0\n",
      "111997     SGHC       0\n",
      "111998     KIGT       0\n",
      "111999     PGPT       0\n",
      "\n",
      "[112000 rows x 2 columns]\n"
     ]
    }
   ],
   "source": [
    "df = pd.read_csv(r'train.csv')\n",
    "print(df)"
   ]
  },
  {
   "cell_type": "code",
   "execution_count": 114,
   "metadata": {
    "collapsed": false,
    "jupyter": {
     "outputs_hidden": false
    }
   },
   "outputs": [],
   "source": [
    "import numpy as np\n",
    "from sklearn.model_selection import train_test_split\n",
    "X = df['Sequence']\n",
    "X_train, X_test, y_train, y_test = train_test_split(X, df['Active'], test_size=0.2, random_state=42)\n"
   ]
  },
  {
   "cell_type": "code",
   "execution_count": 115,
   "metadata": {
    "collapsed": false,
    "jupyter": {
     "outputs_hidden": false
    }
   },
   "outputs": [
    {
     "data": {
      "text/plain": [
       "12385     AFML\n",
       "98624     HCKK\n",
       "84487     GYGN\n",
       "96613     WFKL\n",
       "97496     HPQT\n",
       "          ... \n",
       "76820     NQQD\n",
       "110268    FAIA\n",
       "103694    MRRI\n",
       "860       FNYG\n",
       "15795     LAYM\n",
       "Name: Sequence, Length: 89600, dtype: object"
      ]
     },
     "execution_count": 115,
     "metadata": {},
     "output_type": "execute_result"
    }
   ],
   "source": [
    "X_train"
   ]
  },
  {
   "cell_type": "code",
   "execution_count": 116,
   "metadata": {
    "collapsed": false,
    "jupyter": {
     "outputs_hidden": false
    }
   },
   "outputs": [],
   "source": [
    "# vectorize the data\n",
    "from sklearn.feature_extraction.text import TfidfVectorizer\n",
    "\n",
    "vec = TfidfVectorizer(max_features=4500, ngram_range=(1,3), analyzer=\"char\")\n",
    "\n",
    "# transform into TF-IDF values\n",
    "X_train_tfidf = vec.fit_transform(X_train).todense()\n",
    "X_test_tfidf = vec.transform(X_test).todense()\n"
   ]
  },
  {
   "cell_type": "code",
   "execution_count": 117,
   "metadata": {
    "collapsed": false,
    "jupyter": {
     "outputs_hidden": false
    }
   },
   "outputs": [],
   "source": [
    "param_dist = {'n_estimators':250}\n",
    "import xgboost as xgb\n"
   ]
  },
  {
   "cell_type": "code",
   "execution_count": 118,
   "metadata": {
    "collapsed": false,
    "jupyter": {
     "outputs_hidden": false
    }
   },
   "outputs": [
    {
     "name": "stdout",
     "output_type": "stream",
     "text": [
      "[0]\tvalidation_0-auc:0.78880\tvalidation_1-auc:0.80349\n",
      "[1]\tvalidation_0-auc:0.81840\tvalidation_1-auc:0.82812\n",
      "[2]\tvalidation_0-auc:0.85463\tvalidation_1-auc:0.86230\n",
      "[3]\tvalidation_0-auc:0.86842\tvalidation_1-auc:0.87391\n",
      "[4]\tvalidation_0-auc:0.87591\tvalidation_1-auc:0.87913\n",
      "[5]\tvalidation_0-auc:0.87850\tvalidation_1-auc:0.88040\n",
      "[6]\tvalidation_0-auc:0.89644\tvalidation_1-auc:0.89674\n",
      "[7]\tvalidation_0-auc:0.90249\tvalidation_1-auc:0.90045\n",
      "[8]\tvalidation_0-auc:0.90876\tvalidation_1-auc:0.90606\n",
      "[9]\tvalidation_0-auc:0.91247\tvalidation_1-auc:0.90872\n",
      "[10]\tvalidation_0-auc:0.91512\tvalidation_1-auc:0.91292\n",
      "[11]\tvalidation_0-auc:0.92681\tvalidation_1-auc:0.92142\n",
      "[12]\tvalidation_0-auc:0.93151\tvalidation_1-auc:0.92346\n",
      "[13]\tvalidation_0-auc:0.93366\tvalidation_1-auc:0.92700\n",
      "[14]\tvalidation_0-auc:0.93721\tvalidation_1-auc:0.92963\n",
      "[15]\tvalidation_0-auc:0.94049\tvalidation_1-auc:0.93181\n",
      "[16]\tvalidation_0-auc:0.94306\tvalidation_1-auc:0.93352\n",
      "[17]\tvalidation_0-auc:0.94415\tvalidation_1-auc:0.93373\n",
      "[18]\tvalidation_0-auc:0.94578\tvalidation_1-auc:0.93464\n",
      "[19]\tvalidation_0-auc:0.94721\tvalidation_1-auc:0.93632\n",
      "[20]\tvalidation_0-auc:0.94874\tvalidation_1-auc:0.93709\n",
      "[21]\tvalidation_0-auc:0.95048\tvalidation_1-auc:0.93788\n",
      "[22]\tvalidation_0-auc:0.95132\tvalidation_1-auc:0.93842\n",
      "[23]\tvalidation_0-auc:0.95264\tvalidation_1-auc:0.93985\n",
      "[24]\tvalidation_0-auc:0.95425\tvalidation_1-auc:0.94079\n",
      "[25]\tvalidation_0-auc:0.95449\tvalidation_1-auc:0.94108\n",
      "[26]\tvalidation_0-auc:0.95516\tvalidation_1-auc:0.94169\n",
      "[27]\tvalidation_0-auc:0.95581\tvalidation_1-auc:0.94235\n",
      "[28]\tvalidation_0-auc:0.95659\tvalidation_1-auc:0.94277\n",
      "[29]\tvalidation_0-auc:0.95742\tvalidation_1-auc:0.94370\n",
      "[30]\tvalidation_0-auc:0.95840\tvalidation_1-auc:0.94388\n",
      "[31]\tvalidation_0-auc:0.95873\tvalidation_1-auc:0.94421\n",
      "[32]\tvalidation_0-auc:0.95882\tvalidation_1-auc:0.94375\n",
      "[33]\tvalidation_0-auc:0.95978\tvalidation_1-auc:0.94454\n",
      "[34]\tvalidation_0-auc:0.96022\tvalidation_1-auc:0.94493\n",
      "[35]\tvalidation_0-auc:0.96071\tvalidation_1-auc:0.94556\n",
      "[36]\tvalidation_0-auc:0.96116\tvalidation_1-auc:0.94599\n",
      "[37]\tvalidation_0-auc:0.96164\tvalidation_1-auc:0.94626\n",
      "[38]\tvalidation_0-auc:0.96217\tvalidation_1-auc:0.94671\n",
      "[39]\tvalidation_0-auc:0.96248\tvalidation_1-auc:0.94659\n",
      "[40]\tvalidation_0-auc:0.96341\tvalidation_1-auc:0.94680\n",
      "[41]\tvalidation_0-auc:0.96380\tvalidation_1-auc:0.94712\n",
      "[42]\tvalidation_0-auc:0.96423\tvalidation_1-auc:0.94734\n",
      "[43]\tvalidation_0-auc:0.96432\tvalidation_1-auc:0.94766\n",
      "[44]\tvalidation_0-auc:0.96472\tvalidation_1-auc:0.94788\n",
      "[45]\tvalidation_0-auc:0.96493\tvalidation_1-auc:0.94809\n",
      "[46]\tvalidation_0-auc:0.96545\tvalidation_1-auc:0.94833\n",
      "[47]\tvalidation_0-auc:0.96580\tvalidation_1-auc:0.94869\n",
      "[48]\tvalidation_0-auc:0.96638\tvalidation_1-auc:0.94874\n",
      "[49]\tvalidation_0-auc:0.96662\tvalidation_1-auc:0.94908\n",
      "[50]\tvalidation_0-auc:0.96681\tvalidation_1-auc:0.94883\n",
      "[51]\tvalidation_0-auc:0.96728\tvalidation_1-auc:0.94901\n",
      "[52]\tvalidation_0-auc:0.96774\tvalidation_1-auc:0.94948\n",
      "[53]\tvalidation_0-auc:0.96806\tvalidation_1-auc:0.94982\n",
      "[54]\tvalidation_0-auc:0.96840\tvalidation_1-auc:0.95002\n",
      "[55]\tvalidation_0-auc:0.96857\tvalidation_1-auc:0.95015\n",
      "[56]\tvalidation_0-auc:0.96895\tvalidation_1-auc:0.95051\n",
      "[57]\tvalidation_0-auc:0.96934\tvalidation_1-auc:0.95073\n",
      "[58]\tvalidation_0-auc:0.96956\tvalidation_1-auc:0.95104\n",
      "[59]\tvalidation_0-auc:0.96973\tvalidation_1-auc:0.95126\n",
      "[60]\tvalidation_0-auc:0.96991\tvalidation_1-auc:0.95135\n",
      "[61]\tvalidation_0-auc:0.97055\tvalidation_1-auc:0.95146\n",
      "[62]\tvalidation_0-auc:0.97100\tvalidation_1-auc:0.95193\n",
      "[63]\tvalidation_0-auc:0.97132\tvalidation_1-auc:0.95205\n",
      "[64]\tvalidation_0-auc:0.97221\tvalidation_1-auc:0.95197\n",
      "[65]\tvalidation_0-auc:0.97238\tvalidation_1-auc:0.95211\n",
      "[66]\tvalidation_0-auc:0.97258\tvalidation_1-auc:0.95219\n",
      "[67]\tvalidation_0-auc:0.97270\tvalidation_1-auc:0.95220\n",
      "[68]\tvalidation_0-auc:0.97302\tvalidation_1-auc:0.95242\n",
      "[69]\tvalidation_0-auc:0.97322\tvalidation_1-auc:0.95228\n",
      "[70]\tvalidation_0-auc:0.97339\tvalidation_1-auc:0.95230\n",
      "[71]\tvalidation_0-auc:0.97371\tvalidation_1-auc:0.95277\n",
      "[72]\tvalidation_0-auc:0.97388\tvalidation_1-auc:0.95279\n",
      "[73]\tvalidation_0-auc:0.97413\tvalidation_1-auc:0.95294\n",
      "[74]\tvalidation_0-auc:0.97451\tvalidation_1-auc:0.95349\n",
      "[75]\tvalidation_0-auc:0.97464\tvalidation_1-auc:0.95360\n",
      "[76]\tvalidation_0-auc:0.97480\tvalidation_1-auc:0.95377\n",
      "[77]\tvalidation_0-auc:0.97494\tvalidation_1-auc:0.95385\n",
      "[78]\tvalidation_0-auc:0.97506\tvalidation_1-auc:0.95402\n",
      "[79]\tvalidation_0-auc:0.97514\tvalidation_1-auc:0.95420\n",
      "[80]\tvalidation_0-auc:0.97530\tvalidation_1-auc:0.95427\n",
      "[81]\tvalidation_0-auc:0.97545\tvalidation_1-auc:0.95445\n",
      "[82]\tvalidation_0-auc:0.97557\tvalidation_1-auc:0.95436\n",
      "[83]\tvalidation_0-auc:0.97571\tvalidation_1-auc:0.95447\n",
      "[84]\tvalidation_0-auc:0.97583\tvalidation_1-auc:0.95459\n",
      "[85]\tvalidation_0-auc:0.97600\tvalidation_1-auc:0.95468\n",
      "[86]\tvalidation_0-auc:0.97621\tvalidation_1-auc:0.95496\n",
      "[87]\tvalidation_0-auc:0.97659\tvalidation_1-auc:0.95504\n",
      "[88]\tvalidation_0-auc:0.97675\tvalidation_1-auc:0.95517\n",
      "[89]\tvalidation_0-auc:0.97695\tvalidation_1-auc:0.95508\n",
      "[90]\tvalidation_0-auc:0.97712\tvalidation_1-auc:0.95523\n",
      "[91]\tvalidation_0-auc:0.97742\tvalidation_1-auc:0.95533\n",
      "[92]\tvalidation_0-auc:0.97756\tvalidation_1-auc:0.95531\n",
      "[93]\tvalidation_0-auc:0.97773\tvalidation_1-auc:0.95531\n",
      "[94]\tvalidation_0-auc:0.97793\tvalidation_1-auc:0.95543\n",
      "[95]\tvalidation_0-auc:0.97804\tvalidation_1-auc:0.95553\n",
      "[96]\tvalidation_0-auc:0.97816\tvalidation_1-auc:0.95573\n",
      "[97]\tvalidation_0-auc:0.97844\tvalidation_1-auc:0.95580\n",
      "[98]\tvalidation_0-auc:0.97858\tvalidation_1-auc:0.95607\n",
      "[99]\tvalidation_0-auc:0.97888\tvalidation_1-auc:0.95620\n",
      "[100]\tvalidation_0-auc:0.97899\tvalidation_1-auc:0.95626\n",
      "[101]\tvalidation_0-auc:0.97908\tvalidation_1-auc:0.95630\n",
      "[102]\tvalidation_0-auc:0.97916\tvalidation_1-auc:0.95637\n",
      "[103]\tvalidation_0-auc:0.97924\tvalidation_1-auc:0.95654\n",
      "[104]\tvalidation_0-auc:0.97935\tvalidation_1-auc:0.95657\n",
      "[105]\tvalidation_0-auc:0.97953\tvalidation_1-auc:0.95681\n",
      "[106]\tvalidation_0-auc:0.97970\tvalidation_1-auc:0.95683\n",
      "[107]\tvalidation_0-auc:0.97988\tvalidation_1-auc:0.95701\n",
      "[108]\tvalidation_0-auc:0.97997\tvalidation_1-auc:0.95708\n",
      "[109]\tvalidation_0-auc:0.98004\tvalidation_1-auc:0.95712\n",
      "[110]\tvalidation_0-auc:0.98012\tvalidation_1-auc:0.95735\n",
      "[111]\tvalidation_0-auc:0.98019\tvalidation_1-auc:0.95731\n",
      "[112]\tvalidation_0-auc:0.98044\tvalidation_1-auc:0.95727\n",
      "[113]\tvalidation_0-auc:0.98057\tvalidation_1-auc:0.95735\n",
      "[114]\tvalidation_0-auc:0.98070\tvalidation_1-auc:0.95734\n",
      "[115]\tvalidation_0-auc:0.98080\tvalidation_1-auc:0.95739\n",
      "[116]\tvalidation_0-auc:0.98086\tvalidation_1-auc:0.95739\n",
      "[117]\tvalidation_0-auc:0.98092\tvalidation_1-auc:0.95736\n",
      "[118]\tvalidation_0-auc:0.98103\tvalidation_1-auc:0.95757\n",
      "[119]\tvalidation_0-auc:0.98116\tvalidation_1-auc:0.95743\n",
      "[120]\tvalidation_0-auc:0.98154\tvalidation_1-auc:0.95766\n",
      "[121]\tvalidation_0-auc:0.98159\tvalidation_1-auc:0.95776\n",
      "[122]\tvalidation_0-auc:0.98164\tvalidation_1-auc:0.95768\n",
      "[123]\tvalidation_0-auc:0.98171\tvalidation_1-auc:0.95767\n",
      "[124]\tvalidation_0-auc:0.98186\tvalidation_1-auc:0.95784\n",
      "[125]\tvalidation_0-auc:0.98194\tvalidation_1-auc:0.95796\n",
      "[126]\tvalidation_0-auc:0.98210\tvalidation_1-auc:0.95799\n",
      "[127]\tvalidation_0-auc:0.98219\tvalidation_1-auc:0.95810\n",
      "[128]\tvalidation_0-auc:0.98235\tvalidation_1-auc:0.95824\n",
      "[129]\tvalidation_0-auc:0.98269\tvalidation_1-auc:0.95835\n",
      "[130]\tvalidation_0-auc:0.98275\tvalidation_1-auc:0.95843\n",
      "[131]\tvalidation_0-auc:0.98305\tvalidation_1-auc:0.95877\n",
      "[132]\tvalidation_0-auc:0.98327\tvalidation_1-auc:0.95897\n",
      "[133]\tvalidation_0-auc:0.98338\tvalidation_1-auc:0.95905\n",
      "[134]\tvalidation_0-auc:0.98346\tvalidation_1-auc:0.95910\n",
      "[135]\tvalidation_0-auc:0.98351\tvalidation_1-auc:0.95909\n",
      "[136]\tvalidation_0-auc:0.98355\tvalidation_1-auc:0.95907\n",
      "[137]\tvalidation_0-auc:0.98369\tvalidation_1-auc:0.95917\n",
      "[138]\tvalidation_0-auc:0.98377\tvalidation_1-auc:0.95917\n",
      "[139]\tvalidation_0-auc:0.98382\tvalidation_1-auc:0.95922\n",
      "[140]\tvalidation_0-auc:0.98393\tvalidation_1-auc:0.95937\n",
      "[141]\tvalidation_0-auc:0.98406\tvalidation_1-auc:0.95947\n",
      "[142]\tvalidation_0-auc:0.98412\tvalidation_1-auc:0.95955\n",
      "[143]\tvalidation_0-auc:0.98420\tvalidation_1-auc:0.95948\n",
      "[144]\tvalidation_0-auc:0.98426\tvalidation_1-auc:0.95957\n",
      "[145]\tvalidation_0-auc:0.98442\tvalidation_1-auc:0.95957\n",
      "[146]\tvalidation_0-auc:0.98456\tvalidation_1-auc:0.95969\n",
      "[147]\tvalidation_0-auc:0.98462\tvalidation_1-auc:0.95967\n",
      "[148]\tvalidation_0-auc:0.98471\tvalidation_1-auc:0.95973\n",
      "[149]\tvalidation_0-auc:0.98480\tvalidation_1-auc:0.95967\n",
      "[150]\tvalidation_0-auc:0.98486\tvalidation_1-auc:0.95976\n",
      "[151]\tvalidation_0-auc:0.98491\tvalidation_1-auc:0.95978\n",
      "[152]\tvalidation_0-auc:0.98512\tvalidation_1-auc:0.96000\n",
      "[153]\tvalidation_0-auc:0.98528\tvalidation_1-auc:0.96008\n",
      "[154]\tvalidation_0-auc:0.98533\tvalidation_1-auc:0.96013\n",
      "[155]\tvalidation_0-auc:0.98536\tvalidation_1-auc:0.96014\n",
      "[156]\tvalidation_0-auc:0.98574\tvalidation_1-auc:0.96038\n",
      "[157]\tvalidation_0-auc:0.98580\tvalidation_1-auc:0.96034\n",
      "[158]\tvalidation_0-auc:0.98586\tvalidation_1-auc:0.96035\n",
      "[159]\tvalidation_0-auc:0.98589\tvalidation_1-auc:0.96026\n",
      "[160]\tvalidation_0-auc:0.98593\tvalidation_1-auc:0.96028\n",
      "[161]\tvalidation_0-auc:0.98608\tvalidation_1-auc:0.96032\n",
      "[162]\tvalidation_0-auc:0.98622\tvalidation_1-auc:0.96029\n",
      "[163]\tvalidation_0-auc:0.98629\tvalidation_1-auc:0.96035\n",
      "[164]\tvalidation_0-auc:0.98642\tvalidation_1-auc:0.96047\n",
      "[165]\tvalidation_0-auc:0.98648\tvalidation_1-auc:0.96047\n",
      "[166]\tvalidation_0-auc:0.98657\tvalidation_1-auc:0.96056\n",
      "[167]\tvalidation_0-auc:0.98666\tvalidation_1-auc:0.96061\n",
      "[168]\tvalidation_0-auc:0.98670\tvalidation_1-auc:0.96061\n",
      "[169]\tvalidation_0-auc:0.98680\tvalidation_1-auc:0.96065\n",
      "[170]\tvalidation_0-auc:0.98684\tvalidation_1-auc:0.96065\n",
      "[171]\tvalidation_0-auc:0.98688\tvalidation_1-auc:0.96077\n",
      "[172]\tvalidation_0-auc:0.98693\tvalidation_1-auc:0.96085\n",
      "[173]\tvalidation_0-auc:0.98699\tvalidation_1-auc:0.96087\n",
      "[174]\tvalidation_0-auc:0.98704\tvalidation_1-auc:0.96087\n",
      "[175]\tvalidation_0-auc:0.98709\tvalidation_1-auc:0.96093\n",
      "[176]\tvalidation_0-auc:0.98716\tvalidation_1-auc:0.96107\n",
      "[177]\tvalidation_0-auc:0.98723\tvalidation_1-auc:0.96107\n",
      "[178]\tvalidation_0-auc:0.98736\tvalidation_1-auc:0.96118\n",
      "[179]\tvalidation_0-auc:0.98748\tvalidation_1-auc:0.96119\n",
      "[180]\tvalidation_0-auc:0.98755\tvalidation_1-auc:0.96123\n",
      "[181]\tvalidation_0-auc:0.98761\tvalidation_1-auc:0.96134\n",
      "[182]\tvalidation_0-auc:0.98767\tvalidation_1-auc:0.96144\n",
      "[183]\tvalidation_0-auc:0.98771\tvalidation_1-auc:0.96142\n",
      "[184]\tvalidation_0-auc:0.98785\tvalidation_1-auc:0.96144\n",
      "[185]\tvalidation_0-auc:0.98790\tvalidation_1-auc:0.96155\n",
      "[186]\tvalidation_0-auc:0.98803\tvalidation_1-auc:0.96176\n",
      "[187]\tvalidation_0-auc:0.98808\tvalidation_1-auc:0.96181\n",
      "[188]\tvalidation_0-auc:0.98813\tvalidation_1-auc:0.96186\n",
      "[189]\tvalidation_0-auc:0.98821\tvalidation_1-auc:0.96187\n",
      "[190]\tvalidation_0-auc:0.98827\tvalidation_1-auc:0.96170\n",
      "[191]\tvalidation_0-auc:0.98833\tvalidation_1-auc:0.96178\n",
      "[192]\tvalidation_0-auc:0.98843\tvalidation_1-auc:0.96186\n",
      "[193]\tvalidation_0-auc:0.98848\tvalidation_1-auc:0.96187\n",
      "[194]\tvalidation_0-auc:0.98854\tvalidation_1-auc:0.96202\n",
      "[195]\tvalidation_0-auc:0.98858\tvalidation_1-auc:0.96201\n",
      "[196]\tvalidation_0-auc:0.98863\tvalidation_1-auc:0.96200\n",
      "[197]\tvalidation_0-auc:0.98877\tvalidation_1-auc:0.96185\n",
      "[198]\tvalidation_0-auc:0.98878\tvalidation_1-auc:0.96185\n",
      "[199]\tvalidation_0-auc:0.98881\tvalidation_1-auc:0.96189\n",
      "[200]\tvalidation_0-auc:0.98884\tvalidation_1-auc:0.96194\n",
      "[201]\tvalidation_0-auc:0.98898\tvalidation_1-auc:0.96205\n",
      "[202]\tvalidation_0-auc:0.98900\tvalidation_1-auc:0.96210\n",
      "[203]\tvalidation_0-auc:0.98907\tvalidation_1-auc:0.96218\n",
      "[204]\tvalidation_0-auc:0.98918\tvalidation_1-auc:0.96235\n",
      "[205]\tvalidation_0-auc:0.98925\tvalidation_1-auc:0.96237\n",
      "[206]\tvalidation_0-auc:0.98935\tvalidation_1-auc:0.96239\n",
      "[207]\tvalidation_0-auc:0.98939\tvalidation_1-auc:0.96247\n",
      "[208]\tvalidation_0-auc:0.98951\tvalidation_1-auc:0.96257\n",
      "[209]\tvalidation_0-auc:0.98956\tvalidation_1-auc:0.96260\n",
      "[210]\tvalidation_0-auc:0.98958\tvalidation_1-auc:0.96262\n",
      "[211]\tvalidation_0-auc:0.98962\tvalidation_1-auc:0.96253\n",
      "[212]\tvalidation_0-auc:0.98966\tvalidation_1-auc:0.96262\n",
      "[213]\tvalidation_0-auc:0.98972\tvalidation_1-auc:0.96259\n",
      "[214]\tvalidation_0-auc:0.98975\tvalidation_1-auc:0.96265\n",
      "[215]\tvalidation_0-auc:0.98980\tvalidation_1-auc:0.96268\n",
      "[216]\tvalidation_0-auc:0.98986\tvalidation_1-auc:0.96263\n",
      "[217]\tvalidation_0-auc:0.98990\tvalidation_1-auc:0.96263\n",
      "[218]\tvalidation_0-auc:0.98998\tvalidation_1-auc:0.96286\n",
      "[219]\tvalidation_0-auc:0.99003\tvalidation_1-auc:0.96285\n",
      "[220]\tvalidation_0-auc:0.99006\tvalidation_1-auc:0.96286\n",
      "[221]\tvalidation_0-auc:0.99011\tvalidation_1-auc:0.96296\n",
      "[222]\tvalidation_0-auc:0.99020\tvalidation_1-auc:0.96308\n",
      "[223]\tvalidation_0-auc:0.99023\tvalidation_1-auc:0.96308\n",
      "[224]\tvalidation_0-auc:0.99030\tvalidation_1-auc:0.96306\n",
      "[225]\tvalidation_0-auc:0.99036\tvalidation_1-auc:0.96327\n",
      "[226]\tvalidation_0-auc:0.99044\tvalidation_1-auc:0.96326\n",
      "[227]\tvalidation_0-auc:0.99047\tvalidation_1-auc:0.96329\n",
      "[228]\tvalidation_0-auc:0.99052\tvalidation_1-auc:0.96337\n",
      "[229]\tvalidation_0-auc:0.99060\tvalidation_1-auc:0.96346\n",
      "[230]\tvalidation_0-auc:0.99064\tvalidation_1-auc:0.96347\n",
      "[231]\tvalidation_0-auc:0.99067\tvalidation_1-auc:0.96348\n",
      "[232]\tvalidation_0-auc:0.99070\tvalidation_1-auc:0.96354\n",
      "[233]\tvalidation_0-auc:0.99074\tvalidation_1-auc:0.96356\n",
      "[234]\tvalidation_0-auc:0.99079\tvalidation_1-auc:0.96369\n",
      "[235]\tvalidation_0-auc:0.99082\tvalidation_1-auc:0.96374\n",
      "[236]\tvalidation_0-auc:0.99086\tvalidation_1-auc:0.96379\n",
      "[237]\tvalidation_0-auc:0.99088\tvalidation_1-auc:0.96378\n",
      "[238]\tvalidation_0-auc:0.99090\tvalidation_1-auc:0.96383\n",
      "[239]\tvalidation_0-auc:0.99095\tvalidation_1-auc:0.96385\n",
      "[240]\tvalidation_0-auc:0.99100\tvalidation_1-auc:0.96386\n",
      "[241]\tvalidation_0-auc:0.99113\tvalidation_1-auc:0.96397\n",
      "[242]\tvalidation_0-auc:0.99123\tvalidation_1-auc:0.96406\n",
      "[243]\tvalidation_0-auc:0.99124\tvalidation_1-auc:0.96415\n",
      "[244]\tvalidation_0-auc:0.99133\tvalidation_1-auc:0.96418\n",
      "[245]\tvalidation_0-auc:0.99137\tvalidation_1-auc:0.96418\n",
      "[246]\tvalidation_0-auc:0.99145\tvalidation_1-auc:0.96427\n",
      "[247]\tvalidation_0-auc:0.99147\tvalidation_1-auc:0.96432\n",
      "[248]\tvalidation_0-auc:0.99170\tvalidation_1-auc:0.96466\n",
      "[249]\tvalidation_0-auc:0.99172\tvalidation_1-auc:0.96464\n"
     ]
    }
   ],
   "source": [
    "clf = xgb.XGBClassifier(**param_dist)\n",
    "from sklearn.metrics import f1_score\n",
    "\n",
    "##TODO train the XGBModel \n",
    "clf.fit(X_train_tfidf, y_train,\n",
    "        eval_set=[(X_train_tfidf, y_train), (X_test_tfidf, y_test)],\n",
    "        eval_metric='auc',\n",
    "        verbose=True)\n",
    "\n",
    "evals_result = clf.evals_result()\n",
    "\n",
    "predictions = clf.predict(X_test_tfidf)\n",
    "#print(predictions[:5], y_test[:5])"
   ]
  },
  {
   "cell_type": "code",
   "execution_count": 119,
   "metadata": {},
   "outputs": [
    {
     "name": "stdout",
     "output_type": "stream",
     "text": [
      "F1:  0.4653550042771599\n"
     ]
    }
   ],
   "source": [
    "#y_test.values\n",
    "print(\"F1: \", f1_score(y_test, predictions))\n"
   ]
  },
  {
   "cell_type": "code",
   "execution_count": null,
   "metadata": {},
   "outputs": [],
   "source": []
  },
  {
   "cell_type": "code",
   "execution_count": null,
   "metadata": {},
   "outputs": [],
   "source": []
  },
  {
   "cell_type": "code",
   "execution_count": null,
   "metadata": {},
   "outputs": [],
   "source": []
  },
  {
   "cell_type": "code",
   "execution_count": null,
   "metadata": {},
   "outputs": [],
   "source": []
  },
  {
   "cell_type": "code",
   "execution_count": null,
   "metadata": {},
   "outputs": [],
   "source": []
  }
 ],
 "metadata": {
  "kernelspec": {
   "display_name": "Python 3",
   "language": "python",
   "name": "python3"
  },
  "language_info": {
   "codemirror_mode": {
    "name": "ipython",
    "version": 3
   },
   "file_extension": ".py",
   "mimetype": "text/x-python",
   "name": "python",
   "nbconvert_exporter": "python",
   "pygments_lexer": "ipython3",
   "version": "3.8.3"
  }
 },
 "nbformat": 4,
 "nbformat_minor": 4
}
