{
 "cells": [
  {
   "cell_type": "code",
   "execution_count": 17,
   "metadata": {},
   "outputs": [],
   "source": [
    "# import packages\n",
    "import pandas as pd\n",
    "import numpy as np\n",
    "from tqdm import tqdm\n",
    "import pickle\n",
    "\n",
    "\n",
    "# import Sklearn packages\n",
    "from sklearn.datasets import load_linnerud\n",
    "from sklearn.model_selection import train_test_split\n",
    "from sklearn.multioutput import MultiOutputRegressor\n",
    "from sklearn.linear_model import Ridge\n",
    "\n",
    "# Read data\n",
    "df_features = pd.read_csv(\"train_features.csv\")\n",
    "df_labels = pd.read_csv(\"train_labels.csv\")"
   ]
  },
  {
   "cell_type": "code",
   "execution_count": 18,
   "metadata": {},
   "outputs": [],
   "source": [
    "all_features = ['pid','Time','Age','EtCO2', 'PTT', 'BUN', 'Lactate', 'Temp', 'Hgb', 'HCO3', 'BaseExcess', 'RRate', 'Fibrinogen', 'Phosphate', 'WBC', 'Creatinine', 'PaCO2', 'AST', 'FiO2', 'Platelets', 'SaO2', 'Glucose', 'ABPm', 'Magnesium', 'Potassium', 'ABPd', 'Calcium', 'Alkalinephos', 'SpO2', 'Bilirubin_direct', 'Chloride', 'Hct', 'Heartrate', 'Bilirubin_total', 'TroponinI', 'ABPs', 'pH']\n",
    "\n",
    "features = ['EtCO2', 'PTT', 'BUN', 'Lactate', 'Temp', 'Hgb', 'HCO3', 'BaseExcess', 'RRate', 'Fibrinogen', 'Phosphate', 'WBC', 'Creatinine', 'PaCO2', 'AST', 'FiO2', 'Platelets', 'SaO2', 'Glucose', 'ABPm', 'Magnesium', 'Potassium', 'ABPd', 'Calcium', 'Alkalinephos', 'SpO2', 'Bilirubin_direct', 'Chloride', 'Hct', 'Heartrate', 'Bilirubin_total', 'TroponinI', 'ABPs', 'pH']\n",
    "\n",
    "labels_test = ['LABEL_BaseExcess', 'LABEL_Fibrinogen', 'LABEL_AST', 'LABEL_Alkalinephos', 'LABEL_Bilirubin_total', 'LABEL_Lactate', 'LABEL_TroponinI', 'LABEL_SaO2', 'LABEL_Bilirubin_direct', 'LABEL_EtCO2', 'LABEL_Sepsis']\n",
    "label_measure = ['LABEL_RRate', 'LABEL_ABPm', 'LABEL_SpO2','LABEL_Heartrate']"
   ]
  },
  {
   "cell_type": "code",
   "execution_count": 19,
   "metadata": {
    "scrolled": true
   },
   "outputs": [
    {
     "name": "stderr",
     "output_type": "stream",
     "text": [
      "18995it [00:01, 13032.47it/s]"
     ]
    },
    {
     "name": "stdout",
     "output_type": "stream",
     "text": [
      "41.4108976046328% of patient are untested\n"
     ]
    },
    {
     "name": "stderr",
     "output_type": "stream",
     "text": [
      "\n"
     ]
    }
   ],
   "source": [
    "#we isolate the patient who dont have undergo test\n",
    "df_test = df_labels[labels_test]\n",
    "untested_patients = []\n",
    "\n",
    "for index, row in tqdm(df_test.iterrows()):\n",
    "    if not True in df_test.values[index]:\n",
    "        untested_patients.append(df_labels['pid'][index])\n",
    "\n",
    "print(str(100*len(untested_patients)/len(df_labels)) + '% of patient are untested')"
   ]
  },
  {
   "cell_type": "code",
   "execution_count": 20,
   "metadata": {},
   "outputs": [],
   "source": [
    "df_features_untested = df_features[df_features['pid'].isin(untested_patients)]\n",
    "df_features_tested = df_features[~df_features['pid'].isin(untested_patients)]"
   ]
  },
  {
   "cell_type": "markdown",
   "metadata": {},
   "source": [
    " we check if there is difference between tested and untested patient"
   ]
  },
  {
   "cell_type": "code",
   "execution_count": 21,
   "metadata": {},
   "outputs": [],
   "source": [
    "median_untested = []\n",
    "median_tested = []\n",
    "for feature in features:\n",
    "    feature_median = np.nanmedian(df_features_untested[feature])\n",
    "    median_untested.append(feature_median)\n",
    "    feature_median = np.nanmedian(df_features_tested[feature])\n",
    "    median_tested.append(feature_median)"
   ]
  },
  {
   "cell_type": "code",
   "execution_count": 22,
   "metadata": {},
   "outputs": [],
   "source": [
    "def std_perso(aMedian,aList):\n",
    "    val = 0\n",
    "    num = 0\n",
    "    for element in aList:\n",
    "        if not np.isnan(element):\n",
    "            val = val + (element-aMedian)**2\n",
    "            num = num + 1\n",
    "    if num != 0:\n",
    "        val =(val/num)**(0.5)\n",
    "        return val\n",
    "    else:\n",
    "        return val"
   ]
  },
  {
   "cell_type": "code",
   "execution_count": 23,
   "metadata": {},
   "outputs": [
    {
     "name": "stderr",
     "output_type": "stream",
     "text": [
      "34it [00:04,  6.93it/s]\n"
     ]
    }
   ],
   "source": [
    "std_untested = []\n",
    "for index,feature in tqdm(enumerate(features)):\n",
    "    feature_median = std_perso(median_untested[index],df_features_untested[feature])\n",
    "    std_untested.append(feature_median)"
   ]
  },
  {
   "cell_type": "code",
   "execution_count": 24,
   "metadata": {},
   "outputs": [
    {
     "name": "stderr",
     "output_type": "stream",
     "text": [
      "34it [00:07,  4.78it/s]\n"
     ]
    }
   ],
   "source": [
    "std_tested = []\n",
    "for index,feature in tqdm(enumerate(features)):\n",
    "    feature_median = std_perso(median_tested[index],df_features_tested[feature])\n",
    "    std_tested.append(feature_median)"
   ]
  },
  {
   "cell_type": "code",
   "execution_count": 25,
   "metadata": {},
   "outputs": [
    {
     "name": "stdout",
     "output_type": "stream",
     "text": [
      "feature : median diff | std difference\n",
      "EtCO2 : 8.881188558074962-7.608736952272735 | 35.0-33.0\n",
      "PTT : 26.108717114691775-27.513056440535625 | 30.0-33.2\n",
      "BUN : 18.61003499972745-22.279982569428654 | 16.0-17.0\n",
      "Lactate : 1.4893767783665541-2.6880309156320457 | 1.75-2.2\n",
      "Temp : 0.7958491878168131-0.9385414999067422 | 37.0-37.0\n",
      "Hgb : 2.0660329435437914-2.0747726313124017 | 10.8-10.4\n",
      "HCO3 : 4.166118602394253-4.47275515561897 | 24.0-23.0\n",
      "BaseExcess : 3.3765570133818907-4.333454202621264 | 0.0--1.0\n",
      "RRate : 4.678503215257392-5.275542717209728 | 18.0-18.0\n",
      "Fibrinogen : 125.09142767141546-137.085682530986 | 270.0-229.0\n",
      "Phosphate : 1.1920750299635157-1.4943754619015706 | 3.4-3.5\n",
      "WBC : 5.8492929530657145-11.844241409943043 | 10.1-10.7\n",
      "Creatinine : 1.945863658714876-1.986326546749564 | 0.9-0.99\n",
      "PaCO2 : 7.591250035890977-9.241907947573985 | 41.0-40.0\n",
      "AST : 76.10149838149387-818.8694909769968 | 25.0-43.0\n",
      "FiO2 : 54.65486271566962-0.21422680442725414 | 0.5-0.5\n",
      "Platelets : 100.64102381251584-106.92619675805719 | 206.0-179.0\n",
      "SaO2 : 7.447173281166348-12.380824893742513 | 98.0-97.0\n",
      "Glucose : 54.87045814043436-59.580493533160606 | 128.0-132.0\n",
      "ABPm : 16.43459890017587-16.757124895368573 | 81.0-79.0\n",
      "Magnesium : 0.3945083111378428-0.46368737920551173 | 1.9-2.0\n",
      "Potassium : 0.6178159654230815-0.6968201812443113 | 4.09-4.1\n",
      "ABPd : 14.118784724160442-13.927957468264704 | 63.0-62.0\n",
      "Calcium : 2.7599303819097085-3.1066367048915726 | 8.3-8.1\n",
      "Alkalinephos : 68.49647826999966-140.78887335601846 | 71.0-73.0\n",
      "SpO2 : 2.6017536959807392-3.1782700014515206 | 98.0-99.0\n",
      "Bilirubin_direct : 0.29201284661924304-3.3807807555519287 | 0.2-0.6\n",
      "Chloride : 5.5616930293553875-6.055953463994324 | 106.0-107.0\n",
      "Hct : 5.688269688905861-5.8011348283296895 | 31.8-30.4\n",
      "Heartrate : 17.135240310603855-17.978625396585862 | 82.0-84.0\n",
      "Bilirubin_total : 1.6563861407393778-3.782744999262916 | 0.7-0.9\n",
      "TroponinI : 12.864997281159704-30.037457046370456 | 0.03-0.35\n",
      "ABPs : 23.231097659534377-23.5000269591844 | 122.0-118.0\n",
      "pH : 0.05894828429843785-0.0774209953314661 | 7.37-7.37\n"
     ]
    }
   ],
   "source": [
    "print('feature : median diff | std difference')\n",
    "for index, feature in enumerate(features):\n",
    "    print(feature +' : '+str(std_untested[index])+'-'+str(std_tested[index])+' | '+str(median_untested[index])+'-'+str(median_tested[index])) "
   ]
  },
  {
   "cell_type": "code",
   "execution_count": 27,
   "metadata": {
    "scrolled": false
   },
   "outputs": [],
   "source": [
    "def median_perso(aMedian,aList):\n",
    "    val = aMedian\n",
    "    num = 0\n",
    "    for element in aList:\n",
    "        if not np.isnan(element):\n",
    "            val = val + (element-aMedian)\n",
    "            num = num + 1\n",
    "    if num != 0:\n",
    "        return (val/num)\n",
    "    else:\n",
    "        return val"
   ]
  },
  {
   "cell_type": "code",
   "execution_count": 28,
   "metadata": {},
   "outputs": [
    {
     "name": "stderr",
     "output_type": "stream",
     "text": [
      "100%|██████████| 18995/18995 [07:37<00:00, 41.55it/s]\n"
     ]
    }
   ],
   "source": [
    "#we create a matrix containing for each row all the data of each patient that we found relevent\n",
    "number_of_patients = int(df_features.shape[0]/12)\n",
    "X_median = []\n",
    "\n",
    "for k in tqdm(range(0,number_of_patients)):\n",
    "    patient_data = []\n",
    "    age = df_features['Age'][k*12]\n",
    "    patient_data.append(age)\n",
    "    patient_features = df_features[features][k*12:(k+1)*12]\n",
    "    for index,feature in enumerate(features):\n",
    "        feature_median_dev = median_perso(median_untested[index],patient_features[feature])\n",
    "        patient_data.append(feature_median_dev)\n",
    "        feature_std_dev = std_perso(median_untested[index],patient_features[feature])-std_untested[index]\n",
    "        patient_data.append(feature_std_dev)\n",
    "    X_median.append(patient_data)\n",
    "\n",
    "import pickle\n",
    "filename = 'data_median.pkl'\n",
    "outfile = open(filename,'wb')\n",
    "pickle.dump(X_median,outfile)\n",
    "outfile.close()"
   ]
  },
  {
   "cell_type": "code",
   "execution_count": 80,
   "metadata": {},
   "outputs": [],
   "source": [
    "pickle_off = open(\"data_median.pkl\",\"rb\")\n",
    "X = pickle.load(pickle_off)"
   ]
  },
  {
   "cell_type": "code",
   "execution_count": 82,
   "metadata": {},
   "outputs": [
    {
     "name": "stdout",
     "output_type": "stream",
     "text": [
      "18995\n",
      "34\n"
     ]
    },
    {
     "ename": "AttributeError",
     "evalue": "'list' object has no attribute 'values'",
     "output_type": "error",
     "traceback": [
      "\u001b[0;31m---------------------------------------------------------------------------\u001b[0m",
      "\u001b[0;31mAttributeError\u001b[0m                            Traceback (most recent call last)",
      "\u001b[0;32m<ipython-input-82-1d9249e4508a>\u001b[0m in \u001b[0;36m<module>\u001b[0;34m\u001b[0m\n\u001b[1;32m      1\u001b[0m \u001b[0mprint\u001b[0m\u001b[0;34m(\u001b[0m\u001b[0mlen\u001b[0m\u001b[0;34m(\u001b[0m\u001b[0mX\u001b[0m\u001b[0;34m)\u001b[0m\u001b[0;34m)\u001b[0m\u001b[0;34m\u001b[0m\u001b[0;34m\u001b[0m\u001b[0m\n\u001b[1;32m      2\u001b[0m \u001b[0mprint\u001b[0m\u001b[0;34m(\u001b[0m\u001b[0mlen\u001b[0m\u001b[0;34m(\u001b[0m\u001b[0mfeatures\u001b[0m\u001b[0;34m)\u001b[0m\u001b[0;34m)\u001b[0m\u001b[0;34m\u001b[0m\u001b[0;34m\u001b[0m\u001b[0m\n\u001b[0;32m----> 3\u001b[0;31m \u001b[0mlen\u001b[0m\u001b[0;34m(\u001b[0m\u001b[0mX\u001b[0m\u001b[0;34m.\u001b[0m\u001b[0mvalues\u001b[0m\u001b[0;34m[\u001b[0m\u001b[0;36m0\u001b[0m\u001b[0;34m]\u001b[0m\u001b[0;34m)\u001b[0m\u001b[0;34m\u001b[0m\u001b[0;34m\u001b[0m\u001b[0m\n\u001b[0m\u001b[1;32m      4\u001b[0m \u001b[0;31m#X = X.dropna()\u001b[0m\u001b[0;34m\u001b[0m\u001b[0;34m\u001b[0m\u001b[0;34m\u001b[0m\u001b[0m\n\u001b[1;32m      5\u001b[0m \u001b[0;31m#X\u001b[0m\u001b[0;34m\u001b[0m\u001b[0;34m\u001b[0m\u001b[0;34m\u001b[0m\u001b[0m\n",
      "\u001b[0;31mAttributeError\u001b[0m: 'list' object has no attribute 'values'"
     ]
    }
   ],
   "source": [
    "print(len(X))\n",
    "print(len(features))\n",
    "len(X.values[0])\n",
    "#X = X.dropna()\n",
    "#X"
   ]
  },
  {
   "cell_type": "code",
   "execution_count": 83,
   "metadata": {},
   "outputs": [],
   "source": [
    "dummy = ['pid','LABEL_RRate', 'LABEL_ABPm', 'LABEL_SpO2', 'LABEL_Heartrate']\n",
    "label_train = ['LABEL_RRate', 'LABEL_ABPm', 'LABEL_SpO2', 'LABEL_Heartrate']\n",
    "\n",
    "Y = df_labels[dummy]\n",
    "#Y = Y[Y['pid'].isin(X['pid'])]\n",
    "\n",
    "#X = X.iloc[: , 1:]"
   ]
  },
  {
   "cell_type": "code",
   "execution_count": 85,
   "metadata": {},
   "outputs": [
    {
     "data": {
      "text/plain": [
       "[34.0,\n",
       " 35.0,\n",
       " -8.881188558074962,\n",
       " 30.0,\n",
       " -26.108717114691775,\n",
       " 1.3333333333333333,\n",
       " -14.61003499972745,\n",
       " 1.75,\n",
       " -1.4893767783665541,\n",
       " 4.375,\n",
       " -0.08874240663026556,\n",
       " 1.366666666666666,\n",
       " 0.16928955369607435,\n",
       " 9.333333333333334,\n",
       " -2.5331254405388006,\n",
       " -0.6666666666666666,\n",
       " -2.2218564750026393,\n",
       " 0.5,\n",
       " -2.6785032152573924,\n",
       " 270.0,\n",
       " -125.09142767141546,\n",
       " 4.6,\n",
       " 0.00792497003648407,\n",
       " -1.4999999999999998,\n",
       " -0.9245256150756926,\n",
       " 0.5,\n",
       " -1.5458636587148762,\n",
       " 16.0,\n",
       " -4.945498724826386,\n",
       " 25.0,\n",
       " -76.10149838149387,\n",
       " 0.05000000000000002,\n",
       " -54.56826017529118,\n",
       " 143.0,\n",
       " -37.64102381251584,\n",
       " 98.0,\n",
       " -7.447173281166348,\n",
       " 120.0,\n",
       " -46.87045814043436,\n",
       " -5.916666666666667,\n",
       " -1.4735383317090296,\n",
       " 0.28000000000000014,\n",
       " -0.05099703039148945,\n",
       " 1.2733333333333332,\n",
       " -0.45018541928067934,\n",
       " -7.5,\n",
       " 0.3308404151525721,\n",
       " 7.6,\n",
       " -2.0599303819097075,\n",
       " 71.0,\n",
       " -68.49647826999966,\n",
       " 10.166666666666666,\n",
       " -0.6017536959807392,\n",
       " 0.2,\n",
       " -0.29201284661924304,\n",
       " 41.333333333333336,\n",
       " 0.6027209736135886,\n",
       " -3.3000000000000007,\n",
       " 2.9596587720995062,\n",
       " 1.9166666666666667,\n",
       " -2.931367599262064,\n",
       " 0.7,\n",
       " -1.6563861407393778,\n",
       " 0.03,\n",
       " -12.864997281159704,\n",
       " 2.6666666666666665,\n",
       " -9.441004597242642,\n",
       " 1.0528571428571427,\n",
       " -0.030664013050976012]"
      ]
     },
     "execution_count": 85,
     "metadata": {},
     "output_type": "execute_result"
    }
   ],
   "source": [
    "X[0]"
   ]
  },
  {
   "cell_type": "code",
   "execution_count": 86,
   "metadata": {},
   "outputs": [],
   "source": [
    "from sklearn.datasets import make_regression\n",
    "from sklearn.multioutput import MultiOutputRegressor\n",
    "from sklearn.svm import SVR\n",
    "from sklearn.model_selection import train_test_split\n",
    "from sklearn.metrics import mean_squared_error, mean_absolute_error"
   ]
  },
  {
   "cell_type": "code",
   "execution_count": 92,
   "metadata": {},
   "outputs": [],
   "source": [
    "# Train/test split\n",
    "X_train, X_test, y_train, y_test = train_test_split(X, Y, test_size=0.1)"
   ]
  },
  {
   "cell_type": "code",
   "execution_count": 93,
   "metadata": {},
   "outputs": [],
   "source": [
    "# Create the SVR regressor\n",
    "svr = SVR(epsilon=0.2)"
   ]
  },
  {
   "cell_type": "code",
   "execution_count": 94,
   "metadata": {},
   "outputs": [],
   "source": [
    "# Create the Multioutput Regressor\n",
    "mor = MultiOutputRegressor(svr)\n",
    "\n",
    "# Train the regressor\n",
    "mor = mor.fit(X_train, y_train)"
   ]
  },
  {
   "cell_type": "code",
   "execution_count": 95,
   "metadata": {},
   "outputs": [],
   "source": [
    "# Generate predictions for testing data\n",
    "y_pred = mor.predict(X_test)"
   ]
  },
  {
   "cell_type": "code",
   "execution_count": 96,
   "metadata": {},
   "outputs": [
    {
     "data": {
      "text/plain": [
       "0.23184161339975012"
      ]
     },
     "execution_count": 96,
     "metadata": {},
     "output_type": "execute_result"
    }
   ],
   "source": [
    "from sklearn.metrics import r2_score\n",
    "r2_score(y_test, y_pred) "
   ]
  },
  {
   "cell_type": "code",
   "execution_count": null,
   "metadata": {},
   "outputs": [],
   "source": []
  }
 ],
 "metadata": {
  "kernelspec": {
   "display_name": "Python 3",
   "language": "python",
   "name": "python3"
  },
  "language_info": {
   "codemirror_mode": {
    "name": "ipython",
    "version": 3
   },
   "file_extension": ".py",
   "mimetype": "text/x-python",
   "name": "python",
   "nbconvert_exporter": "python",
   "pygments_lexer": "ipython3",
   "version": "3.8.5"
  }
 },
 "nbformat": 4,
 "nbformat_minor": 4
}
