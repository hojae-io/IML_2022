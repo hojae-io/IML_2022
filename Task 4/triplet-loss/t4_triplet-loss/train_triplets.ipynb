{
 "cells": [
  {
   "cell_type": "code",
   "execution_count": null,
   "id": "6fe5c4d5",
   "metadata": {},
   "outputs": [],
   "source": [
    "import tensorflow as tf\n",
    "from preprocessing import PreProcessing\n",
    "from model import TripletLoss"
   ]
  },
  {
   "cell_type": "code",
   "execution_count": 1,
   "id": "0de45d94",
   "metadata": {},
   "outputs": [
    {
     "name": "stdout",
     "output_type": "stream",
     "text": [
      "Python 3.7.10\n"
     ]
    }
   ],
   "source": []
  },
  {
   "cell_type": "code",
   "execution_count": null,
   "id": "4a755585",
   "metadata": {},
   "outputs": [],
   "source": [
    "flags = tf.app.flags\n",
    "FLAGS = flags.FLAGS\n",
    "flags.DEFINE_integer('batch_size', 512, 'Batch size.')\n",
    "flags.DEFINE_integer('train_iter', 2000, 'Total training iter')\n",
    "flags.DEFINE_integer('step', 50, 'Save after ... iteration')\n",
    "flags.DEFINE_float('learning_rate','0.01','Learning rate')\n",
    "flags.DEFINE_float('momentum','0.99', 'Momentum')\n",
    "flags.DEFINE_string('model', 'conv_net', 'model to run')\n",
    "flags.DEFINE_string('data_src', './data_repository/geological_similarity/', 'source of training dataset')\n",
    "\n",
    "if __name__ == \"__main__\":\n",
    "\n",
    "    # Setup Dataset\n",
    "    dataset = PreProcessing(FLAGS.data_src)\n",
    "    model = TripletLoss()\n",
    "    placeholder_shape = [None] + list(dataset.images_train.shape[1:])\n",
    "    print(\"placeholder_shape\", placeholder_shape)\n",
    "\n",
    "    # Setup Network\n",
    "    next_batch = dataset.get_triplets_batch\n",
    "    anchor_input = tf.placeholder(tf.float32, placeholder_shape, name='anchor_input')\n",
    "    positive_input = tf.placeholder(tf.float32, placeholder_shape, name='positive_input')\n",
    "    negative_input = tf.placeholder(tf.float32, placeholder_shape, name='negative_input')\n",
    "\n",
    "    margin = 0.5\n",
    "    anchor_output = model.conv_net(anchor_input, reuse=False)\n",
    "    positive_output = model.conv_net(positive_input, reuse=True)\n",
    "    negative_output = model.conv_net(negative_input, reuse=True)\n",
    "    loss = model.triplet_loss(anchor_output, positive_output, negative_output, margin)\n",
    "\n",
    "    # Setup Optimizer\n",
    "    global_step = tf.Variable(0, trainable=False)\n",
    "\n",
    "    train_step = tf.train.MomentumOptimizer(FLAGS.learning_rate, FLAGS.momentum, use_nesterov=True).minimize(loss,\n",
    "                                                                                                             global_step=global_step)\n",
    "\n",
    "    # Start Training\n",
    "    saver = tf.train.Saver()\n",
    "    with tf.Session() as sess:\n",
    "        sess.run(tf.global_variables_initializer())\n",
    "\n",
    "        # Setup Tensorboard\n",
    "        tf.summary.scalar('step', global_step)\n",
    "        tf.summary.scalar('loss', loss)\n",
    "        for var in tf.trainable_variables():\n",
    "            tf.summary.histogram(var.op.name, var)\n",
    "        merged = tf.summary.merge_all()\n",
    "        writer = tf.summary.FileWriter('train.log', sess.graph)\n",
    "\n",
    "        # Train iter\n",
    "        for i in range(FLAGS.train_iter):\n",
    "            batch_anchor, batch_positive, batch_negative = next_batch(FLAGS.batch_size)\n",
    "\n",
    "            _, l, summary_str = sess.run([train_step, loss, merged],\n",
    "                                         feed_dict={anchor_input: batch_anchor, positive_input: batch_positive, negative_input: batch_negative})\n",
    "\n",
    "            writer.add_summary(summary_str, i)\n",
    "            print(\"\\r#%d - Loss\" % i, l)\n",
    "\n",
    "            if (i + 1) % FLAGS.step == 0:\n",
    "                saver.save(sess, \"model_triplet/model.ckpt\")\n",
    "        saver.save(sess, \"model_triplet/model.ckpt\")\n",
    "    print('Training completed successfully.')"
   ]
  }
 ],
 "metadata": {
  "kernelspec": {
   "display_name": "Python 3",
   "language": "python",
   "name": "python3"
  },
  "language_info": {
   "codemirror_mode": {
    "name": "ipython",
    "version": 3
   },
   "file_extension": ".py",
   "mimetype": "text/x-python",
   "name": "python",
   "nbconvert_exporter": "python",
   "pygments_lexer": "ipython3",
   "version": "3.7.10"
  }
 },
 "nbformat": 4,
 "nbformat_minor": 5
}
