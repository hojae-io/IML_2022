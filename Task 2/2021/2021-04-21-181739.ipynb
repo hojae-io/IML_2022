{
 "cells": [
  {
   "cell_type": "code",
   "execution_count": 0,
   "metadata": {
    "collapsed": false
   },
   "outputs": [
   ],
   "source": [
    "# import packages\n",
    "from statistics import mean\n",
    "import pandas as pd\n",
    "import numpy as np\n",
    "\n",
    "# import Sklearn packages\n",
    "from sklearn.svm import SVC\n",
    "from sklearn.model_selection import train_test_split\n",
    "import sklearn.metrics as metrics\n",
    "\n",
    "# Read data\n",
    "df_features = pd.read_csv(\"train_features.csv\")\n",
    "df_labels = pd.read_csv(\"train_labels.csv\")\n",
    "\n",
    "features_subtask1 = [\"BaseExcess\" ,\"Fibrinogen\",\"AST\",\"Alkalinephos\",\"Bilirubin_total\",\"Lactate\",\"TroponinI\",\"SaO2\",\"Bilirubin_direct\",\"EtCO2\"]\n",
    "features_subtask2 = [\"Sepsis\"]\n",
    "\n",
    "label_subtask1 = [\"LABEL_BaseExcess\" ,\"LABEL_Fibrinogen\",\"LABEL_AST\",\"LABEL_Alkalinephos\",\"LABEL_Bilirubin_total\",\"LABEL_Lactate\",\"LABEL_TroponinI\",\"LABEL_SaO2\",\"LABEL_Bilirubin_direct\",\"LABEL_EtCO2\"]\n",
    "label_subtask2 = [\"LABEL_Sepsis\"]\n"
   ]
  },
  {
   "cell_type": "code",
   "execution_count": 0,
   "metadata": {
    "collapsed": false
   },
   "outputs": [
   ],
   "source": [
    "# preprocess:\n",
    "# replace NaN by the mean value of the column\n",
    "df_features.fillna(df_features.mean(), inplace=True) #median + age range\n",
    "\n",
    "patientID = df_features[\"pid\"].drop_duplicates()\n",
    "nbrpatient = patientID.size"
   ]
  },
  {
   "cell_type": "code",
   "execution_count": 0,
   "metadata": {
    "collapsed": false
   },
   "outputs": [
   ],
   "source": [
    "Results = pd.DataFrame()\n",
    "for i in features_subtask1:\n",
    "    X = df_features[[i]].to_numpy().reshape(nbrpatient,12)\n",
    "    Y = df_labels[\"LABEL_\"+i]\n",
    "    X_train, X_test, Y_train, Y_test = train_test_split(X,Y,test_size=0.2)\n",
    "\n",
    "    model1 = SVC()\n",
    "    print(i)\n",
    "    model1.fit(X_train,Y_train)\n",
    "    Y_predicted = model1.predict(X_test)   #call decision_function instead\n",
    "    #print(model1.score(X_test,Y_test))\n",
    "\n",
    "    Results[\"LABEL_\"+i] = Y_predicted\n",
    "    print(metrics.roc_auc_score(Y_test, Y_predicted))\n"
   ]
  }
 ],
 "metadata": {
  "kernelspec": {
   "display_name": "Python 3 (system-wide)",
   "language": "python",
   "metadata": {
    "cocalc": {
     "description": "Python 3 programming language",
     "priority": 100,
     "url": "https://www.python.org/"
    }
   },
   "name": "python3",
   "resource_dir": "/ext/jupyter/kernels/python3"
  }
 },
 "nbformat": 4,
 "nbformat_minor": 4
}